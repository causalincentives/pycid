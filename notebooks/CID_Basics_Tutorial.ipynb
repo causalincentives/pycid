{
 "cells": [
  {
   "cell_type": "markdown",
   "metadata": {
    "id": "0-Yta9-nTbV6"
   },
   "source": [
    "# Introduction to CIDs\n",
    "\n",
    "This notebook introduces CIDs, how to specify decsions and utility nodes, and how to find optimal policies.\n",
    "\n",
    "To open and run this notebook in your browser with Google Colab, use this link:\n",
    "\n",
    "[![Open In Colab](https://colab.research.google.com/assets/colab-badge.svg)](https://colab.research.google.com/github/causalincentives/pycid/blob/master/notebooks/CID_Basics_Tutorial.ipynb)\n",
    "\n",
    "### Table of contents\n",
    "1. [Definitions](#defs)\n",
    "2. [Instantiating and Plotting a CID](#cid)\n",
    "3. [Graphical Properties](#DAG)\n",
    "4. [Causal Influence Models](#CIM)\n",
    "5. [Solving CIMs](#Solving)"
   ]
  },
  {
   "cell_type": "code",
   "execution_count": 1,
   "metadata": {
    "id": "cWpA34viTbV_",
    "colab": {
     "base_uri": "https://localhost:8080/"
    },
    "outputId": "200e8ca8-2096-4b08-9713-5a8724dee8b1"
   },
   "outputs": [
    {
     "output_type": "stream",
     "name": "stderr",
     "text": [
      "/usr/local/lib/python3.7/dist-packages/statsmodels/tools/_testing.py:19: FutureWarning: pandas.util.testing is deprecated. Use the functions in the public API at pandas.testing instead.\n",
      "  import pandas.util.testing as tm\n"
     ]
    }
   ],
   "source": [
    "# importing necessary libraries\n",
    "try:\n",
    "    import pycid\n",
    "except ModuleNotFoundError:\n",
    "    import sys\n",
    "\n",
    "    !{sys.executable} -m pip install git+https://github.com/causalincentives/pycid # for the latest development version\n",
    "    import pycid\n",
    "\n",
    "import numpy as np"
   ]
  },
  {
   "cell_type": "markdown",
   "metadata": {
    "id": "XvItIMFNTbWD"
   },
   "source": [
    "# 1) Defintions <a name=\"defs\"></a>"
   ]
  },
  {
   "cell_type": "markdown",
   "metadata": {
    "id": "8kT4H-iYTbWD"
   },
   "source": [
    "We begin this tutorial by defining a causal influence diagram (CID) and a causal influence model (CIM):"
   ]
  },
  {
   "cell_type": "markdown",
   "metadata": {
    "id": "IYCqDkyXTbWE"
   },
   "source": [
    "<div class=\"alert alert-block alert-info\">\n",
    "<b>Definition:</b> \n",
    "A <b>Causal influence Diagram (CID)</b> (Everitt et al, 2021) is a tuple $(\\textbf{V}, \\textbf{E})$  where:\n",
    "    \n",
    "   - $(\\textbf{V}, \\textbf{E})$ is a directed acyclic graph with a set of vertices $\\textbf{V}$ connected by directed edges $\\textbf{E} \\subseteq \\textbf{V} \\times \\textbf{V}$. \n",
    " \n",
    " These vertices are partitioned into:\n",
    "    \n",
    "    - $\\textbf{D} \\subseteq \\textbf{V}$ is a set of decision nodes represented by rectangles.\n",
    "        \n",
    "    - $\\textbf{U} \\subseteq \\textbf{V} \\setminus \\textbf{D}$ is a set of utility nodes represented by diamonds and utility nodes have no successors.\n",
    "        \n",
    "    - $\\textbf{X} = \\textbf{V} \\setminus (\\textbf{D} \\cup \\textbf{U})$ is the set of chance nodes represented by ovals.\n",
    "    \n",
    "   \n",
    "</div> \n",
    " "
   ]
  },
  {
   "cell_type": "markdown",
   "metadata": {
    "id": "AczuCOYrTbWF"
   },
   "source": [
    "<div class=\"alert alert-block alert-info\">\n",
    "<b>Definition:</b> \n",
    "A <b>Causal influence Model (CIM)</b> (Everitt et al, 2021) is a tuple $(\\textbf{V}, \\textbf{E}, \\theta)$  where $(\\textbf{V}, \\textbf{E})$ is a CID and:\n",
    "      \n",
    "- $\\theta$ is a parameterisation over the nodes in the CID specifying:\n",
    "    \n",
    "     - A finite domain $dom(V)$ for each node $V \\in \\textbf{V}$.\n",
    "        \n",
    "     - Real-valued domains $dom(U) \\subset \\mathbb{R}$ for all utility nodes $U \\in \\textbf{U}$.\n",
    "        \n",
    "     - A set of conditional probability distributions (CPDs), $\\Pr(\\textbf{V} \\mid pa_V$), for every chance and utility node $\\textbf{X} \\cup \\textbf{U} \\in \\textbf{V}$. Taken together, these form a partial distribution $\\Pr(\\textbf{X},\\textbf{U} : \\textbf{D}) = \\prod_{V \\in \\textbf{V} \\setminus \\textbf{D}} \\Pr(V | Pa_V)$ over the variables in the CID.\n",
    "        \n",
    "</div> "
   ]
  },
  {
   "cell_type": "markdown",
   "metadata": {
    "id": "YyHTTPvKTbWG"
   },
   "source": [
    "# 2) Instantiating and plotting a CID <a name=\"cid\"></a>"
   ]
  },
  {
   "cell_type": "markdown",
   "metadata": {
    "id": "opP4hG0GTbWH"
   },
   "source": [
    "For many purposes, including incentive analysis in single-decision CIDs (see the incentives tutorial), we only need to know the causal relationships between variables (we need not specify a parameterisation). So, we will start by showing how to instantiate a simple CID in this codebase."
   ]
  },
  {
   "cell_type": "markdown",
   "metadata": {
    "id": "z6EbQGI0TbWI"
   },
   "source": [
    "We need to specify:\n",
    "\n",
    "- the graph's set of nodes and edges.\n",
    "- the partioning of all nodes into decision, utility, and chance nodes."
   ]
  },
  {
   "cell_type": "markdown",
   "metadata": {
    "id": "ZuGqkxrzTbWI"
   },
   "source": [
    "Our first example is taken from Everitt et al (2019)'s \"Understanding Agent Incentives using\n",
    "Causal Influence Diagrams\":\n",
    "\n",
    "__Fitness Tracker Example:__ _A machine learning systemis  recommending  calorie  intake  (decision)  to  optimizethe user’s fitness (utility). The optimal calorie intake de-pends on the person’s physical activity, which cannot be measured directly. Instead, the decision must be based on a step count provided by a fitness tracker. The tracker designer developed the software behind the tracker firmware of the fitness counter's step counter._ \n",
    "\n",
    "- TD = Tracker designer\n",
    "- TF = Tracker firmware\n",
    "- SC = Step count\n",
    "- EF = Estimation Formula\n",
    "- EWD = Estimated Walking Distance\n",
    "- P = Physical activity\n",
    "- D = Dirty clothes\n",
    "- C = Reccomended calorie intake (decision node)\n",
    "- F = Fitness (utility node)"
   ]
  },
  {
   "cell_type": "markdown",
   "metadata": {
    "id": "BaBJ8XTJTbWJ"
   },
   "source": [
    "A cid for this example is created as an instance of our CID class. Its constructor takes the edges of the cid as its first argument, then a specification of the cid's decision and utility nodes. All other nodes which are not decision or utility nodes, but were introduced in the edge pairs, are chance nodes."
   ]
  },
  {
   "cell_type": "code",
   "execution_count": 2,
   "metadata": {
    "id": "EZxPgaxCTbWJ"
   },
   "outputs": [],
   "source": [
    "cid = pycid.CID(\n",
    "    [\n",
    "        (\"TD\", \"TF\"),  # an edge TD -> TF exists\n",
    "        (\"TF\", \"SC\"),\n",
    "        (\"TF\", \"C\"),\n",
    "        (\"EF\", \"EWD\"),\n",
    "        (\"EWD\", \"C\"),\n",
    "        (\"C\", \"F\"),\n",
    "        (\"P\", \"D\"),\n",
    "        (\"P\", \"SC\"),\n",
    "        (\"P\", \"F\"),\n",
    "        (\"SC\", \"C\"),\n",
    "        (\"SC\", \"EWD\"),\n",
    "    ],\n",
    "    decisions=[\"C\"],\n",
    "    utilities=[\"F\"],\n",
    ")"
   ]
  },
  {
   "cell_type": "markdown",
   "metadata": {
    "id": "0p3jwupJTbWK"
   },
   "source": [
    "We call the CID class' method \"draw\" to plot this single-agent CID. Decision variables are denoted by blue rectangles, utilty nodes by yellow diamonds, and chance nodes by gray circles."
   ]
  },
  {
   "cell_type": "code",
   "execution_count": 3,
   "metadata": {
    "id": "xpy5sWSUTbWK",
    "outputId": "ef9f2516-e8b0-4a1d-d904-bbf33729b212",
    "colab": {
     "base_uri": "https://localhost:8080/",
     "height": 248
    }
   },
   "outputs": [
    {
     "output_type": "display_data",
     "data": {
      "image/png": "[encoded data removed]",
      "text/plain": [
       "<Figure size 432x288 with 1 Axes>"
      ]
     },
     "metadata": {}
    }
   ],
   "source": [
    "cid.draw()"
   ]
  },
  {
   "cell_type": "markdown",
   "metadata": {
    "id": "8MEW-lUXTbWR"
   },
   "source": [
    "# 4) Causal Influence Models <a name=\"CIM\"></a>"
   ]
  },
  {
   "cell_type": "markdown",
   "metadata": {
    "id": "FpEvs6ThTbWS"
   },
   "source": [
    "Recall from the definitions earlier that a causal influence model is a parameterised CID."
   ]
  },
  {
   "cell_type": "markdown",
   "metadata": {
    "id": "mns7eV9jTbWS"
   },
   "source": [
    "Consider a simple 3 node cid:"
   ]
  },
  {
   "cell_type": "code",
   "execution_count": 4,
   "metadata": {
    "id": "Z1CSv50KTbWS"
   },
   "outputs": [],
   "source": [
    "cid = pycid.CID([(\"X\", \"D\"), (\"X\", \"U\"), (\"D\", \"U\")], decisions=[\"D\"], utilities=[\"U\"])"
   ]
  },
  {
   "cell_type": "code",
   "execution_count": 5,
   "metadata": {
    "id": "Zklog6feTbWS",
    "outputId": "e729869d-2f46-42a9-b5de-0f6ac9065f34",
    "colab": {
     "base_uri": "https://localhost:8080/",
     "height": 248
    }
   },
   "outputs": [
    {
     "output_type": "display_data",
     "data": {
      "image/png": "[encoded data removed]",
      "text/plain": [
       "<Figure size 432x288 with 1 Axes>"
      ]
     },
     "metadata": {}
    }
   ],
   "source": [
    "cid.draw()"
   ]
  },
  {
   "cell_type": "markdown",
   "metadata": {
    "id": "Z5yzAiCbTbWS"
   },
   "source": [
    "We can parameterise it as follows. In particular, note that we don't need to specify a particular relationship for the decision D -- a list of possible values suffices."
   ]
  },
  {
   "cell_type": "code",
   "execution_count": 6,
   "metadata": {
    "id": "HQmWyvSkTbWS"
   },
   "outputs": [],
   "source": [
    "cid.model.update(\n",
    "    X=pycid.discrete_uniform([0, 1]),  # A uniform random CPD over its domain [0,1]\n",
    "    U=lambda X, D: int(X == D),  # specifies how 'U''s CPD functionally depends on its parents ('D' and 'S').\n",
    "    D=[0, 1],\n",
    ")  # specifies the domain of 'D' as [0,1]."
   ]
  },
  {
   "cell_type": "code",
   "execution_count": 7,
   "metadata": {
    "id": "xd8EH_6tTbWT",
    "outputId": "1cd47bf9-06c7-44e3-ad64-0d77ff6e5335",
    "colab": {
     "base_uri": "https://localhost:8080/",
     "height": 248
    }
   },
   "outputs": [
    {
     "output_type": "display_data",
     "data": {
      "image/png": "[encoded data removed]",
      "text/plain": [
       "<Figure size 432x288 with 1 Axes>"
      ]
     },
     "metadata": {}
    }
   ],
   "source": [
    "cid.draw()  # adds labels to the nodes in the CID to make us aware that we now have a CIM."
   ]
  },
  {
   "cell_type": "markdown",
   "metadata": {
    "id": "mYzaiCzyTbWT"
   },
   "source": [
    "## 5) Solving CIMs <a name=\"Solving\"></a>\n",
    "\n",
    "Solving a CIM means finding an optimal policy:"
   ]
  },
  {
   "cell_type": "code",
   "execution_count": 8,
   "metadata": {
    "id": "nO_k9L5fTbWT",
    "outputId": "bf5c58d5-894c-4bb5-81d5-14716d73a406",
    "colab": {
     "base_uri": "https://localhost:8080/"
    }
   },
   "outputs": [
    {
     "output_type": "execute_result",
     "data": {
      "text/plain": [
       "{'D': StochasticFunctionCPD<D> \n",
       " {'X': 0}  ->  0\n",
       " {'X': 1}  ->  1}"
      ]
     },
     "metadata": {},
     "execution_count": 8
    }
   ],
   "source": [
    "cid.solve()"
   ]
  },
  {
   "cell_type": "markdown",
   "metadata": {
    "id": "wb4r_uS1TbWT"
   },
   "source": [
    "The optimal policy for 'D' is to choose action $0$ when the value of 'X' is 0, and action $1$ when the value of 'X' is $1$."
   ]
  },
  {
   "cell_type": "markdown",
   "metadata": {
    "id": "14qCSO8WTbWU"
   },
   "source": [
    "We can determine the agent's expected utility for this optimal policy by adding it back into the model:"
   ]
  },
  {
   "cell_type": "code",
   "execution_count": 9,
   "metadata": {
    "id": "Vrm7hj72TbWU",
    "outputId": "74d28395-0d86-4322-f40d-6edb4635b717",
    "colab": {
     "base_uri": "https://localhost:8080/"
    }
   },
   "outputs": [
    {
     "output_type": "execute_result",
     "data": {
      "text/plain": [
       "1.0"
      ]
     },
     "metadata": {},
     "execution_count": 9
    }
   ],
   "source": [
    "cid.model.update(**cid.solve())  # or, shorter, cid.impute_optimal_policy()\n",
    "cid.expected_utility(\n",
    "    context={}, intervention={}\n",
    ")  # The argument in an empty dictionary because we do not need to specify a context."
   ]
  },
  {
   "cell_type": "markdown",
   "metadata": {
    "id": "Rz-QNePJTbWU"
   },
   "source": [
    "Now let's turn to the case where the CID has more than one decision node. "
   ]
  },
  {
   "cell_type": "code",
   "execution_count": 10,
   "metadata": {
    "id": "hgDghI6FTbWU"
   },
   "outputs": [],
   "source": [
    "cid = pycid.CID(\n",
    "    [(\"X1\", \"X2\"), (\"X1\", \"D1\"), (\"D1\", \"X2\"), (\"X2\", \"U\"), (\"X2\", \"D2\"), (\"D2\", \"U\")],\n",
    "    decisions=[\"D1\", \"D2\"],  # two decision nodes 'D1' and 'D2'\n",
    "    utilities=[\"U\"],\n",
    ")\n",
    "\n",
    "# adding a parametirsation:\n",
    "cid.model.update(\n",
    "    X1=pycid.discrete_uniform([0, 1]),\n",
    "    D1=[0, 1],\n",
    "    D2=[0, 1],\n",
    "    X2=lambda X1, D1: int(X1 == D1),\n",
    "    U=lambda X2, D2: int(X2 == D2),\n",
    ")"
   ]
  },
  {
   "cell_type": "code",
   "execution_count": 11,
   "metadata": {
    "id": "Gdqtjm3-TbWV",
    "outputId": "b1082f81-5f1e-46ba-e2ae-4f0dd9dd2d46",
    "colab": {
     "base_uri": "https://localhost:8080/",
     "height": 248
    }
   },
   "outputs": [
    {
     "output_type": "display_data",
     "data": {
      "image/png": "[encoded data removed]",
      "text/plain": [
       "<Figure size 432x288 with 1 Axes>"
      ]
     },
     "metadata": {}
    }
   ],
   "source": [
    "cid.draw()"
   ]
  },
  {
   "cell_type": "markdown",
   "metadata": {
    "id": "V9xE5ksZTbWV"
   },
   "source": [
    "In order to compute a subgame perfect policy, the CID must have sufficient recall (see the definition based on strategic relevance in the MACID tutorial) - \n",
    "Does the optimal deicion rule for 'D2' depend on the optimal decision rule for \"D1\" and vice versa? If only one decision relies on the other, then we can solve the cid using backwards induction and the CID has sufficent recall. However, if both decisions depend on one another, then the CID has insufficient recall. \n",
    "\n",
    "Note: Insufficient recall in the context of CIDs means that the agent forgets the decision choices they chose previously (hence the name), and so is rare. A generalised condition for when we can and cannot perform backwards induction becomes more important in the context of multi-agent CIDs when multiple agents might have to make decisions simultaneously (eg a prisoner's dilemma)."
   ]
  },
  {
   "cell_type": "code",
   "execution_count": 12,
   "metadata": {
    "id": "B4-d8mk1TbWV",
    "outputId": "d5f4072e-8518-44e0-b871-156414d21936",
    "colab": {
     "base_uri": "https://localhost:8080/"
    }
   },
   "outputs": [
    {
     "output_type": "stream",
     "name": "stdout",
     "text": [
      "True\n"
     ]
    }
   ],
   "source": [
    "print(cid.sufficient_recall())"
   ]
  },
  {
   "cell_type": "code",
   "execution_count": 13,
   "metadata": {
    "id": "QUC1M4c0TbWV",
    "outputId": "800f8dc5-0c11-4304-abe6-058263b07ad1",
    "colab": {
     "base_uri": "https://localhost:8080/"
    }
   },
   "outputs": [
    {
     "output_type": "stream",
     "name": "stdout",
     "text": [
      "StochasticFunctionCPD<D2> \n",
      "{'X2': 0}  ->  0\n",
      "{'X2': 1}  ->  1\n"
     ]
    }
   ],
   "source": [
    "solution = cid.solve()\n",
    "print(solution[\"D2\"])"
   ]
  },
  {
   "cell_type": "code",
   "execution_count": 14,
   "metadata": {
    "id": "vbV9gRIxTbWW",
    "outputId": "55ec10bf-3339-46c9-ba53-3013b86e6989",
    "colab": {
     "base_uri": "https://localhost:8080/"
    }
   },
   "outputs": [
    {
     "output_type": "stream",
     "name": "stdout",
     "text": [
      "StochasticFunctionCPD<D1> \n",
      "{'X1': 0}  ->  0\n",
      "{'X1': 1}  ->  0\n"
     ]
    }
   ],
   "source": [
    "print(solution[\"D1\"])"
   ]
  },
  {
   "cell_type": "markdown",
   "metadata": {
    "id": "kU3_UT9STbWW"
   },
   "source": [
    "So, as expected from the setup, an optimal policy is to pick $0/1$ at $D2$ if 'S2' = 0/1 (it should match what the value of 'S2' is) and to always select $0$ at $D1$."
   ]
  },
  {
   "cell_type": "markdown",
   "metadata": {
    "id": "Ccyp7pj1TbWW"
   },
   "source": [
    "We can again find the expected utility for this policy:"
   ]
  },
  {
   "cell_type": "code",
   "execution_count": 15,
   "metadata": {
    "id": "3tgOj6muTbWW",
    "colab": {
     "base_uri": "https://localhost:8080/"
    },
    "outputId": "f12bd3d2-2e0a-4e88-98be-099c34c85464"
   },
   "outputs": [
    {
     "output_type": "execute_result",
     "data": {
      "text/plain": [
       "1.0"
      ]
     },
     "metadata": {},
     "execution_count": 15
    }
   ],
   "source": [
    "cid.model.update(**solution)\n",
    "cid.expected_utility({})"
   ]
  }
 ],
 "metadata": {
  "kernelspec": {
   "display_name": "Python 3",
   "language": "python",
   "name": "python3"
  },
  "language_info": {
   "codemirror_mode": {
    "name": "ipython",
    "version": 3
   },
   "file_extension": ".py",
   "mimetype": "text/x-python",
   "name": "python",
   "nbconvert_exporter": "python",
   "pygments_lexer": "ipython3",
   "version": "3.8.8"
  },
  "colab": {
   "name": "Copy of CID_Basics_Tutorial.ipynb",
   "provenance": []
  }
 },
 "nbformat": 4,
 "nbformat_minor": 0
}
