{
 "cells": [
  {
   "cell_type": "markdown",
   "metadata": {},
   "source": [
    "# Introduction to CIDs"
   ]
  },
  {
   "cell_type": "code",
   "execution_count": 1,
   "metadata": {},
   "outputs": [
    {
     "data": {
      "application/javascript": [
       "IPython.notebook.set_autosave_interval(60000)"
      ]
     },
     "metadata": {},
     "output_type": "display_data"
    },
    {
     "name": "stdout",
     "output_type": "stream",
     "text": [
      "Autosaving every 60 seconds\n"
     ]
    }
   ],
   "source": [
    "#importing necessary libraries\n",
    "%load_ext autoreload\n",
    "%autoreload 2\n",
    "%matplotlib inline\n",
    "%autosave 60\n",
    "import sys\n",
    "sys.path.append(\"..\") #TODO: make /cid a package, then delete this\n",
    "import numpy as np\n",
    "from core.cid import CID\n",
    "from core.macid import MACID\n",
    "from core.get_paths import find_active_path, get_motifs, find_all_dir_paths\n",
    "from core.cpd import FunctionCPD, DecisionDomain, UniformRandomCPD"
   ]
  },
  {
   "cell_type": "markdown",
   "metadata": {},
   "source": [
    "## A) Defintions"
   ]
  },
  {
   "cell_type": "markdown",
   "metadata": {},
   "source": [
    "We begin this tutorial by defining a causal influence diagram (CID) and a causal influence model (CIM):"
   ]
  },
  {
   "cell_type": "markdown",
   "metadata": {},
   "source": [
    "<div class=\"alert alert-block alert-info\">\n",
    "<b>Definition:</b> \n",
    "A <b>Causal influence Diagram (CID)</b> (Everitt et al, 2021) is a tuple $(\\textbf{V}, \\textbf{E})$  where:\n",
    "    \n",
    "   - $(\\textbf{V}, \\textbf{E})$ is a directed acyclic graph with a set of vertices $\\textbf{V}$ connected by directed edges $\\textbf{E} \\subseteq \\textbf{V} \\times \\textbf{V}$. \n",
    " \n",
    " These vertices are partitioned into:\n",
    "    \n",
    "    - $\\textbf{D} \\subseteq \\textbf{V}$ is a set of decision nodes represented by rectangles.\n",
    "        \n",
    "    - $\\textbf{U} \\subseteq \\textbf{V} \\setminus \\textbf{D}$ is a set of utility nodes represented by diamonds and utility nodes have no successors.\n",
    "        \n",
    "    - $\\textbf{X} \\subseteq \\textbf{V} \\setminus (\\textbf{D} \\cup \\textbf{U})$ is the set of chance nodes represented by ovals.\n",
    "    \n",
    "   \n",
    "</div> \n",
    " "
   ]
  },
  {
   "cell_type": "markdown",
   "metadata": {},
   "source": [
    "<div class=\"alert alert-block alert-info\">\n",
    "<b>Definition:</b> \n",
    "A <b>Causal influence Model (CIM)</b> (Everitt et al, 2021) is a tuple $(\\textbf{V}, \\textbf{E}, \\theta)$  where $(\\textbf{V}, \\textbf{E})$ is a CID and:\n",
    "      \n",
    "- $\\theta$ is a parameterisation over the nodes in the CID specifying:\n",
    "    \n",
    "     - A finite domain $dom(V)$ for each node $V \\in \\textbf{V}$.\n",
    "        \n",
    "     - Real-valued domains $dom(U) \\subset \\mathbb{R}$ for all utility nodes $U \\in \\textbf{U}$.\n",
    "        \n",
    "     - A set of conditional probability distributions (CPDs), $\\Pr(\\textbf{V} \\mid pa_V$), for every chance and utility node $\\textbf{X} \\cup \\textbf{U} \\in \\textbf{V}$. Taken together, these form a partial distribution $\\Pr(\\textbf{X},\\textbf{U} : \\textbf{D}) = \\prod_{V \\in \\textbf{V} \\setminus \\textbf{D}} \\Pr(V | Pa_V)$ over the variables in the CID.\n",
    "        \n",
    "</div> "
   ]
  },
  {
   "cell_type": "markdown",
   "metadata": {},
   "source": [
    "## B) Instantiating and plotting a CID"
   ]
  },
  {
   "cell_type": "markdown",
   "metadata": {},
   "source": [
    "For many purposes, including incentive analysis in single-decision CIDs (see the incentives tutorial), we only need to know the causal relationships between variables (we need not specify a parameterisation). So, we will start by showing how to instantiate a simple CID in this codebase."
   ]
  },
  {
   "cell_type": "markdown",
   "metadata": {},
   "source": [
    "We need to specify:\n",
    "\n",
    "- the graph's set of nodes and edges.\n",
    "- the partioning of all nodes into decision, utility, and chance nodes."
   ]
  },
  {
   "cell_type": "markdown",
   "metadata": {},
   "source": [
    "Our first example is taken from Everitt et al (2019)'s \"Understanding Agent Incentives using\n",
    "Causal Influence Diagrams\":\n",
    "\n",
    "__Fitness Tracker Example:__ _A machine learning systemis  recommending  calorie  intake  (decision)  to  optimizethe user’s fitness (utility). The optimal calorie intake de-pends on the person’s physical activity, which cannot be measured directly. Instead, the decision must be based on a step count provided by a fitness tracker. The tracker designer developed the software behind the tracker firmware of the fitness counter's step counter._ \n",
    "\n",
    "- TD = Tracker designer\n",
    "- TF = Tracker firmware\n",
    "- SC = Step count\n",
    "- EF = Estimation Formula\n",
    "- EWD = Estimated Walking Distance\n",
    "- P = Physical activity\n",
    "- D = Dirty clothes\n",
    "- C = Reccomended calorie intake (decision node)\n",
    "- F = Fitness (utility node)"
   ]
  },
  {
   "cell_type": "markdown",
   "metadata": {},
   "source": [
    "A cid for this example is created as an instance of our CID class. Its constructor takes the edges of the cid as its first argument, then a specification of the cid's decision and utility nodes. All other nodes which are not decision or utility nodes, but were introduced in the edge pairs, are chance nodes."
   ]
  },
  {
   "cell_type": "code",
   "execution_count": 2,
   "metadata": {},
   "outputs": [],
   "source": [
    "cid = CID([\n",
    "    ('TD', 'TF'), # an edge TD -> TF exists\n",
    "    ('TF', 'SC'),\n",
    "    ('TF', 'C'),\n",
    "    ('EF', 'EWD'),\n",
    "    ('EWD', 'C'),\n",
    "    ('C', 'F'),\n",
    "    ('P', 'D'),\n",
    "    ('P', 'SC'),\n",
    "    ('P', 'F'),\n",
    "    ('SC', 'C'),\n",
    "    ('SC', 'EWD')],\n",
    "    decision_nodes=['C'],\n",
    "    utility_nodes=['F'])"
   ]
  },
  {
   "cell_type": "markdown",
   "metadata": {},
   "source": [
    "We call the CID class' method \"draw\" to plot this single-agent CID. Decision variables are denoted by blue rectangles, utilty nodes by yellow diamonds, and chance nodes by gray circles."
   ]
  },
  {
   "cell_type": "code",
   "execution_count": 3,
   "metadata": {},
   "outputs": [
    {
     "data": {
      "image/png": "[encoded data removed]",
      "text/plain": [
       "<Figure size 432x288 with 1 Axes>"
      ]
     },
     "metadata": {},
     "output_type": "display_data"
    }
   ],
   "source": [
    "cid.draw()"
   ]
  },
  {
   "cell_type": "markdown",
   "metadata": {},
   "source": [
    "## C) Graphical properties "
   ]
  },
  {
   "cell_type": "markdown",
   "metadata": {},
   "source": [
    "Our codebase allows us to ask many questions about the graph's structure and the probabilistic dependencies between variables. For example:"
   ]
  },
  {
   "cell_type": "code",
   "execution_count": 4,
   "metadata": {},
   "outputs": [
    {
     "data": {
      "text/plain": [
       "[['TF', 'SC', 'C', 'F'], ['TF', 'SC', 'EWD', 'C', 'F'], ['TF', 'C', 'F']]"
      ]
     },
     "execution_count": 4,
     "metadata": {},
     "output_type": "execute_result"
    }
   ],
   "source": [
    "find_all_dir_paths(cid, 'TF', 'F')  # finds all the directed paths in the CID"
   ]
  },
  {
   "cell_type": "code",
   "execution_count": 5,
   "metadata": {},
   "outputs": [
    {
     "data": {
      "text/plain": [
       "['forward', 'collider', 'backward', 'fork', 'endpoint']"
      ]
     },
     "execution_count": 5,
     "metadata": {},
     "output_type": "execute_result"
    }
   ],
   "source": [
    "path = ['P', 'F', 'C', 'TF', 'SC']\n",
    "get_motifs(cid, path) \n",
    "# classifies the motifs of all nodes along a path as a forward (chain), backward (chain), fork, collider or endpoint"
   ]
  },
  {
   "cell_type": "markdown",
   "metadata": {},
   "source": [
    "Our CID class inherits from pgmpy's BayesianModel class because when decision rules have been assigned to every decision node in a parameterised CID by a policy $\\pi$, the induced causal influence model (CIM) is a Bayesian Network. We therefore inherit, and so can utillise, all of that class' methods. For example:"
   ]
  },
  {
   "cell_type": "code",
   "execution_count": 6,
   "metadata": {},
   "outputs": [
    {
     "data": {
      "text/plain": [
       "True"
      ]
     },
     "execution_count": 6,
     "metadata": {},
     "output_type": "execute_result"
    }
   ],
   "source": [
    "observed_set = ['SC']\n",
    "cid.is_active_trail('TD', 'F', observed_set)"
   ]
  },
  {
   "cell_type": "markdown",
   "metadata": {},
   "source": [
    "To find which is the active path for this trail that prevents 'TD' and 'F' from being d-seperated.\n",
    "See [pgmpy documentation](http://pgmpy.org/)\n",
    "or the \"get_paths.py\" file in our codebase"
   ]
  },
  {
   "cell_type": "code",
   "execution_count": 7,
   "metadata": {},
   "outputs": [
    {
     "data": {
      "text/plain": [
       "['TD', 'TF', 'C', 'F']"
      ]
     },
     "execution_count": 7,
     "metadata": {},
     "output_type": "execute_result"
    }
   ],
   "source": [
    "find_active_path(cid, 'TD', 'F', observed_set)"
   ]
  },
  {
   "cell_type": "markdown",
   "metadata": {},
   "source": [
    "## Causal Influence Models"
   ]
  },
  {
   "cell_type": "markdown",
   "metadata": {},
   "source": [
    "Recall from the definitions earlier that a causal influence model is a parameterised CID."
   ]
  },
  {
   "cell_type": "markdown",
   "metadata": {},
   "source": [
    "Consider a simple 3 node cid:"
   ]
  },
  {
   "cell_type": "code",
   "execution_count": 8,
   "metadata": {},
   "outputs": [],
   "source": [
    "cid = CID([('S', 'D'), ('S', 'U'), ('D', 'U')],\n",
    "          decision_nodes=['D'],\n",
    "          utility_nodes=['U'])"
   ]
  },
  {
   "cell_type": "code",
   "execution_count": 9,
   "metadata": {},
   "outputs": [
    {
     "data": {
      "image/png": "[encoded data removed]",
      "text/plain": [
       "<Figure size 432x288 with 1 Axes>"
      ]
     },
     "metadata": {},
     "output_type": "display_data"
    }
   ],
   "source": [
    "cid.draw()"
   ]
  },
  {
   "cell_type": "markdown",
   "metadata": {},
   "source": [
    "We can parameterise it as follows:"
   ]
  },
  {
   "cell_type": "code",
   "execution_count": 10,
   "metadata": {},
   "outputs": [],
   "source": [
    "# A uniform random CPD over its domain [0,1].\n",
    "cpd_s = UniformRandomCPD('S', [0, 1]) \n",
    "\n",
    "#specifies how 'U''s CPD functionally depends on its parents ('D' and 'S').\n",
    "cpd_u = FunctionCPD('U', lambda s, d: int(s == d), evidence=['S', 'D']) \n",
    "\n",
    "#specifies the domain of 'D' as [0,1].\n",
    "cpd_d = DecisionDomain('D', [0, 1])\n",
    "\n",
    "#adds the CPDs to the CID to instantiate a CIM\n",
    "cid.add_cpds(cpd_d, cpd_s, cpd_u)\n"
   ]
  },
  {
   "cell_type": "code",
   "execution_count": 11,
   "metadata": {},
   "outputs": [
    {
     "data": {
      "image/png": "[encoded data removed]",
      "text/plain": [
       "<Figure size 432x288 with 1 Axes>"
      ]
     },
     "metadata": {},
     "output_type": "display_data"
    }
   ],
   "source": [
    "cid.draw() # adds labels to the nodes in the CID to make us aware that we now have a CIM."
   ]
  },
  {
   "cell_type": "markdown",
   "metadata": {},
   "source": [
    "We can solve this CIM by finding a subgame perfect policy:"
   ]
  },
  {
   "cell_type": "code",
   "execution_count": 12,
   "metadata": {},
   "outputs": [
    {
     "name": "stderr",
     "output_type": "stream",
     "text": [
      "WARNING:root:Replacing existing CPD for D\n",
      "0it [00:00, ?it/s]\n",
      "0it [00:00, ?it/s]\n",
      "0it [00:00, ?it/s]\n",
      "0it [00:00, ?it/s]\n",
      "WARNING:root:Replacing existing CPD for D\n"
     ]
    },
    {
     "data": {
      "text/plain": [
       "array([[1., 0.],\n",
       "       [0., 1.]])"
      ]
     },
     "execution_count": 12,
     "metadata": {},
     "output_type": "execute_result"
    }
   ],
   "source": [
    "solution = cid.solve()\n",
    "solution['D'].values"
   ]
  },
  {
   "cell_type": "markdown",
   "metadata": {},
   "source": [
    "The optimal policy for 'D' is to choose action $0$ when the value of 'S' is 0, and action $1$ when the value of 'S' is $1$."
   ]
  },
  {
   "cell_type": "markdown",
   "metadata": {},
   "source": [
    "We can determine the agent's expected utility for this optimal policy:"
   ]
  },
  {
   "cell_type": "code",
   "execution_count": 13,
   "metadata": {},
   "outputs": [
    {
     "name": "stderr",
     "output_type": "stream",
     "text": [
      "WARNING:root:Replacing existing CPD for D\n",
      "Eliminating: S: 100%|██████████| 2/2 [00:00<00:00, 288.96it/s]\n"
     ]
    },
    {
     "data": {
      "text/plain": [
       "1.0"
      ]
     },
     "execution_count": 13,
     "metadata": {},
     "output_type": "execute_result"
    }
   ],
   "source": [
    "optimal_d_cpd = solution['D']\n",
    "cid.add_cpds(optimal_d_cpd)\n",
    "cid.expected_utility({})  # The argument in an empty dictionary because we do not need to specify a context."
   ]
  },
  {
   "cell_type": "markdown",
   "metadata": {},
   "source": [
    "Now let's turn to the case where the CID has more than one decision node. "
   ]
  },
  {
   "cell_type": "code",
   "execution_count": 14,
   "metadata": {},
   "outputs": [],
   "source": [
    "cid = CID([\n",
    "    ('S1', 'S2'),\n",
    "    ('S1', 'D1'),\n",
    "    ('D1', 'S2'),\n",
    "    ('S2', 'U'),\n",
    "    ('S2', 'D2'),\n",
    "    ('D2', 'U')],\n",
    "    decision_nodes=['D1', 'D2'],  # two decision nodes 'D1' and 'D2'\n",
    "    utility_nodes=['U'])\n",
    "\n",
    "# adding a parametirsation:\n",
    "cpd_s1 = UniformRandomCPD('S1', [0, 1])\n",
    "cpd_d1 = DecisionDomain('D1', [0, 1])\n",
    "cpd_d2 = DecisionDomain('D2', [0, 1])\n",
    "cpd_s2 = FunctionCPD('S2', lambda s2, d1: int(s2 == d1), evidence=['S1', 'D1'])\n",
    "cpd_u = FunctionCPD('U', lambda s2, d2: int(s2 == d2), evidence=['S2', 'D2'])\n",
    "cid.add_cpds(cpd_s1, cpd_d1, cpd_s2, cpd_d2, cpd_u)"
   ]
  },
  {
   "cell_type": "code",
   "execution_count": 15,
   "metadata": {},
   "outputs": [
    {
     "data": {
      "image/png": "[encoded data removed]",
      "text/plain": [
       "<Figure size 432x288 with 1 Axes>"
      ]
     },
     "metadata": {},
     "output_type": "display_data"
    }
   ],
   "source": [
    "cid.draw()"
   ]
  },
  {
   "cell_type": "markdown",
   "metadata": {},
   "source": [
    "In order to compute a subgame perfect policy, the CID must have sufficient recall (see the definition based on strategic relevance in the MACID tutorial) - \n",
    "Does the optimal deicion rule for 'D2' depend on the optimal decision rule for \"D1\" and vice versa? If only one decision relies on the other, then we can solve the cid using backwards induction and the CID has sufficent recall. However, if both decisions depend on one another, then the CID has insufficient recall. \n",
    "\n",
    "Note: Insufficient recall in the context of CIDs means that the agent forgets the decision choices they chose previously (hence the name), and so is rare. A gneralised condition for when we can and cannot perform backwards induction becomes more important in the context of multi-agent CIDs when multiple agents might have to make decisions simultaneously (eg a prisoner's dilemma)."
   ]
  },
  {
   "cell_type": "code",
   "execution_count": 16,
   "metadata": {},
   "outputs": [
    {
     "name": "stdout",
     "output_type": "stream",
     "text": [
      "True\n"
     ]
    }
   ],
   "source": [
    "print(cid.sufficient_recall())"
   ]
  },
  {
   "cell_type": "code",
   "execution_count": 17,
   "metadata": {},
   "outputs": [
    {
     "name": "stderr",
     "output_type": "stream",
     "text": [
      "WARNING:root:Replacing existing CPD for D2\n",
      "Eliminating: D1: 100%|██████████| 2/2 [00:00<00:00, 77.53it/s]\n",
      "Eliminating: D1: 100%|██████████| 2/2 [00:00<00:00, 418.32it/s]\n",
      "Eliminating: D1: 100%|██████████| 2/2 [00:00<00:00, 83.36it/s]\n",
      "Eliminating: D1: 100%|██████████| 2/2 [00:00<00:00, 432.18it/s]\n",
      "WARNING:root:Replacing existing CPD for D2\n",
      "WARNING:root:Replacing existing CPD for D1\n",
      "Eliminating: D2: 100%|██████████| 2/2 [00:00<00:00, 122.01it/s]\n",
      "Eliminating: D2: 100%|██████████| 2/2 [00:00<00:00, 183.37it/s]\n",
      "Eliminating: D2: 100%|██████████| 2/2 [00:00<00:00, 213.85it/s]\n",
      "Eliminating: D2: 100%|██████████| 2/2 [00:00<00:00, 281.85it/s]\n",
      "WARNING:root:Replacing existing CPD for D1\n"
     ]
    }
   ],
   "source": [
    "solution = cid.solve()"
   ]
  },
  {
   "cell_type": "code",
   "execution_count": 18,
   "metadata": {},
   "outputs": [
    {
     "name": "stdout",
     "output_type": "stream",
     "text": [
      "['S2']\n"
     ]
    },
    {
     "data": {
      "text/plain": [
       "array([[1., 0.],\n",
       "       [0., 1.]])"
      ]
     },
     "execution_count": 18,
     "metadata": {},
     "output_type": "execute_result"
    }
   ],
   "source": [
    "print(solution['D2'].evidence)\n",
    "solution['D2'].values\n",
    "\n"
   ]
  },
  {
   "cell_type": "code",
   "execution_count": 19,
   "metadata": {},
   "outputs": [
    {
     "name": "stdout",
     "output_type": "stream",
     "text": [
      "['S1']\n"
     ]
    },
    {
     "data": {
      "text/plain": [
       "array([[1., 1.],\n",
       "       [0., 0.]])"
      ]
     },
     "execution_count": 19,
     "metadata": {},
     "output_type": "execute_result"
    }
   ],
   "source": [
    "print(solution['D1'].evidence)\n",
    "solution['D1'].values"
   ]
  },
  {
   "cell_type": "markdown",
   "metadata": {},
   "source": [
    "So, as expected from the setup, an optimal policy is to pick $0/1$ at $D2$ if 'S2' = 0/1 (it should match what the value of 'S2' is) and to always select $0$ at $D1$."
   ]
  },
  {
   "cell_type": "markdown",
   "metadata": {},
   "source": [
    "We can again find the expected utility for this policy:"
   ]
  },
  {
   "cell_type": "code",
   "execution_count": 20,
   "metadata": {},
   "outputs": [
    {
     "name": "stderr",
     "output_type": "stream",
     "text": [
      "WARNING:root:Replacing existing CPD for D1\n",
      "WARNING:root:Replacing existing CPD for D2\n"
     ]
    }
   ],
   "source": [
    "cid.add_cpds(*list(solution.values()))"
   ]
  },
  {
   "cell_type": "code",
   "execution_count": 21,
   "metadata": {},
   "outputs": [
    {
     "name": "stderr",
     "output_type": "stream",
     "text": [
      "Eliminating: D2: 100%|██████████| 2/2 [00:00<00:00, 60.43it/s]\n"
     ]
    },
    {
     "data": {
      "text/plain": [
       "1.0"
      ]
     },
     "execution_count": 21,
     "metadata": {},
     "output_type": "execute_result"
    }
   ],
   "source": [
    "cid.expected_utility({})"
   ]
  }
 ],
 "metadata": {
  "kernelspec": {
   "display_name": "Python 3.7.7 64-bit ('py37': conda)",
   "language": "python",
   "name": "python37764bitpy37conda011ce11f41a743788c3bde8cb1bf13e9"
  },
  "language_info": {
   "codemirror_mode": {
    "name": "ipython",
    "version": 3
   },
   "file_extension": ".py",
   "mimetype": "text/x-python",
   "name": "python",
   "nbconvert_exporter": "python",
   "pygments_lexer": "ipython3",
   "version": "3.7.7"
  }
 },
 "nbformat": 4,
 "nbformat_minor": 4
}
