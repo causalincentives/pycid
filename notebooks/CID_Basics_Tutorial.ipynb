{
  "cells": [
    {
      "cell_type": "markdown",
      "metadata": {
        "id": "0-Yta9-nTbV6"
      },
      "source": [
        "# Introduction to CIDs"
      ]
    },
    {
      "cell_type": "code",
      "execution_count": null,
      "metadata": {
        "id": "cWpA34viTbV_"
      },
      "outputs": [],
      "source": [
        "#importing necessary libraries\n",
        "try:\n",
        "    import pycid\n",
        "except ModuleNotFoundError:\n",
        "    import sys\n",
        "    !{sys.executable} -m pip install pycid  # or  !{sys.executable} -m pip install git+https://github.com/causalincentives/pycid for the latest development version\n",
        "    import pycid\n"
      ]
    },
    {
      "cell_type": "markdown",
      "metadata": {
        "id": "C4H4g1wvTbWB"
      },
      "source": [
        "# Table of contents\n",
        "1. [Definitions](#defs)\n",
        "2. [Instantiating and Plotting a CID](#cid)\n",
        "3. [Graphical Properties](#DAG)\n",
        "4. [Causal Influence Models](#CIM)\n"
      ]
    },
    {
      "cell_type": "markdown",
      "metadata": {
        "id": "o4sm9DDLTbWC"
      },
      "source": [
        "To open and run this notebook in your browser with Google Colab, use this link:\n",
        "\n",
        "[![Open In Colab](https://colab.research.google.com/assets/colab-badge.svg)](https://colab.research.google.com/github/causalincentives/pycid/blob/master/notebooks/CID_Basics_Tutorial.ipynb)"
      ]
    },
    {
      "cell_type": "markdown",
      "metadata": {
        "id": "XvItIMFNTbWD"
      },
      "source": [
        "# 1) Defintions <a name=\"defs\"></a>"
      ]
    },
    {
      "cell_type": "markdown",
      "metadata": {
        "id": "8kT4H-iYTbWD"
      },
      "source": [
        "We begin this tutorial by defining a causal influence diagram (CID) and a causal influence model (CIM):"
      ]
    },
    {
      "cell_type": "markdown",
      "metadata": {
        "id": "IYCqDkyXTbWE"
      },
      "source": [
        "<div class=\"alert alert-block alert-info\">\n",
        "<b>Definition:</b> \n",
        "A <b>Causal influence Diagram (CID)</b> (Everitt et al, 2021) is a tuple $(\\textbf{V}, \\textbf{E})$  where:\n",
        "    \n",
        "   - $(\\textbf{V}, \\textbf{E})$ is a directed acyclic graph with a set of vertices $\\textbf{V}$ connected by directed edges $\\textbf{E} \\subseteq \\textbf{V} \\times \\textbf{V}$. \n",
        " \n",
        " These vertices are partitioned into:\n",
        "    \n",
        "    - $\\textbf{D} \\subseteq \\textbf{V}$ is a set of decision nodes represented by rectangles.\n",
        "        \n",
        "    - $\\textbf{U} \\subseteq \\textbf{V} \\setminus \\textbf{D}$ is a set of utility nodes represented by diamonds and utility nodes have no successors.\n",
        "        \n",
        "    - $\\textbf{X} = \\textbf{V} \\setminus (\\textbf{D} \\cup \\textbf{U})$ is the set of chance nodes represented by ovals.\n",
        "    \n",
        "   \n",
        "</div> \n",
        " "
      ]
    },
    {
      "cell_type": "markdown",
      "metadata": {
        "id": "AczuCOYrTbWF"
      },
      "source": [
        "<div class=\"alert alert-block alert-info\">\n",
        "<b>Definition:</b> \n",
        "A <b>Causal influence Model (CIM)</b> (Everitt et al, 2021) is a tuple $(\\textbf{V}, \\textbf{E}, \\theta)$  where $(\\textbf{V}, \\textbf{E})$ is a CID and:\n",
        "      \n",
        "- $\\theta$ is a parameterisation over the nodes in the CID specifying:\n",
        "    \n",
        "     - A finite domain $dom(V)$ for each node $V \\in \\textbf{V}$.\n",
        "        \n",
        "     - Real-valued domains $dom(U) \\subset \\mathbb{R}$ for all utility nodes $U \\in \\textbf{U}$.\n",
        "        \n",
        "     - A set of conditional probability distributions (CPDs), $\\Pr(\\textbf{V} \\mid pa_V$), for every chance and utility node $\\textbf{X} \\cup \\textbf{U} \\in \\textbf{V}$. Taken together, these form a partial distribution $\\Pr(\\textbf{X},\\textbf{U} : \\textbf{D}) = \\prod_{V \\in \\textbf{V} \\setminus \\textbf{D}} \\Pr(V | Pa_V)$ over the variables in the CID.\n",
        "        \n",
        "</div> "
      ]
    },
    {
      "cell_type": "markdown",
      "metadata": {
        "id": "YyHTTPvKTbWG"
      },
      "source": [
        "# 2) Instantiating and plotting a CID <a name=\"cid\"></a>"
      ]
    },
    {
      "cell_type": "markdown",
      "metadata": {
        "id": "opP4hG0GTbWH"
      },
      "source": [
        "For many purposes, including incentive analysis in single-decision CIDs (see the incentives tutorial), we only need to know the causal relationships between variables (we need not specify a parameterisation). So, we will start by showing how to instantiate a simple CID in this codebase."
      ]
    },
    {
      "cell_type": "markdown",
      "metadata": {
        "id": "z6EbQGI0TbWI"
      },
      "source": [
        "We need to specify:\n",
        "\n",
        "- the graph's set of nodes and edges.\n",
        "- the partioning of all nodes into decision, utility, and chance nodes."
      ]
    },
    {
      "cell_type": "markdown",
      "metadata": {
        "id": "ZuGqkxrzTbWI"
      },
      "source": [
        "Our first example is taken from Everitt et al (2019)'s \"Understanding Agent Incentives using\n",
        "Causal Influence Diagrams\":\n",
        "\n",
        "__Fitness Tracker Example:__ _A machine learning systemis  recommending  calorie  intake  (decision)  to  optimizethe user’s fitness (utility). The optimal calorie intake de-pends on the person’s physical activity, which cannot be measured directly. Instead, the decision must be based on a step count provided by a fitness tracker. The tracker designer developed the software behind the tracker firmware of the fitness counter's step counter._ \n",
        "\n",
        "- TD = Tracker designer\n",
        "- TF = Tracker firmware\n",
        "- SC = Step count\n",
        "- EF = Estimation Formula\n",
        "- EWD = Estimated Walking Distance\n",
        "- P = Physical activity\n",
        "- D = Dirty clothes\n",
        "- C = Reccomended calorie intake (decision node)\n",
        "- F = Fitness (utility node)"
      ]
    },
    {
      "cell_type": "markdown",
      "metadata": {
        "id": "BaBJ8XTJTbWJ"
      },
      "source": [
        "A cid for this example is created as an instance of our CID class. Its constructor takes the edges of the cid as its first argument, then a specification of the cid's decision and utility nodes. All other nodes which are not decision or utility nodes, but were introduced in the edge pairs, are chance nodes."
      ]
    },
    {
      "cell_type": "code",
      "execution_count": null,
      "metadata": {
        "id": "EZxPgaxCTbWJ"
      },
      "outputs": [],
      "source": [
        "cid = pycid.CID([\n",
        "    ('TD', 'TF'), # an edge TD -> TF exists\n",
        "    ('TF', 'SC'),\n",
        "    ('TF', 'C'),\n",
        "    ('EF', 'EWD'),\n",
        "    ('EWD', 'C'),\n",
        "    ('C', 'F'),\n",
        "    ('P', 'D'),\n",
        "    ('P', 'SC'),\n",
        "    ('P', 'F'),\n",
        "    ('SC', 'C'),\n",
        "    ('SC', 'EWD')],\n",
        "    decisions=['C'],\n",
        "    utilities=['F'])"
      ]
    },
    {
      "cell_type": "markdown",
      "metadata": {
        "id": "0p3jwupJTbWK"
      },
      "source": [
        "We call the CID class' method \"draw\" to plot this single-agent CID. Decision variables are denoted by blue rectangles, utilty nodes by yellow diamonds, and chance nodes by gray circles."
      ]
    },
    {
      "cell_type": "code",
      "execution_count": null,
      "metadata": {
        "id": "xpy5sWSUTbWK",
        "outputId": "3b8fa7b5-9786-4797-83a4-ce9b8087753f"
      },
      "outputs": [
        {
          "data": {
            "image/png": "[encoded data removed]",
            "text/plain": [
              "<Figure size 432x288 with 1 Axes>"
            ]
          },
          "metadata": {},
          "output_type": "display_data"
        }
      ],
      "source": [
        "cid.draw()"
      ]
    },
    {
      "cell_type": "markdown",
      "metadata": {
        "id": "M8Juao1fTbWL"
      },
      "source": [
        "# 3) Graphical properties <a name=\"DAG\"></a>"
      ]
    },
    {
      "cell_type": "markdown",
      "metadata": {
        "id": "aCg-lOnoTbWM"
      },
      "source": [
        "Our codebase allows us to ask many questions about the graph's structure and the probabilistic dependencies between variables. For example:"
      ]
    },
    {
      "cell_type": "code",
      "execution_count": null,
      "metadata": {
        "id": "XXA2uZlVTbWP",
        "outputId": "6b5aa281-8a63-4f21-8221-bec961e066ca"
      },
      "outputs": [
        {
          "data": {
            "text/plain": [
              "[['TF', 'SC', 'C', 'F'], ['TF', 'SC', 'EWD', 'C', 'F'], ['TF', 'C', 'F']]"
            ]
          },
          "execution_count": 4,
          "metadata": {},
          "output_type": "execute_result"
        }
      ],
      "source": [
        "list(pycid.core.get_paths.find_all_dir_paths(cid, 'TF', 'F'))  # finds all the directed paths in the CID"
      ]
    },
    {
      "cell_type": "code",
      "execution_count": null,
      "metadata": {
        "id": "IsAJvGGqTbWQ",
        "outputId": "22f479a4-bb1f-494a-f7b9-e81f086a06dc"
      },
      "outputs": [
        {
          "data": {
            "text/plain": [
              "['forward', 'collider', 'backward', 'fork', 'endpoint']"
            ]
          },
          "execution_count": 5,
          "metadata": {},
          "output_type": "execute_result"
        }
      ],
      "source": [
        "path = ['P', 'F', 'C', 'TF', 'SC']\n",
        "pycid.core.get_paths.get_motifs(cid, path) \n",
        "# classifies the motifs of all nodes along a path as a forward (chain), backward (chain), fork, collider or endpoint"
      ]
    },
    {
      "cell_type": "markdown",
      "metadata": {
        "id": "StDY8jU4TbWQ"
      },
      "source": [
        "Our CID class inherits from pgmpy's BayesianModel class because when decision rules have been assigned to every decision node in a parameterised CID by a policy $\\pi$, the induced causal influence model (CIM) is a Bayesian Network. We therefore inherit, and so can utillise, all of that class' methods. For example:"
      ]
    },
    {
      "cell_type": "code",
      "execution_count": null,
      "metadata": {
        "id": "ruWYOc65TbWQ",
        "outputId": "884e9068-b011-4a68-c9e0-9b0bbe1dc674"
      },
      "outputs": [
        {
          "data": {
            "text/plain": [
              "True"
            ]
          },
          "execution_count": 6,
          "metadata": {},
          "output_type": "execute_result"
        }
      ],
      "source": [
        "observed_set = {'SC'}\n",
        "cid.is_active_trail('TD', 'F', observed_set)"
      ]
    },
    {
      "cell_type": "markdown",
      "metadata": {
        "id": "2gPcXDuzTbWR"
      },
      "source": [
        "To find which is the active path for this trail that prevents 'TD' and 'F' from being d-seperated.\n",
        "See [pgmpy documentation](http://pgmpy.org/)\n",
        "or the \"get_paths.py\" file in our codebase"
      ]
    },
    {
      "cell_type": "code",
      "execution_count": null,
      "metadata": {
        "id": "agdoOOxYTbWR",
        "outputId": "8c44c117-0b60-4aaf-b9e8-cd539f4b711d"
      },
      "outputs": [
        {
          "data": {
            "text/plain": [
              "['TD', 'TF', 'SC', 'P', 'F']"
            ]
          },
          "execution_count": 7,
          "metadata": {},
          "output_type": "execute_result"
        }
      ],
      "source": [
        "pycid.core.get_paths.find_active_path(cid, 'TD', 'F', observed_set)"
      ]
    },
    {
      "cell_type": "markdown",
      "metadata": {
        "id": "8MEW-lUXTbWR"
      },
      "source": [
        "# 4) Causal Influence Models <a name=\"CIM\"></a>"
      ]
    },
    {
      "cell_type": "markdown",
      "metadata": {
        "id": "FpEvs6ThTbWS"
      },
      "source": [
        "Recall from the definitions earlier that a causal influence model is a parameterised CID."
      ]
    },
    {
      "cell_type": "markdown",
      "metadata": {
        "id": "mns7eV9jTbWS"
      },
      "source": [
        "Consider a simple 3 node cid:"
      ]
    },
    {
      "cell_type": "code",
      "execution_count": null,
      "metadata": {
        "id": "Z1CSv50KTbWS"
      },
      "outputs": [],
      "source": [
        "cid = pycid.CID([('X', 'D'), ('X', 'U'), ('D', 'U')],\n",
        "          decisions=['D'],\n",
        "          utilities=['U'])"
      ]
    },
    {
      "cell_type": "code",
      "execution_count": null,
      "metadata": {
        "id": "Zklog6feTbWS",
        "outputId": "8422784f-42e3-4bd4-e985-6cf169700286"
      },
      "outputs": [
        {
          "data": {
            "image/png": "[encoded data removed]",
            "text/plain": [
              "<Figure size 432x288 with 1 Axes>"
            ]
          },
          "metadata": {},
          "output_type": "display_data"
        }
      ],
      "source": [
        "cid.draw()"
      ]
    },
    {
      "cell_type": "markdown",
      "metadata": {
        "id": "Z5yzAiCbTbWS"
      },
      "source": [
        "We can parameterise it as follows:"
      ]
    },
    {
      "cell_type": "code",
      "execution_count": null,
      "metadata": {
        "id": "HQmWyvSkTbWS"
      },
      "outputs": [],
      "source": [
        "cid.add_cpds(X=pycid.discrete_uniform([0, 1]), # A uniform random CPD over its domain [0,1]\n",
        "             U=lambda X, D: int(X == D), # specifies how 'U''s CPD functionally depends on its parents ('D' and 'S').\n",
        "             D=[0, 1]) # specifies the domain of 'D' as [0,1].\n",
        "\n"
      ]
    },
    {
      "cell_type": "code",
      "execution_count": null,
      "metadata": {
        "id": "xd8EH_6tTbWT",
        "outputId": "64314e04-bb9c-4323-cd7b-9d802789d3d9"
      },
      "outputs": [
        {
          "data": {
            "image/png": "[encoded data removed]",
            "text/plain": [
              "<Figure size 432x288 with 1 Axes>"
            ]
          },
          "metadata": {},
          "output_type": "display_data"
        }
      ],
      "source": [
        "cid.draw() # adds labels to the nodes in the CID to make us aware that we now have a CIM."
      ]
    },
    {
      "cell_type": "markdown",
      "metadata": {
        "id": "mYzaiCzyTbWT"
      },
      "source": [
        "We can solve this CIM by finding a subgame perfect policy:"
      ]
    },
    {
      "cell_type": "code",
      "execution_count": null,
      "metadata": {
        "id": "nO_k9L5fTbWT",
        "outputId": "4c2ce5c2-bb94-414b-fac8-959386945cf3"
      },
      "outputs": [
        {
          "data": {
            "text/plain": [
              "{'D': StochasticFunctionCPD<D:<functools._lru_cache_wrapper object at 0x7f65c174b430>> \n",
              " {'x': 0}  ->  0\n",
              " {'x': 1}  ->  1}"
            ]
          },
          "execution_count": 12,
          "metadata": {},
          "output_type": "execute_result"
        }
      ],
      "source": [
        "cid.solve()"
      ]
    },
    {
      "cell_type": "code",
      "execution_count": null,
      "metadata": {
        "id": "MLru7bd_TbWT"
      },
      "outputs": [],
      "source": [
        "solution = cid.solve()\n"
      ]
    },
    {
      "cell_type": "markdown",
      "metadata": {
        "id": "wb4r_uS1TbWT"
      },
      "source": [
        "The optimal policy for 'D' is to choose action $0$ when the value of 'X' is 0, and action $1$ when the value of 'X' is $1$."
      ]
    },
    {
      "cell_type": "code",
      "execution_count": null,
      "metadata": {
        "id": "Z2-fD0aETbWU"
      },
      "outputs": [],
      "source": [
        ""
      ]
    },
    {
      "cell_type": "markdown",
      "metadata": {
        "id": "14qCSO8WTbWU"
      },
      "source": [
        "We can determine the agent's expected utility for this optimal policy:"
      ]
    },
    {
      "cell_type": "code",
      "execution_count": null,
      "metadata": {
        "id": "Vrm7hj72TbWU",
        "outputId": "c5c61850-b502-4e34-aa4e-0f9f98f7a2b2"
      },
      "outputs": [
        {
          "data": {
            "text/plain": [
              "1.0"
            ]
          },
          "execution_count": 14,
          "metadata": {},
          "output_type": "execute_result"
        }
      ],
      "source": [
        "optimal_d_cpd = solution['D']\n",
        "cid.add_cpds(optimal_d_cpd)\n",
        "cid.expected_utility(context={}, intervention={})  # The argument in an empty dictionary because we do not need to specify a context."
      ]
    },
    {
      "cell_type": "markdown",
      "metadata": {
        "id": "Rz-QNePJTbWU"
      },
      "source": [
        "Now let's turn to the case where the CID has more than one decision node. "
      ]
    },
    {
      "cell_type": "code",
      "execution_count": null,
      "metadata": {
        "id": "hgDghI6FTbWU"
      },
      "outputs": [],
      "source": [
        "cid = pycid.CID([\n",
        "    ('X1', 'X2'),\n",
        "    ('X1', 'D1'),\n",
        "    ('D1', 'X2'),\n",
        "    ('X2', 'U'),\n",
        "    ('X2', 'D2'),\n",
        "    ('D2', 'U')],\n",
        "    decisions=['D1', 'D2'],  # two decision nodes 'D1' and 'D2'\n",
        "    utilities=['U'])\n",
        "\n",
        "# adding a parametirsation:\n",
        "cid.add_cpds(X1 = pycid.discrete_uniform([0, 1]),\n",
        "             D1=[0, 1],\n",
        "             D2=[0, 1],\n",
        "             X2=lambda X1, D1: int(X1 == D1),\n",
        "             U=lambda X2, D2: int(X2 == D2))"
      ]
    },
    {
      "cell_type": "code",
      "execution_count": null,
      "metadata": {
        "id": "Gdqtjm3-TbWV",
        "outputId": "b4d1f0d7-a321-4383-ec23-a8dcdde2ef15"
      },
      "outputs": [
        {
          "data": {
            "image/png": "[encoded data removed]",
            "text/plain": [
              "<Figure size 432x288 with 1 Axes>"
            ]
          },
          "metadata": {},
          "output_type": "display_data"
        }
      ],
      "source": [
        "cid.draw()"
      ]
    },
    {
      "cell_type": "markdown",
      "metadata": {
        "id": "V9xE5ksZTbWV"
      },
      "source": [
        "In order to compute a subgame perfect policy, the CID must have sufficient recall (see the definition based on strategic relevance in the MACID tutorial) - \n",
        "Does the optimal deicion rule for 'D2' depend on the optimal decision rule for \"D1\" and vice versa? If only one decision relies on the other, then we can solve the cid using backwards induction and the CID has sufficent recall. However, if both decisions depend on one another, then the CID has insufficient recall. \n",
        "\n",
        "Note: Insufficient recall in the context of CIDs means that the agent forgets the decision choices they chose previously (hence the name), and so is rare. A gneralised condition for when we can and cannot perform backwards induction becomes more important in the context of multi-agent CIDs when multiple agents might have to make decisions simultaneously (eg a prisoner's dilemma)."
      ]
    },
    {
      "cell_type": "code",
      "execution_count": null,
      "metadata": {
        "id": "B4-d8mk1TbWV",
        "outputId": "c260123b-3831-4d89-8eee-f027e81c8d40"
      },
      "outputs": [
        {
          "name": "stdout",
          "output_type": "stream",
          "text": [
            "True\n"
          ]
        }
      ],
      "source": [
        "print(cid.sufficient_recall())"
      ]
    },
    {
      "cell_type": "code",
      "execution_count": null,
      "metadata": {
        "id": "4X1KUOofTbWV"
      },
      "outputs": [],
      "source": [
        "solution = cid.solve()"
      ]
    },
    {
      "cell_type": "code",
      "execution_count": null,
      "metadata": {
        "id": "QUC1M4c0TbWV",
        "outputId": "4132f732-bb75-43fd-afb4-def0e3f81cde"
      },
      "outputs": [
        {
          "name": "stdout",
          "output_type": "stream",
          "text": [
            "StochasticFunctionCPD<D2:<functools._lru_cache_wrapper object at 0x7f65c17165e0>> \n",
            "{'x2': 0}  ->  0\n",
            "{'x2': 1}  ->  1\n"
          ]
        }
      ],
      "source": [
        "print(solution['D2'])"
      ]
    },
    {
      "cell_type": "code",
      "execution_count": null,
      "metadata": {
        "id": "vbV9gRIxTbWW",
        "outputId": "7595b484-6bf4-4d6e-9948-7ce35be36252"
      },
      "outputs": [
        {
          "name": "stdout",
          "output_type": "stream",
          "text": [
            "StochasticFunctionCPD<D1:<functools._lru_cache_wrapper object at 0x7f65c1716940>> \n",
            "{'x1': 0}  ->  0\n",
            "{'x1': 1}  ->  0\n"
          ]
        }
      ],
      "source": [
        "print(solution['D1'])"
      ]
    },
    {
      "cell_type": "markdown",
      "metadata": {
        "id": "kU3_UT9STbWW"
      },
      "source": [
        "So, as expected from the setup, an optimal policy is to pick $0/1$ at $D2$ if 'S2' = 0/1 (it should match what the value of 'S2' is) and to always select $0$ at $D1$."
      ]
    },
    {
      "cell_type": "markdown",
      "metadata": {
        "id": "Ccyp7pj1TbWW"
      },
      "source": [
        "We can again find the expected utility for this policy:"
      ]
    },
    {
      "cell_type": "code",
      "execution_count": null,
      "metadata": {
        "id": "3tgOj6muTbWW"
      },
      "outputs": [],
      "source": [
        "cid.add_cpds(*list(solution.values()))"
      ]
    },
    {
      "cell_type": "code",
      "execution_count": null,
      "metadata": {
        "id": "2S3hOE4hTbWW",
        "outputId": "71c5dd34-a097-496e-dfaf-da1281c88ffb"
      },
      "outputs": [
        {
          "data": {
            "text/plain": [
              "1.0"
            ]
          },
          "execution_count": 22,
          "metadata": {},
          "output_type": "execute_result"
        }
      ],
      "source": [
        "cid.expected_utility({})"
      ]
    },
    {
      "cell_type": "code",
      "execution_count": null,
      "metadata": {
        "id": "rTK3Cy_PTbWW"
      },
      "outputs": [],
      "source": [
        "cid = pycid.CID([('X', 'D'),\n",
        "                ('X', 'U'),  # an edge X -> U \n",
        "                ('D', 'U')], # exists in the CID\n",
        "                decisions=['D'],\n",
        "                utilities=['U'])"
      ]
    },
    {
      "cell_type": "code",
      "execution_count": null,
      "metadata": {
        "id": "lYOG09DeTbWW"
      },
      "outputs": [],
      "source": [
        "cid.add_cpds(X=pycid.discrete_uniform([0, 1]),\n",
        "                     D=[0, 1],\n",
        "                     U=lambda X, D: int(X == D))"
      ]
    },
    {
      "cell_type": "code",
      "execution_count": null,
      "metadata": {
        "id": "PuPXhHZOTbWX"
      },
      "outputs": [],
      "source": [
        "cid.add_cpds(X=pycid.bernoulli(0.8))"
      ]
    },
    {
      "cell_type": "code",
      "execution_count": null,
      "metadata": {
        "id": "WsQ4uWXpTbWX"
      },
      "outputs": [],
      "source": [
        "cid.add_cpds(U=lambda X, D: pycid.noisy_copy(D, probability=0.4, domain=[0, 1]))"
      ]
    }
  ],
  "metadata": {
    "kernelspec": {
      "display_name": "Python 3",
      "language": "python",
      "name": "python3"
    },
    "language_info": {
      "codemirror_mode": {
        "name": "ipython",
        "version": 3
      },
      "file_extension": ".py",
      "mimetype": "text/x-python",
      "name": "python",
      "nbconvert_exporter": "python",
      "pygments_lexer": "ipython3",
      "version": "3.8.8"
    },
    "colab": {
      "name": "CID_Basics_Tutorial.ipynb",
      "provenance": []
    }
  },
  "nbformat": 4,
  "nbformat_minor": 0
}