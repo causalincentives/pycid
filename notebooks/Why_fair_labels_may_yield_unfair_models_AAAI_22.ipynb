{
  "nbformat": 4,
  "nbformat_minor": 0,
  "metadata": {
    "kernelspec": {
      "display_name": "Python 3",
      "language": "python",
      "name": "python3"
    },
    "language_info": {
      "codemirror_mode": {
        "name": "ipython",
        "version": 3
      },
      "file_extension": ".py",
      "mimetype": "text/x-python",
      "name": "python",
      "nbconvert_exporter": "python",
      "pygments_lexer": "ipython3",
      "version": "3.8.8"
    },
    "colab": {
      "name": "Why fair labels may yield unfair models: AAAI-22",
      "provenance": [],
      "collapsed_sections": []
    }
  },
  "cells": [
    {
      "cell_type": "markdown",
      "metadata": {
        "id": "844X7EVp92MY"
      },
      "source": [
        "# How common is introduced unfairness\n",
        "\n",
        "In the paper\n",
        "\n",
        "*Why fair lables can yield unfair predictions: graphical conditions on introduced unfairness*  \n",
        "Carolyn Ashurst, Ryan Carey, Silvia Chiappa, Tom Everitt  \n",
        "AAAI, 2022\n",
        "\n",
        "\n",
        "we explore conditions under which fair labels can yield optimal unfair models. This notebook illustrates how PyCID can be used to investigate this question, by defining methods for graphical criteria and randomly sampling supervised learning CIDs.\n",
        "\n",
        "To open and run this notebook in your browser with Google Colab, use this link:  \n",
        "[![Open In Colab](https://colab.research.google.com/assets/colab-badge.svg)](https://colab.research.google.com/github/causalincentives/pycid/blob/master/notebooks/Why_fair_labels_may_yield_unfair_models_AAAI_22.ipynb)"
      ]
    },
    {
      "cell_type": "code",
      "metadata": {
        "id": "kMhVKhv892MY",
        "cellView": "form"
      },
      "source": [
        "# @title Imports\n",
        "\n",
        "#importing necessary libraries\n",
        "try:\n",
        "    import pycid\n",
        "except ModuleNotFoundError:\n",
        "    import sys\n",
        "    !{sys.executable} -m pip install git+https://github.com/causalincentives/pycid\n",
        "    import pycid\n",
        "    \n",
        "import numpy as np\n",
        "import networkx as nx\n",
        "import random"
      ],
      "execution_count": 1,
      "outputs": []
    },
    {
      "cell_type": "markdown",
      "metadata": {
        "id": "eggYXjhyTINj"
      },
      "source": [
        "## Definitions\n",
        "\n",
        "Define ITV and methods for checking the graphical conditions"
      ]
    },
    {
      "cell_type": "code",
      "metadata": {
        "id": "U_pvnepmUqjT"
      },
      "source": [
        "def max_total_variation(cid: pycid.CID, a: str, x) -> float:\n",
        "    \"\"\"the maximum total variation on x from conditioning on a\"\"\"\n",
        "    evs = [cid.expected_value([x], {a: a1})[0] for a1 in cid.model.domain['A']]\n",
        "    return max(evs) - min(evs)\n",
        "\n",
        "\n",
        "def introduced_total_variation(cid: pycid.CID, a: str, d: str, y: str) -> float:\n",
        "    \"\"\"The total introduced variation, comparing the effect of a on d and y\"\"\"\n",
        "    tv_d = max_total_variation(cid, a, d)\n",
        "    tv_y = max_total_variation(cid, a, y)\n",
        "    return tv_d - tv_y\n",
        "  \n",
        "def theorem9(cid):\n",
        "  \"\"\"ITV is possible under arbitrary loss\"\"\"\n",
        "  for x in cid.get_parents('D'):\n",
        "    condition = ['D'] + cid.get_parents('D')\n",
        "    condition.remove(x)\n",
        "    if cid.is_active_trail('A', x, []) and cid.is_active_trail(x, 'U', condition):\n",
        "      return True\n",
        "  return False\n",
        "\n",
        "def theorem11(cid):\n",
        "  \"\"\"ITV is possible under P-admissible loss\"\"\"\n",
        "  return theorem9(cid) and not 'A' in cid.get_parents('D') and cid.is_active_trail('A', 'U', ['D'] + cid.get_parents('D'))"
      ],
      "execution_count": 2,
      "outputs": []
    },
    {
      "cell_type": "markdown",
      "metadata": {
        "id": "BKB5CYjY3AAc"
      },
      "source": [
        "## Generate random supervised learning CIDs\n",
        "\n",
        "Here we create a method to generate a random supervised learning CID, with 'special' nodes D, Y, U, and A. The only parents of U are D and Y, and D only has a single child U."
      ]
    },
    {
      "cell_type": "code",
      "metadata": {
        "id": "oR8SE_qY-NfV"
      },
      "source": [
        "def random_supervised_learning_cid(number_of_nodes: int = 6, \n",
        "                                   edge_density: float = 0.4) -> pycid.CID:\n",
        "    \"\"\"\n",
        "    Generates a CID with 'special' nodes D, Y, U, and A to model a supervised\n",
        "    learning setup. \n",
        "    The only parents of U are D and Y, and D only has a single child U.\n",
        "    \n",
        "    The graph is always connected. The edge_density parameter specifies how many\n",
        "    edges are added additionally.\n",
        "    \n",
        "    Parameters:\n",
        "    -----------\n",
        "    number_of_nodes: how many nodes in the graph\n",
        "    edge_density: how densely connected is the graph, between 0 and 1\n",
        "    \"\"\"\n",
        "    dag = pycid.random_dag(number_of_nodes=number_of_nodes-1, edge_density=edge_density)\n",
        "    remaning_nodes = list(nx.topological_sort(dag))\n",
        "    # choose a decision node\n",
        "    decision_node = remaning_nodes.pop()\n",
        "    # choose a label node\n",
        "    y_node = random.choice(remaning_nodes)\n",
        "    remaning_nodes.remove(y_node)\n",
        "    # choose a sensitive attribute\n",
        "    a_node = random.choice(remaning_nodes)\n",
        "    remaning_nodes.remove(a_node)\n",
        "    # add appropriate names, and add a U node\n",
        "    dag = nx.relabel_nodes(dag, {decision_node: 'D', y_node: 'Y', a_node: 'A'})\n",
        "    dag.add_edge('D', 'U')\n",
        "    dag.add_edge('Y', 'U')\n",
        "\n",
        "    # convert the DAG into a CID with labeled decisions and utilities\n",
        "    cid = pycid.CID(dag.edges, decisions=['D'], utilities=['U'])\n",
        "\n",
        "    # add random cpds and a 0-1 loss function\n",
        "    cid.add_cpds(\n",
        "        D = [0, 1],\n",
        "        U = lambda d, y: int(d==y),  # 0-1 loss function\n",
        "        A = pycid.random_cpd.RandomCPD(),\n",
        "        Y = pycid.random_cpd.RandomCPD(),\n",
        "      )\n",
        "    for n in remaning_nodes:\n",
        "        cid.add_cpds(**{n: pycid.random_cpd.RandomCPD()})\n",
        "\n",
        "    return cid"
      ],
      "execution_count": 3,
      "outputs": []
    },
    {
      "cell_type": "markdown",
      "metadata": {
        "id": "LP9H4LHz3det"
      },
      "source": [
        "## Investigating a single CID\n",
        "\n",
        "Before sampling repeatedly to get statistical estimates, let us investigate a single, randomly sampled CID. Rerun the code to see different samples."
      ]
    },
    {
      "cell_type": "code",
      "metadata": {
        "colab": {
          "base_uri": "https://localhost:8080/",
          "height": 317
        },
        "id": "tJalAREzPhl7",
        "outputId": "5080fdf0-e4a5-40dc-ee64-de58a80c37f6"
      },
      "source": [
        "cid = random_supervised_learning_cid()\n",
        "cid.draw()\n",
        "print(\"ITV under 0-1 loss possible: \", theorem9(cid))\n",
        "print(\"ITV under 0-1 loss possible: \", theorem11(cid))\n",
        "\n",
        "# impute an optimal policy under the specified 0-1 loss, and compute actual ITV\n",
        "cid.impute_optimal_policy()\n",
        "print(\"actual ITV under 0-1 loss\", introduced_total_variation(cid, 'A', 'D', 'Y'))\n",
        "\n",
        "# the optimal policy under P-admissible loss is the conditional expectation.\n",
        "# We impute that policy instead, and recompute ITV\n",
        "cid.impute_conditional_expectation_decision('D', 'Y')\n",
        "print(\"actual ITV under P-adm loss\", introduced_total_variation(cid, 'A', 'D', 'Y'))"
      ],
      "execution_count": 4,
      "outputs": [
        {
          "output_type": "display_data",
          "data": {
            "image/png": "[encoded data removed]",
            "text/plain": [
              "<Figure size 432x288 with 1 Axes>"
            ]
          },
          "metadata": {}
        },
        {
          "output_type": "stream",
          "name": "stdout",
          "text": [
            "ITV under 0-1 loss possible:  False\n",
            "ITV under 0-1 loss possible:  False\n",
            "actual ITV under 0-1 loss 0.0\n",
            "actual ITV under P-adm loss 0.0\n"
          ]
        }
      ]
    },
    {
      "cell_type": "markdown",
      "metadata": {
        "id": "FLBbCfrL3lRx"
      },
      "source": [
        "## Sample CIDs and measure ITV\n",
        "\n",
        "Now let's sample 20 different CIDs, and count how many have an introduced total effect under 0-1 loss, and under P-admissible loss. Increase the iterations parameter to get more reliable estimates."
      ]
    },
    {
      "cell_type": "code",
      "metadata": {
        "colab": {
          "base_uri": "https://localhost:8080/"
        },
        "id": "L0JUgURNa5ft",
        "outputId": "1d8a2f0a-efbd-4737-ea10-40ba44f0d4f8"
      },
      "source": [
        "samples = 20\n",
        "\n",
        "theorem9_total = 0\n",
        "theorem9_results = []\n",
        "\n",
        "while theorem9_total < samples:\n",
        "    cid = random_supervised_learning_cid()\n",
        "\n",
        "    if theorem9(cid):\n",
        "      theorem9_total += 1\n",
        "      cid.impute_optimal_policy()\n",
        "      theorem9_results.append(introduced_total_variation(cid, 'A', 'D', 'Y'))\n",
        "      theorem9_rate = sum(i > 0.01 for i in theorem9_results)/theorem9_total\n",
        "      print(\"{:.2f}\".format(theorem9_rate) + f\" positive under 0-1 loss, count {theorem9_total}\")\n",
        "    else:\n",
        "      continue  # if the CID doesn't satisfy the graphical condition, we resample"
      ],
      "execution_count": 5,
      "outputs": [
        {
          "output_type": "stream",
          "name": "stdout",
          "text": [
            "0.00 positive under 0-1 loss, count 1\n",
            "0.00 positive under 0-1 loss, count 2\n",
            "0.00 positive under 0-1 loss, count 3\n",
            "0.25 positive under 0-1 loss, count 4\n",
            "0.20 positive under 0-1 loss, count 5\n",
            "0.17 positive under 0-1 loss, count 6\n",
            "0.29 positive under 0-1 loss, count 7\n",
            "0.25 positive under 0-1 loss, count 8\n",
            "0.22 positive under 0-1 loss, count 9\n",
            "0.20 positive under 0-1 loss, count 10\n",
            "0.27 positive under 0-1 loss, count 11\n",
            "0.25 positive under 0-1 loss, count 12\n",
            "0.23 positive under 0-1 loss, count 13\n",
            "0.21 positive under 0-1 loss, count 14\n",
            "0.20 positive under 0-1 loss, count 15\n",
            "0.19 positive under 0-1 loss, count 16\n",
            "0.18 positive under 0-1 loss, count 17\n",
            "0.17 positive under 0-1 loss, count 18\n",
            "0.16 positive under 0-1 loss, count 19\n",
            "0.15 positive under 0-1 loss, count 20\n"
          ]
        }
      ]
    },
    {
      "cell_type": "code",
      "metadata": {
        "colab": {
          "base_uri": "https://localhost:8080/"
        },
        "id": "Z7G87Iv3a5te",
        "outputId": "457fe76f-9258-43ea-9407-746554ecefbd"
      },
      "source": [
        "samples = 20\n",
        "\n",
        "theorem11_total = 0\n",
        "theorem11_results = []\n",
        "\n",
        "while theorem11_total < samples:\n",
        "    cid = random_supervised_learning_cid()\n",
        "\n",
        "    if theorem11(cid):\n",
        "      theorem11_total += 1\n",
        "      # impute the policy that'd be optimal under P-admissible loss\n",
        "      cid.impute_conditional_expectation_decision('D', 'Y') \n",
        "      theorem11_results.append(introduced_total_variation(cid, 'A', 'D', 'Y'))\n",
        "      theorem11_rate = sum(i > 0.01 for i in theorem11_results)/theorem11_total\n",
        "      print(\"{:.2f}\".format(theorem11_rate) + f\" positive under P-adm loss, count {theorem11_total}\")\n",
        "    else:\n",
        "      continue  # if the CID doesn't satisfy the graphical condition, we resample"
      ],
      "execution_count": 6,
      "outputs": [
        {
          "output_type": "stream",
          "name": "stdout",
          "text": [
            "0.00 positive under P-adm loss, count 1\n",
            "0.00 positive under P-adm loss, count 2\n",
            "0.33 positive under P-adm loss, count 3\n",
            "0.25 positive under P-adm loss, count 4\n",
            "0.20 positive under P-adm loss, count 5\n",
            "0.17 positive under P-adm loss, count 6\n",
            "0.29 positive under P-adm loss, count 7\n",
            "0.25 positive under P-adm loss, count 8\n",
            "0.22 positive under P-adm loss, count 9\n",
            "0.20 positive under P-adm loss, count 10\n",
            "0.18 positive under P-adm loss, count 11\n",
            "0.17 positive under P-adm loss, count 12\n",
            "0.15 positive under P-adm loss, count 13\n",
            "0.14 positive under P-adm loss, count 14\n",
            "0.13 positive under P-adm loss, count 15\n",
            "0.12 positive under P-adm loss, count 16\n",
            "0.12 positive under P-adm loss, count 17\n",
            "0.11 positive under P-adm loss, count 18\n",
            "0.11 positive under P-adm loss, count 19\n",
            "0.10 positive under P-adm loss, count 20\n"
          ]
        }
      ]
    },
    {
      "cell_type": "code",
      "metadata": {
        "id": "j9m0h1zc6axT"
      },
      "source": [
        ""
      ],
      "execution_count": 6,
      "outputs": []
    }
  ]
}