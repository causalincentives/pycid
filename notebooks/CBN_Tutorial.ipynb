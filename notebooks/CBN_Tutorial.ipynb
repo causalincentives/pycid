{
  "cells": [
    {
      "cell_type": "markdown",
      "metadata": {
        "id": "Gm73UUpuWnve"
      },
      "source": [
        "# Causal Bayesian Network tutorial\n",
        "\n",
        "The following notebook will cover how to specify the graphical structure and causal/probabilistic relationships of CBNs in PyCID, and how to answer causal and probabilistic queries.\n",
        "\n",
        "To open this notebook in Google Colab, click the following link:\n",
        "[![Open In Colab](https://colab.research.google.com/assets/colab-badge.svg)](https://colab.sandbox.google.com/github/causalincentives/pycid/blob/master/notebooks/CBN_Tutorial.ipynb)"
      ]
    },
    {
      "cell_type": "code",
      "execution_count": 2,
      "metadata": {
        "id": "faONGHjeWnvi",
        "outputId": "ad3d9bdf-5cab-4810-f42a-13cfd01ff79a",
        "colab": {
          "base_uri": "https://localhost:8080/"
        }
      },
      "outputs": [
        {
          "output_type": "stream",
          "name": "stdout",
          "text": [
            "Collecting pycid\n",
            "  Downloading pycid-0.7.0-py3-none-any.whl (52 kB)\n",
            "\u001b[?25l\r\u001b[K     |██████▏                         | 10 kB 21.4 MB/s eta 0:00:01\r\u001b[K     |████████████▍                   | 20 kB 28.5 MB/s eta 0:00:01\r\u001b[K     |██████████████████▋             | 30 kB 32.6 MB/s eta 0:00:01\r\u001b[K     |████████████████████████▊       | 40 kB 21.4 MB/s eta 0:00:01\r\u001b[K     |███████████████████████████████ | 51 kB 10.3 MB/s eta 0:00:01\r\u001b[K     |████████████████████████████████| 52 kB 1.5 MB/s \n",
            "\u001b[?25hRequirement already satisfied: matplotlib in /usr/local/lib/python3.7/dist-packages (from pycid) (3.2.2)\n",
            "Collecting pgmpy==0.1.13\n",
            "  Downloading pgmpy-0.1.13-py3-none-any.whl (324 kB)\n",
            "\u001b[?25l\r\u001b[K     |█                               | 10 kB 29.3 MB/s eta 0:00:01\r\u001b[K     |██                              | 20 kB 35.5 MB/s eta 0:00:01\r\u001b[K     |███                             | 30 kB 43.4 MB/s eta 0:00:01\r\u001b[K     |████                            | 40 kB 51.0 MB/s eta 0:00:01\r\u001b[K     |█████                           | 51 kB 56.8 MB/s eta 0:00:01\r\u001b[K     |██████                          | 61 kB 13.0 MB/s eta 0:00:01\r\u001b[K     |███████                         | 71 kB 14.6 MB/s eta 0:00:01\r\u001b[K     |████████                        | 81 kB 16.1 MB/s eta 0:00:01\r\u001b[K     |█████████                       | 92 kB 17.4 MB/s eta 0:00:01\r\u001b[K     |██████████                      | 102 kB 18.9 MB/s eta 0:00:01\r\u001b[K     |███████████                     | 112 kB 18.9 MB/s eta 0:00:01\r\u001b[K     |████████████▏                   | 122 kB 18.9 MB/s eta 0:00:01\r\u001b[K     |█████████████▏                  | 133 kB 18.9 MB/s eta 0:00:01\r\u001b[K     |██████████████▏                 | 143 kB 18.9 MB/s eta 0:00:01\r\u001b[K     |███████████████▏                | 153 kB 18.9 MB/s eta 0:00:01\r\u001b[K     |████████████████▏               | 163 kB 18.9 MB/s eta 0:00:01\r\u001b[K     |█████████████████▏              | 174 kB 18.9 MB/s eta 0:00:01\r\u001b[K     |██████████████████▏             | 184 kB 18.9 MB/s eta 0:00:01\r\u001b[K     |███████████████████▏            | 194 kB 18.9 MB/s eta 0:00:01\r\u001b[K     |████████████████████▏           | 204 kB 18.9 MB/s eta 0:00:01\r\u001b[K     |█████████████████████▏          | 215 kB 18.9 MB/s eta 0:00:01\r\u001b[K     |██████████████████████▏         | 225 kB 18.9 MB/s eta 0:00:01\r\u001b[K     |███████████████████████▎        | 235 kB 18.9 MB/s eta 0:00:01\r\u001b[K     |████████████████████████▎       | 245 kB 18.9 MB/s eta 0:00:01\r\u001b[K     |█████████████████████████▎      | 256 kB 18.9 MB/s eta 0:00:01\r\u001b[K     |██████████████████████████▎     | 266 kB 18.9 MB/s eta 0:00:01\r\u001b[K     |███████████████████████████▎    | 276 kB 18.9 MB/s eta 0:00:01\r\u001b[K     |████████████████████████████▎   | 286 kB 18.9 MB/s eta 0:00:01\r\u001b[K     |█████████████████████████████▎  | 296 kB 18.9 MB/s eta 0:00:01\r\u001b[K     |██████████████████████████████▎ | 307 kB 18.9 MB/s eta 0:00:01\r\u001b[K     |███████████████████████████████▎| 317 kB 18.9 MB/s eta 0:00:01\r\u001b[K     |████████████████████████████████| 324 kB 18.9 MB/s \n",
            "\u001b[?25hRequirement already satisfied: networkx in /usr/local/lib/python3.7/dist-packages (from pycid) (2.6.3)\n",
            "Requirement already satisfied: numpy in /usr/local/lib/python3.7/dist-packages (from pycid) (1.19.5)\n",
            "Requirement already satisfied: joblib in /usr/local/lib/python3.7/dist-packages (from pgmpy==0.1.13->pycid) (1.1.0)\n",
            "Requirement already satisfied: pyparsing in /usr/local/lib/python3.7/dist-packages (from pgmpy==0.1.13->pycid) (3.0.6)\n",
            "Requirement already satisfied: statsmodels in /usr/local/lib/python3.7/dist-packages (from pgmpy==0.1.13->pycid) (0.10.2)\n",
            "Requirement already satisfied: scipy in /usr/local/lib/python3.7/dist-packages (from pgmpy==0.1.13->pycid) (1.4.1)\n",
            "Requirement already satisfied: tqdm in /usr/local/lib/python3.7/dist-packages (from pgmpy==0.1.13->pycid) (4.62.3)\n",
            "Requirement already satisfied: pandas in /usr/local/lib/python3.7/dist-packages (from pgmpy==0.1.13->pycid) (1.1.5)\n",
            "Requirement already satisfied: torch in /usr/local/lib/python3.7/dist-packages (from pgmpy==0.1.13->pycid) (1.10.0+cu111)\n",
            "Requirement already satisfied: scikit-learn in /usr/local/lib/python3.7/dist-packages (from pgmpy==0.1.13->pycid) (1.0.1)\n",
            "Requirement already satisfied: kiwisolver>=1.0.1 in /usr/local/lib/python3.7/dist-packages (from matplotlib->pycid) (1.3.2)\n",
            "Requirement already satisfied: cycler>=0.10 in /usr/local/lib/python3.7/dist-packages (from matplotlib->pycid) (0.11.0)\n",
            "Requirement already satisfied: python-dateutil>=2.1 in /usr/local/lib/python3.7/dist-packages (from matplotlib->pycid) (2.8.2)\n",
            "Requirement already satisfied: six>=1.5 in /usr/local/lib/python3.7/dist-packages (from python-dateutil>=2.1->matplotlib->pycid) (1.15.0)\n",
            "Requirement already satisfied: pytz>=2017.2 in /usr/local/lib/python3.7/dist-packages (from pandas->pgmpy==0.1.13->pycid) (2018.9)\n",
            "Requirement already satisfied: threadpoolctl>=2.0.0 in /usr/local/lib/python3.7/dist-packages (from scikit-learn->pgmpy==0.1.13->pycid) (3.0.0)\n",
            "Requirement already satisfied: patsy>=0.4.0 in /usr/local/lib/python3.7/dist-packages (from statsmodels->pgmpy==0.1.13->pycid) (0.5.2)\n",
            "Requirement already satisfied: typing-extensions in /usr/local/lib/python3.7/dist-packages (from torch->pgmpy==0.1.13->pycid) (3.10.0.2)\n",
            "Installing collected packages: pgmpy, pycid\n",
            "Successfully installed pgmpy-0.1.13 pycid-0.7.0\n"
          ]
        }
      ],
      "source": [
        "#importing necessary libraries\n",
        "try:\n",
        "    import pycid\n",
        "except ModuleNotFoundError:\n",
        "    import sys\n",
        "    !{sys.executable} -m pip install pycid  # or  !{sys.executable} -m pip install git+https://github.com/causalincentives/pycid for the latest development version\n",
        "    import pycid\n",
        "    \n",
        "import numpy as np\n"
      ]
    },
    {
      "cell_type": "markdown",
      "metadata": {
        "id": "UF7Gw718Wnvm"
      },
      "source": [
        "## 1. Graphical Structure\n",
        "\n",
        "The structure of a CBN is specified by a list of edges. This implicitly specifies the nodes as well."
      ]
    },
    {
      "cell_type": "code",
      "execution_count": 3,
      "metadata": {
        "id": "M-zWvYVFWnvr",
        "colab": {
          "base_uri": "https://localhost:8080/",
          "height": 248
        },
        "outputId": "d8385ed7-c621-4ab0-a25c-de124435d13c"
      },
      "outputs": [
        {
          "output_type": "display_data",
          "data": {
            "image/png": "[encoded data removed]",
            "text/plain": [
              "<Figure size 432x288 with 1 Axes>"
            ]
          },
          "metadata": {}
        }
      ],
      "source": [
        "cbn = pycid.CausalBayesianNetwork([\n",
        "        ('A', 'B'),  #specifies the MAICD's nodes and edges.\n",
        "        ('A', 'C'),\n",
        "        ('B', 'C')\n",
        "        ],\n",
        ")\n",
        "\n",
        "cbn.draw()"
      ]
    },
    {
      "cell_type": "markdown",
      "metadata": {
        "id": "eJf3nS2XWnvu"
      },
      "source": [
        "## 2. Distributions\n",
        "\n",
        "PyCID is designed to make it easy to quickly specify causal and probabilistic relationships between nodes in a DAG.\n",
        "\n",
        "Distributions are represented with dictionaries `{outcome: P(outcome)}` that have possible outcomes as keys, and the probability of the outcome as value. For example, a Bernoulli(0.6) distribution can be represented as `{0: 0.4, 1: 0.6}`.\n",
        "\n",
        "We can add such a distribution to the node A in the network we just specified."
      ]
    },
    {
      "cell_type": "code",
      "execution_count": 4,
      "metadata": {
        "id": "pbrkHz2LWnvv",
        "outputId": "6cba4d39-9def-452b-dd15-2699c6e71b15",
        "colab": {
          "base_uri": "https://localhost:8080/"
        }
      },
      "outputs": [
        {
          "output_type": "stream",
          "name": "stdout",
          "text": [
            "PyCID representation\n",
            "{0: 0.4, 1: 0.6}\n",
            "\n",
            "Underlying pgmpy representation\n",
            "+------+-----+\n",
            "| A(0) | 0.4 |\n",
            "+------+-----+\n",
            "| A(1) | 0.6 |\n",
            "+------+-----+\n"
          ]
        }
      ],
      "source": [
        "cbn.model['A'] = {0: 0.4, 1: 0.6}  \n",
        "# alternatively: cbn.model['A'] = pycid.bernoulli(0.6)\n",
        "print(\"PyCID representation\")\n",
        "print(cbn.model['A'])\n",
        "print(\"\\nUnderlying pgmpy representation\")\n",
        "print(cbn.get_cpds('A'))"
      ]
    },
    {
      "cell_type": "markdown",
      "source": [
        "## 3. Conditional distributions\n",
        "\n",
        "Conditional distributions can be specified with functions that return distribution-dictionaries, and whose arguments match the names of the parent variables. For example, we can specify that B is a Bernoulli distribution whose parameter depends on A, say as B ~ Bernoulli((1+A)/3), via"
      ],
      "metadata": {
        "id": "R9Q4NnpiAJwg"
      }
    },
    {
      "cell_type": "code",
      "source": [
        "cbn.model['B'] = lambda A: pycid.bernoulli((1 + A)/3)\n",
        "print(\"PyCID representation\")\n",
        "print(cbn.model['B'])\n",
        "print(\"\\nUnderlying pgmpy representation\")\n",
        "print(cbn.get_cpds('B'))"
      ],
      "metadata": {
        "colab": {
          "base_uri": "https://localhost:8080/"
        },
        "id": "y-ZpXhYhARm-",
        "outputId": "6d37d226-0ecd-4f7b-c79b-3462b6394734"
      },
      "execution_count": 5,
      "outputs": [
        {
          "output_type": "stream",
          "name": "stdout",
          "text": [
            "PyCID representation\n",
            "<function <lambda> at 0x7f5759d510e0>\n",
            "\n",
            "Underlying pgmpy representation\n",
            "+------+--------------------+---------------------+\n",
            "| A    | A(0)               | A(1)                |\n",
            "+------+--------------------+---------------------+\n",
            "| B(0) | 0.6666666666666667 | 0.33333333333333337 |\n",
            "+------+--------------------+---------------------+\n",
            "| B(1) | 0.3333333333333333 | 0.6666666666666666  |\n",
            "+------+--------------------+---------------------+\n"
          ]
        }
      ]
    },
    {
      "cell_type": "markdown",
      "source": [
        "Arbitrary stochastic relationsbips can be specified with inline if-else statements. For example, we can specify the distribution for C based on the different outcomes for A and B as follows"
      ],
      "metadata": {
        "id": "Cec6zpFnCLXH"
      }
    },
    {
      "cell_type": "code",
      "source": [
        "cbn.model['C'] = lambda A, B: (pycid.bernoulli(0.2) if A==0 and B==0 else\n",
        "                               pycid.bernoulli(0.3) if A==0 and B==1 else\n",
        "                               pycid.bernoulli(0.4) if A==1 and B==0 else\n",
        "                               pycid.bernoulli(0.5))\n",
        "\n",
        "print(\"PyCID representation\")\n",
        "print(cbn.model['C'])\n",
        "print(\"\\nUnderlying pgmpy representation\")\n",
        "print(cbn.get_cpds('C'))"
      ],
      "metadata": {
        "colab": {
          "base_uri": "https://localhost:8080/"
        },
        "id": "HFTMogab_z2J",
        "outputId": "7dcb9d1f-a219-4c79-9c7c-4606b08c57bb"
      },
      "execution_count": 7,
      "outputs": [
        {
          "output_type": "stream",
          "name": "stdout",
          "text": [
            "PyCID representation\n",
            "<function <lambda> at 0x7f575987ed40>\n",
            "\n",
            "Underlying pgmpy representation\n",
            "+------+------+------+------+------+\n",
            "| A    | A(0) | A(0) | A(1) | A(1) |\n",
            "+------+------+------+------+------+\n",
            "| B    | B(0) | B(1) | B(0) | B(1) |\n",
            "+------+------+------+------+------+\n",
            "| C(0) | 0.8  | 0.7  | 0.6  | 0.5  |\n",
            "+------+------+------+------+------+\n",
            "| C(1) | 0.2  | 0.3  | 0.4  | 0.5  |\n",
            "+------+------+------+------+------+\n"
          ]
        }
      ]
    },
    {
      "cell_type": "markdown",
      "source": [
        "## 4. Conditional distributions -- advanced\n",
        "\n",
        "Here we cover a few more advanced tricks for specifying probabilistic relationships in PyCID.\n",
        "\n",
        "### 4.1 Deterministic functions\n",
        "\n",
        "First, if a function is returning a single value rather than a dictionary, then it is interpreted as a deterministic function, i.e. a degenerate probability distribution. This is useful when specifying structural causal models.\n",
        "\n",
        "For example, we can specify that B is the inverse of A as follows:"
      ],
      "metadata": {
        "id": "_v0yOqwldOHe"
      }
    },
    {
      "cell_type": "code",
      "source": [
        "cbn.model['B'] = lambda A: 1-A\n",
        "print(\"PyCID representation\")\n",
        "print(cbn.model['B'])\n",
        "print(\"\\nUnderlying pgmpy representation\")\n",
        "print(cbn.get_cpds('B'))"
      ],
      "metadata": {
        "colab": {
          "base_uri": "https://localhost:8080/"
        },
        "id": "wm5o71hSddyG",
        "outputId": "64ab8d58-fd44-4ceb-d308-6c446af89e7a"
      },
      "execution_count": 8,
      "outputs": [
        {
          "output_type": "stream",
          "name": "stdout",
          "text": [
            "PyCID representation\n",
            "<function <lambda> at 0x7f586e634dd0>\n",
            "\n",
            "Underlying pgmpy representation\n",
            "+------+------+------+\n",
            "| A    | A(0) | A(1) |\n",
            "+------+------+------+\n",
            "| B(0) | 0.0  | 1.0  |\n",
            "+------+------+------+\n",
            "| B(1) | 1.0  | 0.0  |\n",
            "+------+------+------+\n"
          ]
        }
      ]
    },
    {
      "cell_type": "markdown",
      "source": [
        "### 4.2 Incomplete distributions\n",
        "\n",
        "If a distribution dictionary contains `None` values, then the remaining probability mass will be spread equally over those keys. For example, we can specify that A has the distribution `{0: 0.6, 1: 0.2, 2: 0.2}` with the dictionary `{0: 0.6, 1: None, 2: None}`:"
      ],
      "metadata": {
        "id": "yTjgXAAiedWa"
      }
    },
    {
      "cell_type": "code",
      "source": [
        "cbn.model['A'] = {0: 0.6, 1: None, 2: None}  \n",
        "# alternatively: cbn.model['A'] = pycid.bernoulli(0.6)\n",
        "print(\"PyCID representation\")\n",
        "print(cbn.model['A'])\n",
        "print(\"\\nUnderlying pgmpy representation\")\n",
        "print(cbn.get_cpds('A'))"
      ],
      "metadata": {
        "colab": {
          "base_uri": "https://localhost:8080/"
        },
        "id": "chcfO1dBeRVf",
        "outputId": "d49db973-de5c-4c55-a79c-26400cb81cef"
      },
      "execution_count": 9,
      "outputs": [
        {
          "output_type": "stream",
          "name": "stdout",
          "text": [
            "PyCID representation\n",
            "{0: 0.6, 1: None, 2: None}\n",
            "\n",
            "Underlying pgmpy representation\n",
            "+------+-----+\n",
            "| A(0) | 0.6 |\n",
            "+------+-----+\n",
            "| A(1) | 0.2 |\n",
            "+------+-----+\n",
            "| A(2) | 0.2 |\n",
            "+------+-----+\n"
          ]
        }
      ]
    },
    {
      "cell_type": "markdown",
      "source": [
        "This is especially timesaving when specifying a complicated distribution involving several if-clauses:"
      ],
      "metadata": {
        "id": "0Q3vTLdYfZ8C"
      }
    },
    {
      "cell_type": "code",
      "source": [
        "cbn.model['C'] = lambda A, B: {0: (0.2 if A==0 and B==0 else\n",
        "                                   0.3 if A==0 and B==1 else\n",
        "                                   0.4), \n",
        "                               1: None}  # This completes to 1-P(0)\n",
        "\n",
        "print(\"PyCID representation\")\n",
        "print(cbn.model['C'])\n",
        "print(\"\\nUnderlying pgmpy representation\")\n",
        "print(cbn.get_cpds('C'))"
      ],
      "metadata": {
        "colab": {
          "base_uri": "https://localhost:8080/"
        },
        "id": "mqYxXx16fgoy",
        "outputId": "fe6bb482-7e53-4e11-a82d-4c105f374744"
      },
      "execution_count": 10,
      "outputs": [
        {
          "output_type": "stream",
          "name": "stdout",
          "text": [
            "PyCID representation\n",
            "<function <lambda> at 0x7f5759859b90>\n",
            "\n",
            "Underlying pgmpy representation\n",
            "+------+-------+------+------+-------+------+------+-------+------+------+\n",
            "| A    | A(0)  | A(0) | A(0) | A(1)  | A(1) | A(1) | A(2)  | A(2) | A(2) |\n",
            "+------+-------+------+------+-------+------+------+-------+------+------+\n",
            "| B    | B(-1) | B(0) | B(1) | B(-1) | B(0) | B(1) | B(-1) | B(0) | B(1) |\n",
            "+------+-------+------+------+-------+------+------+-------+------+------+\n",
            "| C(0) | 0.4   | 0.2  | 0.3  | 0.4   | 0.4  | 0.4  | 0.4   | 0.4  | 0.4  |\n",
            "+------+-------+------+------+-------+------+------+-------+------+------+\n",
            "| C(1) | 0.6   | 0.8  | 0.7  | 0.6   | 0.6  | 0.6  | 0.6   | 0.6  | 0.6  |\n",
            "+------+-------+------+------+-------+------+------+-------+------+------+\n"
          ]
        }
      ]
    },
    {
      "cell_type": "markdown",
      "source": [
        "### 4.3 Incomplete distributions in functions\n",
        "\n",
        "Sometimes the keys of the dictionary will depend on the arguments to the function. For example, consider the function `lambda A: {A: 0.9}` that makes B a \"noisy copy\" of A. For any given value of A, it will always output an incomplete dictionary with only a single key, and whose values only sum to 0.9. Even though there are no `None`-keys present, PyCID can still effectively infer the remaining `None`-keys by looking at the keys over different values of A."
      ],
      "metadata": {
        "id": "f2EhtP2YfXil"
      }
    },
    {
      "cell_type": "code",
      "source": [
        "cbn.model['B'] = lambda A: {A: 0.9}\n",
        "print(\"PyCID representation\")\n",
        "print(cbn.model['B'])\n",
        "print(\"\\nUnderlying pgmpy representation\")\n",
        "print(cbn.get_cpds('B'))"
      ],
      "metadata": {
        "colab": {
          "base_uri": "https://localhost:8080/"
        },
        "id": "Tdcm8k_GfBUe",
        "outputId": "e4e5ef63-3b78-4c4e-aa58-32605842021f"
      },
      "execution_count": 11,
      "outputs": [
        {
          "output_type": "stream",
          "name": "stdout",
          "text": [
            "PyCID representation\n",
            "<function <lambda> at 0x7f57598594d0>\n",
            "\n",
            "Underlying pgmpy representation\n",
            "+------+---------------------+---------------------+---------------------+\n",
            "| A    | A(0)                | A(1)                | A(2)                |\n",
            "+------+---------------------+---------------------+---------------------+\n",
            "| B(0) | 0.9                 | 0.04999999999999999 | 0.04999999999999999 |\n",
            "+------+---------------------+---------------------+---------------------+\n",
            "| B(1) | 0.04999999999999999 | 0.9                 | 0.04999999999999999 |\n",
            "+------+---------------------+---------------------+---------------------+\n",
            "| B(2) | 0.04999999999999999 | 0.04999999999999999 | 0.9                 |\n",
            "+------+---------------------+---------------------+---------------------+\n"
          ]
        }
      ]
    },
    {
      "cell_type": "markdown",
      "source": [
        "## 5 Queries and expectations\n",
        "\n",
        "Usually, the reason we go through the effort of writing down a model in PyCID is to be able to automatically answer various probabilistic queries about it.\n",
        "\n",
        "### 5.1 Probabilistic queries\n",
        "\n",
        "For example, what is the distribution of C given that B=1?"
      ],
      "metadata": {
        "id": "Uiwi8Vpbhzge"
      }
    },
    {
      "cell_type": "code",
      "source": [
        "print(cbn.query(['C'], context = {'B': 1}))"
      ],
      "metadata": {
        "colab": {
          "base_uri": "https://localhost:8080/"
        },
        "id": "n8EqcUFchufS",
        "outputId": "4addf99e-508b-469b-c537-049dfa41e5a0"
      },
      "execution_count": 15,
      "outputs": [
        {
          "output_type": "stream",
          "name": "stdout",
          "text": [
            "+------+----------+\n",
            "| C    |   phi(C) |\n",
            "+======+==========+\n",
            "| C(0) |   0.3864 |\n",
            "+------+----------+\n",
            "| C(1) |   0.6136 |\n",
            "+------+----------+\n"
          ]
        }
      ]
    },
    {
      "cell_type": "markdown",
      "source": [
        "### 5.2 Expectations\n",
        "\n",
        "It is also possible to find out the joint distribution of A and C given B=1:"
      ],
      "metadata": {
        "id": "LGckn7qBipzm"
      }
    },
    {
      "cell_type": "code",
      "source": [
        "print(cbn.query(['A', 'C'], context = {'B': 1}))"
      ],
      "metadata": {
        "colab": {
          "base_uri": "https://localhost:8080/"
        },
        "id": "uoQTCoXqiwh0",
        "outputId": "eaa0f2ef-6986-441b-a325-5d9551678e53"
      },
      "execution_count": 17,
      "outputs": [
        {
          "output_type": "stream",
          "name": "stdout",
          "text": [
            "+------+------+------------+\n",
            "| C    | A    |   phi(C,A) |\n",
            "+======+======+============+\n",
            "| C(0) | A(0) |     0.0409 |\n",
            "+------+------+------------+\n",
            "| C(0) | A(1) |     0.3273 |\n",
            "+------+------+------------+\n",
            "| C(0) | A(2) |     0.0182 |\n",
            "+------+------+------------+\n",
            "| C(1) | A(0) |     0.0955 |\n",
            "+------+------+------------+\n",
            "| C(1) | A(1) |     0.4909 |\n",
            "+------+------+------------+\n",
            "| C(1) | A(2) |     0.0273 |\n",
            "+------+------+------------+\n"
          ]
        }
      ]
    },
    {
      "cell_type": "markdown",
      "source": [
        "Similarly, we can also query the expected value of C in the given context"
      ],
      "metadata": {
        "id": "fgzlz1xyidVY"
      }
    },
    {
      "cell_type": "code",
      "source": [
        "print(cbn.expected_value(['C'], context = {'B': 1}))"
      ],
      "metadata": {
        "colab": {
          "base_uri": "https://localhost:8080/"
        },
        "id": "chxS1mRKiSDC",
        "outputId": "f6c28798-35b0-47f3-c65d-23fd27a25fdf"
      },
      "execution_count": 16,
      "outputs": [
        {
          "output_type": "stream",
          "name": "stdout",
          "text": [
            "[0.6136363636363636]\n"
          ]
        }
      ]
    },
    {
      "cell_type": "markdown",
      "source": [
        "### 5.3 Causal queries\n",
        "\n",
        "Causal interventions work analogously"
      ],
      "metadata": {
        "id": "xTOeqOrIi5tZ"
      }
    },
    {
      "cell_type": "code",
      "source": [
        "print(\"distribution\", cbn.query(['C'], context = {'A': 1}, intervention = {'B': 0}))\n",
        "print(\"expected value\", cbn.expected_value(['C'], context = {'A': 1}, intervention = {'B': 0}))"
      ],
      "metadata": {
        "colab": {
          "base_uri": "https://localhost:8080/"
        },
        "id": "Qc7rjN6eil_5",
        "outputId": "b98e3595-d1a3-4034-c3b9-93ffed02c83a"
      },
      "execution_count": 21,
      "outputs": [
        {
          "output_type": "stream",
          "name": "stdout",
          "text": [
            "distribution +------+----------+\n",
            "| C    |   phi(C) |\n",
            "+======+==========+\n",
            "| C(0) |   0.4000 |\n",
            "+------+----------+\n",
            "| C(1) |   0.6000 |\n",
            "+------+----------+\n",
            "expected value [0.6]\n"
          ]
        }
      ]
    },
    {
      "cell_type": "code",
      "source": [
        ""
      ],
      "metadata": {
        "id": "FiGnDewZjCEB"
      },
      "execution_count": null,
      "outputs": []
    }
  ],
  "metadata": {
    "kernelspec": {
      "display_name": "Python 3",
      "language": "python",
      "name": "python3"
    },
    "language_info": {
      "codemirror_mode": {
        "name": "ipython",
        "version": 3
      },
      "file_extension": ".py",
      "mimetype": "text/x-python",
      "name": "python",
      "nbconvert_exporter": "python",
      "pygments_lexer": "ipython3",
      "version": "3.8.8"
    },
    "colab": {
      "name": "CBN_Tutorial.ipynb",
      "provenance": []
    }
  },
  "nbformat": 4,
  "nbformat_minor": 0
}
