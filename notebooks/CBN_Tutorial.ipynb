{
 "cells": [
  {
   "cell_type": "markdown",
   "metadata": {
    "id": "Gm73UUpuWnve"
   },
   "source": [
    "# Causal Bayesian Network tutorial\n",
    "\n",
    "This notebook covers how to specify the graphical structure and causal/probabilistic relationships of CBNs in PyCID, and how to answer causal, probabilistic, and graphical queries.\n",
    "\n",
    "To open this notebook in Google Colab, click the following link:\n",
    "[![Open In Colab](https://colab.research.google.com/assets/colab-badge.svg)](https://colab.sandbox.google.com/github/causalincentives/pycid/blob/master/notebooks/CBN_Tutorial.ipynb)"
   ]
  },
  {
   "cell_type": "code",
   "execution_count": 1,
   "metadata": {
    "id": "faONGHjeWnvi",
    "outputId": "c328a6d5-3baf-4ee1-cb52-14841cd593f6",
    "colab": {
     "base_uri": "https://localhost:8080/"
    }
   },
   "outputs": [
    {
     "output_type": "stream",
     "name": "stderr",
     "text": [
      "/usr/local/lib/python3.7/dist-packages/statsmodels/tools/_testing.py:19: FutureWarning: pandas.util.testing is deprecated. Use the functions in the public API at pandas.testing instead.\n",
      "  import pandas.util.testing as tm\n"
     ]
    }
   ],
   "source": [
    "# importing necessary libraries\n",
    "try:\n",
    "    import pycid\n",
    "except ModuleNotFoundError:\n",
    "    import sys\n",
    "\n",
    "    !{sys.executable} -m pip install git+https://github.com/causalincentives/pycid # for the latest development version\n",
    "    import pycid\n",
    "\n",
    "import numpy as np"
   ]
  },
  {
   "cell_type": "markdown",
   "metadata": {
    "id": "UF7Gw718Wnvm"
   },
   "source": [
    "## 1. Graphical Structure\n",
    "\n",
    "The structure of a CBN is specified by a list of edges. This implicitly specifies the nodes as well."
   ]
  },
  {
   "cell_type": "code",
   "execution_count": 2,
   "metadata": {
    "id": "M-zWvYVFWnvr",
    "colab": {
     "base_uri": "https://localhost:8080/",
     "height": 248
    },
    "outputId": "23f8b58b-b95d-45b2-95d7-2bbc9c401553"
   },
   "outputs": [
    {
     "output_type": "display_data",
     "data": {
      "image/png": "[encoded data removed]",
      "text/plain": [
       "<Figure size 432x288 with 1 Axes>"
      ]
     },
     "metadata": {}
    }
   ],
   "source": [
    "cbn = pycid.CausalBayesianNetwork(\n",
    "    [(\"A\", \"B\"), (\"A\", \"C\"), (\"B\", \"C\")],  # specifies the MAICD's nodes and edges.\n",
    ")\n",
    "\n",
    "cbn.draw()"
   ]
  },
  {
   "cell_type": "markdown",
   "metadata": {
    "id": "eJf3nS2XWnvu"
   },
   "source": [
    "## 2. Distributions\n",
    "\n",
    "PyCID is designed to make it easy to quickly specify causal and probabilistic relationships between nodes in a DAG.\n",
    "\n",
    "Distributions are represented with dictionaries `{outcome: P(outcome)}` that have possible outcomes as keys, and the probability of the outcome as value. For example, a Bernoulli(0.6) distribution can be represented as `{0: 0.4, 1: 0.6}`.\n",
    "\n",
    "We can add such a distribution to the node A in the network we just specified."
   ]
  },
  {
   "cell_type": "code",
   "execution_count": 3,
   "metadata": {
    "id": "pbrkHz2LWnvv",
    "outputId": "505a5016-87ef-4694-85ec-79043bcdfbd5",
    "colab": {
     "base_uri": "https://localhost:8080/"
    }
   },
   "outputs": [
    {
     "output_type": "stream",
     "name": "stdout",
     "text": [
      "+------+-----+\n",
      "| A(0) | 0.4 |\n",
      "+------+-----+\n",
      "| A(1) | 0.6 |\n",
      "+------+-----+\n"
     ]
    }
   ],
   "source": [
    "cbn.model[\"A\"] = {0: 0.4, 1: 0.6}\n",
    "# alternatively: cbn.model['A'] = pycid.bernoulli(0.6)\n",
    "\n",
    "# print it as a probability table\n",
    "print(cbn.get_cpds(\"A\").prob_table())"
   ]
  },
  {
   "cell_type": "markdown",
   "source": [
    "## 3. Conditional distributions\n",
    "\n",
    "Conditional distributions can be specified with functions that return distribution-dictionaries, and whose arguments match the names of the parent variables. For example, we can specify that B is a Bernoulli distribution whose parameter depends on A, say as B ~ Bernoulli((1+A)/3), via"
   ],
   "metadata": {
    "id": "R9Q4NnpiAJwg"
   }
  },
  {
   "cell_type": "code",
   "source": [
    "cbn.model[\"B\"] = lambda A: pycid.bernoulli((1 + A) / 3)\n",
    "\n",
    "print(\"We can see the result in a few different ways:\")\n",
    "print(\"\\nThe model object contains just what we added:\")\n",
    "print(cbn.model[\"B\"])\n",
    "print(\"\\nThe CPD has interpreted it as a stochastic function:\")\n",
    "print(cbn.get_cpds(\"B\"))\n",
    "print(\"\\nAnd as a probability table\")\n",
    "print(cbn.get_cpds(\"B\").prob_table())"
   ],
   "metadata": {
    "colab": {
     "base_uri": "https://localhost:8080/"
    },
    "id": "y-ZpXhYhARm-",
    "outputId": "c27ad8b4-b5d2-4078-e592-30346920d4fc"
   },
   "execution_count": 4,
   "outputs": [
    {
     "output_type": "stream",
     "name": "stdout",
     "text": [
      "We can see the result in a few different ways:\n",
      "\n",
      "The model object contains just what we added:\n",
      "<function <lambda> at 0x7fc0576623b0>\n",
      "\n",
      "The CPD has interpreted it as a stochastic function:\n",
      "StochasticFunctionCPD<B> \n",
      "{'A': 0}  ->  {0: 0.6666666666666667, 1: 0.3333333333333333}\n",
      "{'A': 1}  ->  {0: 0.33333333333333337, 1: 0.6666666666666666}\n",
      "\n",
      "And as a probability table\n",
      "+------+--------------------+---------------------+\n",
      "| A    | A(0)               | A(1)                |\n",
      "+------+--------------------+---------------------+\n",
      "| B(0) | 0.6666666666666667 | 0.33333333333333337 |\n",
      "+------+--------------------+---------------------+\n",
      "| B(1) | 0.3333333333333333 | 0.6666666666666666  |\n",
      "+------+--------------------+---------------------+\n"
     ]
    }
   ]
  },
  {
   "cell_type": "markdown",
   "source": [
    "Arbitrary stochastic relationsbips can be specified with inline if-else statements. For example, we can specify the distribution for C based on the different outcomes for A and B as follows"
   ],
   "metadata": {
    "id": "Cec6zpFnCLXH"
   }
  },
  {
   "cell_type": "code",
   "source": [
    "cbn.model[\"C\"] = lambda A, B: (\n",
    "    pycid.bernoulli(0.2)\n",
    "    if A == 0 and B == 0\n",
    "    else pycid.bernoulli(0.3)\n",
    "    if A == 0 and B == 1\n",
    "    else pycid.bernoulli(0.4)\n",
    "    if A == 1 and B == 0\n",
    "    else pycid.bernoulli(0.5)\n",
    ")\n",
    "\n",
    "print(\"As a stochastic function:\")\n",
    "print(cbn.get_cpds(\"C\"))\n",
    "print(\"\\nAs a probability table\")\n",
    "print(cbn.get_cpds(\"C\").prob_table())"
   ],
   "metadata": {
    "colab": {
     "base_uri": "https://localhost:8080/"
    },
    "id": "HFTMogab_z2J",
    "outputId": "552b07ab-5772-4bd5-f316-a9e582934a4b"
   },
   "execution_count": 5,
   "outputs": [
    {
     "output_type": "stream",
     "name": "stdout",
     "text": [
      "As a stochastic function:\n",
      "StochasticFunctionCPD<C> \n",
      "{'A': 0, 'B': 0}  ->  {0: 0.8, 1: 0.2}\n",
      "{'A': 0, 'B': 1}  ->  {0: 0.7, 1: 0.3}\n",
      "{'A': 1, 'B': 0}  ->  {0: 0.6, 1: 0.4}\n",
      "{'A': 1, 'B': 1}  ->  {0: 0.5, 1: 0.5}\n",
      "\n",
      "As a probability table\n",
      "+------+------+------+------+------+\n",
      "| A    | A(0) | A(0) | A(1) | A(1) |\n",
      "+------+------+------+------+------+\n",
      "| B    | B(0) | B(1) | B(0) | B(1) |\n",
      "+------+------+------+------+------+\n",
      "| C(0) | 0.8  | 0.7  | 0.6  | 0.5  |\n",
      "+------+------+------+------+------+\n",
      "| C(1) | 0.2  | 0.3  | 0.4  | 0.5  |\n",
      "+------+------+------+------+------+\n"
     ]
    }
   ]
  },
  {
   "cell_type": "markdown",
   "source": [
    "## 4. Conditional distributions -- advanced\n",
    "\n",
    "Here we cover a few more advanced tricks for specifying probabilistic relationships in PyCID.\n",
    "\n",
    "### 4.1 Deterministic functions\n",
    "\n",
    "First, if a function is returning a single value rather than a dictionary, then it is interpreted as a deterministic function, i.e. a degenerate probability distribution. This is useful when specifying structural causal models.\n",
    "\n",
    "For example, we can specify that B is the inverse of A as follows:"
   ],
   "metadata": {
    "id": "_v0yOqwldOHe"
   }
  },
  {
   "cell_type": "code",
   "source": [
    "cbn.model[\"B\"] = lambda A: 1 - A\n",
    "\n",
    "print(\"\\nAs a function:\")\n",
    "print(cbn.get_cpds(\"B\"))\n",
    "print(\"\\nAs a probability table\")\n",
    "print(cbn.get_cpds(\"B\").prob_table())"
   ],
   "metadata": {
    "colab": {
     "base_uri": "https://localhost:8080/"
    },
    "id": "wm5o71hSddyG",
    "outputId": "be6aa593-a6b9-4a0c-e574-8f7d7db7f1a4"
   },
   "execution_count": 6,
   "outputs": [
    {
     "output_type": "stream",
     "name": "stdout",
     "text": [
      "\n",
      "As a function:\n",
      "StochasticFunctionCPD<B> \n",
      "{'A': 0}  ->  1\n",
      "{'A': 1}  ->  0\n",
      "\n",
      "As a probability table\n",
      "+------+------+------+\n",
      "| A    | A(0) | A(1) |\n",
      "+------+------+------+\n",
      "| B(0) | 0.0  | 1.0  |\n",
      "+------+------+------+\n",
      "| B(1) | 1.0  | 0.0  |\n",
      "+------+------+------+\n"
     ]
    }
   ]
  },
  {
   "cell_type": "markdown",
   "source": [
    "### 4.2 Incomplete distributions\n",
    "\n",
    "If a distribution dictionary contains `None` values, then the remaining probability mass will be spread equally over those keys. For example, we can specify that A has the distribution `{0: 0.6, 1: 0.2, 2: 0.2}` with the dictionary `{0: 0.6, 1: None, 2: None}`:"
   ],
   "metadata": {
    "id": "yTjgXAAiedWa"
   }
  },
  {
   "cell_type": "code",
   "source": [
    "cbn.model[\"A\"] = {0: 0.6, 1: None, 2: None}\n",
    "# alternatively: cbn.model['A'] = pycid.bernoulli(0.6)\n",
    "print(\"\\nAs a stochastic function:\")\n",
    "print(cbn.get_cpds(\"A\"))\n",
    "print(\"\\nAs a probability table\")\n",
    "print(cbn.get_cpds(\"A\").prob_table())"
   ],
   "metadata": {
    "colab": {
     "base_uri": "https://localhost:8080/"
    },
    "id": "chcfO1dBeRVf",
    "outputId": "64a600e9-e818-4ce7-b8ef-2a3dbca4310e"
   },
   "execution_count": 7,
   "outputs": [
    {
     "output_type": "stream",
     "name": "stdout",
     "text": [
      "\n",
      "As a stochastic function:\n",
      "ConstantCPD<A> \n",
      "{}  ->  {0: 0.6, 1: None, 2: None}\n",
      "\n",
      "As a probability table\n",
      "+------+-----+\n",
      "| A(0) | 0.6 |\n",
      "+------+-----+\n",
      "| A(1) | 0.2 |\n",
      "+------+-----+\n",
      "| A(2) | 0.2 |\n",
      "+------+-----+\n"
     ]
    }
   ]
  },
  {
   "cell_type": "markdown",
   "source": [
    "This is especially timesaving when specifying a complicated distribution involving several if-clauses:"
   ],
   "metadata": {
    "id": "0Q3vTLdYfZ8C"
   }
  },
  {
   "cell_type": "code",
   "source": [
    "cbn.model[\"C\"] = lambda A, B: {\n",
    "    0: (0.2 if A == 0 and B == 0 else 0.3 if A == 0 and B == 1 else 0.4),\n",
    "    1: None,\n",
    "}  # This completes to 1-P(0)\n",
    "\n",
    "print(\"As a stochastic function:\")\n",
    "print(cbn.get_cpds(\"C\"))\n",
    "print(\"\\nAs a probability table\")\n",
    "print(cbn.get_cpds(\"C\").prob_table())"
   ],
   "metadata": {
    "colab": {
     "base_uri": "https://localhost:8080/"
    },
    "id": "mqYxXx16fgoy",
    "outputId": "2d4b8b32-8bdd-4478-86fa-66f73e8358ce"
   },
   "execution_count": 8,
   "outputs": [
    {
     "output_type": "stream",
     "name": "stdout",
     "text": [
      "As a stochastic function:\n",
      "StochasticFunctionCPD<C> \n",
      "{'A': 0, 'B': -1}  ->  {0: 0.4, 1: None}\n",
      "{'A': 0, 'B': 0}  ->  {0: 0.2, 1: None}\n",
      "{'A': 0, 'B': 1}  ->  {0: 0.3, 1: None}\n",
      "{'A': 1, 'B': -1}  ->  {0: 0.4, 1: None}\n",
      "{'A': 1, 'B': 0}  ->  {0: 0.4, 1: None}\n",
      "{'A': 1, 'B': 1}  ->  {0: 0.4, 1: None}\n",
      "{'A': 2, 'B': -1}  ->  {0: 0.4, 1: None}\n",
      "{'A': 2, 'B': 0}  ->  {0: 0.4, 1: None}\n",
      "{'A': 2, 'B': 1}  ->  {0: 0.4, 1: None}\n",
      "\n",
      "As a probability table\n",
      "+------+-------+------+------+-------+------+------+-------+------+------+\n",
      "| A    | A(0)  | A(0) | A(0) | A(1)  | A(1) | A(1) | A(2)  | A(2) | A(2) |\n",
      "+------+-------+------+------+-------+------+------+-------+------+------+\n",
      "| B    | B(-1) | B(0) | B(1) | B(-1) | B(0) | B(1) | B(-1) | B(0) | B(1) |\n",
      "+------+-------+------+------+-------+------+------+-------+------+------+\n",
      "| C(0) | 0.4   | 0.2  | 0.3  | 0.4   | 0.4  | 0.4  | 0.4   | 0.4  | 0.4  |\n",
      "+------+-------+------+------+-------+------+------+-------+------+------+\n",
      "| C(1) | 0.6   | 0.8  | 0.7  | 0.6   | 0.6  | 0.6  | 0.6   | 0.6  | 0.6  |\n",
      "+------+-------+------+------+-------+------+------+-------+------+------+\n"
     ]
    }
   ]
  },
  {
   "cell_type": "markdown",
   "source": [
    "### 4.3 Incomplete distributions in functions\n",
    "\n",
    "Sometimes the keys of the dictionary will depend on the arguments to the function. For example, consider the function `lambda A: {A: 0.9}` that makes B a \"noisy copy\" of A. For any given value of A, it will always output an incomplete dictionary with only a single key, and whose values only sum to 0.9. Even though there are no `None`-keys present, PyCID can still effectively infer the remaining `None`-keys by looking at the keys over different values of A."
   ],
   "metadata": {
    "id": "f2EhtP2YfXil"
   }
  },
  {
   "cell_type": "code",
   "source": [
    "cbn.model[\"B\"] = lambda A: {A: 0.9}\n",
    "\n",
    "print(\"\\nAs a function:\")\n",
    "print(cbn.get_cpds(\"B\"))\n",
    "print(\"\\nAs a probability table\")\n",
    "print(cbn.get_cpds(\"B\").prob_table())"
   ],
   "metadata": {
    "colab": {
     "base_uri": "https://localhost:8080/"
    },
    "id": "Tdcm8k_GfBUe",
    "outputId": "d1a8ee87-7b74-4ee4-eec3-9dd7dfbb648d"
   },
   "execution_count": 9,
   "outputs": [
    {
     "output_type": "stream",
     "name": "stdout",
     "text": [
      "\n",
      "As a function:\n",
      "StochasticFunctionCPD<B> \n",
      "{'A': 0}  ->  {0: 0.9}\n",
      "{'A': 1}  ->  {1: 0.9}\n",
      "{'A': 2}  ->  {2: 0.9}\n",
      "\n",
      "As a probability table\n",
      "+------+---------------------+---------------------+---------------------+\n",
      "| A    | A(0)                | A(1)                | A(2)                |\n",
      "+------+---------------------+---------------------+---------------------+\n",
      "| B(0) | 0.9                 | 0.04999999999999999 | 0.04999999999999999 |\n",
      "+------+---------------------+---------------------+---------------------+\n",
      "| B(1) | 0.04999999999999999 | 0.9                 | 0.04999999999999999 |\n",
      "+------+---------------------+---------------------+---------------------+\n",
      "| B(2) | 0.04999999999999999 | 0.04999999999999999 | 0.9                 |\n",
      "+------+---------------------+---------------------+---------------------+\n"
     ]
    }
   ]
  },
  {
   "cell_type": "markdown",
   "source": [
    "When the relationships are simple, they can often be read from the plot as well:"
   ],
   "metadata": {
    "id": "SfH2BU7Pmidm"
   }
  },
  {
   "cell_type": "code",
   "source": [
    "cbn.model.update(A=pycid.bernoulli(0.5), B=lambda A: A, C=lambda A, B: A * B)\n",
    "cbn.draw()"
   ],
   "metadata": {
    "colab": {
     "base_uri": "https://localhost:8080/",
     "height": 248
    },
    "id": "hZkRomP_mkLF",
    "outputId": "4b932ff3-4189-4430-b63e-c5e211bb741e"
   },
   "execution_count": 10,
   "outputs": [
    {
     "output_type": "display_data",
     "data": {
      "image/png": "[encoded data removed]",
      "text/plain": [
       "<Figure size 432x288 with 1 Axes>"
      ]
     },
     "metadata": {}
    }
   ]
  },
  {
   "cell_type": "markdown",
   "source": [
    "## 5 Queries, expected value, sampling\n",
    "\n",
    "Usually, the reason we go through the effort of writing down a model in PyCID is to be able to automatically answer various probabilistic queries about it.\n",
    "\n",
    "### 5.1 Probabilistic queries\n",
    "\n",
    "For example, what is the distribution of C given that B=1?"
   ],
   "metadata": {
    "id": "Uiwi8Vpbhzge"
   }
  },
  {
   "cell_type": "code",
   "source": [
    "print(cbn.query([\"C\"], context={\"B\": 1}))"
   ],
   "metadata": {
    "colab": {
     "base_uri": "https://localhost:8080/"
    },
    "id": "n8EqcUFchufS",
    "outputId": "e8b527e0-e1d6-4ec0-cf7e-6356c6d8c57c"
   },
   "execution_count": 11,
   "outputs": [
    {
     "output_type": "stream",
     "name": "stdout",
     "text": [
      "+------+----------+\n",
      "| C    |   phi(C) |\n",
      "+======+==========+\n",
      "| C(0) |   0.0000 |\n",
      "+------+----------+\n",
      "| C(1) |   1.0000 |\n",
      "+------+----------+\n"
     ]
    }
   ]
  },
  {
   "cell_type": "markdown",
   "source": [
    "### 5.2 Expectations\n",
    "\n",
    "It is also possible to find out the joint distribution of A and C given B=1:"
   ],
   "metadata": {
    "id": "LGckn7qBipzm"
   }
  },
  {
   "cell_type": "code",
   "source": [
    "print(cbn.query([\"A\", \"C\"], context={\"B\": 1}))"
   ],
   "metadata": {
    "colab": {
     "base_uri": "https://localhost:8080/"
    },
    "id": "uoQTCoXqiwh0",
    "outputId": "2e8baaa3-15cd-4be2-fa5a-8f1ceb5e2159"
   },
   "execution_count": 12,
   "outputs": [
    {
     "output_type": "stream",
     "name": "stdout",
     "text": [
      "+------+------+------------+\n",
      "| A    | C    |   phi(A,C) |\n",
      "+======+======+============+\n",
      "| A(0) | C(0) |     0.0000 |\n",
      "+------+------+------------+\n",
      "| A(0) | C(1) |     0.0000 |\n",
      "+------+------+------------+\n",
      "| A(1) | C(0) |     0.0000 |\n",
      "+------+------+------------+\n",
      "| A(1) | C(1) |     1.0000 |\n",
      "+------+------+------------+\n"
     ]
    }
   ]
  },
  {
   "cell_type": "markdown",
   "source": [
    "Similarly, we can also query the expected value of C in the given context"
   ],
   "metadata": {
    "id": "fgzlz1xyidVY"
   }
  },
  {
   "cell_type": "code",
   "source": [
    "print(cbn.expected_value([\"C\"], context={\"B\": 1}))"
   ],
   "metadata": {
    "colab": {
     "base_uri": "https://localhost:8080/"
    },
    "id": "chxS1mRKiSDC",
    "outputId": "bc8057ec-df78-407a-8cc7-d540abe58f3f"
   },
   "execution_count": 13,
   "outputs": [
    {
     "output_type": "stream",
     "name": "stdout",
     "text": [
      "[1.0]\n"
     ]
    }
   ]
  },
  {
   "cell_type": "markdown",
   "source": [
    "### 5.3 Causal queries\n",
    "\n",
    "Causal interventions work analogously"
   ],
   "metadata": {
    "id": "xTOeqOrIi5tZ"
   }
  },
  {
   "cell_type": "code",
   "source": [
    "print(\"distribution\", cbn.query([\"C\"], context={\"A\": 1}, intervention={\"B\": 0}))\n",
    "print(\"expected value\", cbn.expected_value([\"C\"], context={\"A\": 1}, intervention={\"B\": 0}))"
   ],
   "metadata": {
    "colab": {
     "base_uri": "https://localhost:8080/"
    },
    "id": "Qc7rjN6eil_5",
    "outputId": "9423f638-3e82-4b30-b836-87134ffc1a91"
   },
   "execution_count": 14,
   "outputs": [
    {
     "output_type": "stream",
     "name": "stdout",
     "text": [
      "distribution +------+----------+\n",
      "| C    |   phi(C) |\n",
      "+======+==========+\n",
      "| C(0) |   1.0000 |\n",
      "+------+----------+\n",
      "| C(1) |   0.0000 |\n",
      "+------+----------+\n",
      "expected value [0.0]\n"
     ]
    }
   ]
  },
  {
   "cell_type": "markdown",
   "source": [
    "It is also possible to modify the model with interventions:"
   ],
   "metadata": {
    "id": "QZqy9TcHHpiF"
   }
  },
  {
   "cell_type": "code",
   "source": [
    "cbn.intervene({\"B\": 0})\n",
    "cbn.draw()"
   ],
   "metadata": {
    "colab": {
     "base_uri": "https://localhost:8080/",
     "height": 248
    },
    "id": "ozm6luLdHogc",
    "outputId": "0583f61e-7f5c-4a29-f033-c90bf09eaff3"
   },
   "execution_count": 15,
   "outputs": [
    {
     "output_type": "display_data",
     "data": {
      "image/png": "[encoded data removed]",
      "text/plain": [
       "<Figure size 432x288 with 1 Axes>"
      ]
     },
     "metadata": {}
    }
   ]
  },
  {
   "cell_type": "markdown",
   "source": [
    "### 5.4 Sampling\n",
    "\n",
    "We can easily sample values from the joint distribution of the network:"
   ],
   "metadata": {
    "id": "WdzRonLQzv-y"
   }
  },
  {
   "cell_type": "code",
   "source": [
    "cbn.sample()"
   ],
   "metadata": {
    "id": "FiGnDewZjCEB",
    "outputId": "b9441229-ffa5-4a04-c540-2af73397d948",
    "colab": {
     "base_uri": "https://localhost:8080/"
    }
   },
   "execution_count": 16,
   "outputs": [
    {
     "output_type": "execute_result",
     "data": {
      "text/plain": [
       "{'A': 0, 'B': 0, 'C': 0}"
      ]
     },
     "metadata": {},
     "execution_count": 16
    }
   ]
  },
  {
   "cell_type": "markdown",
   "source": [
    "## 6. Graphical properties\n",
    "\n",
    "Finally, we cover some methods for working with the graphical structure of the network.\n",
    "\n",
    "### 6.1 d-separation\n",
    "\n",
    "For example, we can assess whether two nodes are d-separated when conditioning on a set of variables:"
   ],
   "metadata": {
    "id": "LiKm5-mY5XOG"
   }
  },
  {
   "cell_type": "code",
   "source": [
    "cbn.is_dconnected(\"A\", \"B\", [\"C\"])"
   ],
   "metadata": {
    "id": "euDrPWd25tD9",
    "outputId": "20b494a9-1a7f-4ed7-82d3-6a97d7a09543",
    "colab": {
     "base_uri": "https://localhost:8080/"
    }
   },
   "execution_count": 17,
   "outputs": [
    {
     "output_type": "execute_result",
     "data": {
      "text/plain": [
       "True"
      ]
     },
     "metadata": {},
     "execution_count": 17
    }
   ]
  },
  {
   "cell_type": "markdown",
   "source": [
    "and an example of an active path establishing the d-connection:"
   ],
   "metadata": {
    "id": "9gexP2kb70pX"
   }
  },
  {
   "cell_type": "code",
   "source": [
    "pycid.core.get_paths.find_active_path(cbn, \"A\", \"B\", {\"C\"})"
   ],
   "metadata": {
    "id": "ugs9idXE8F-P",
    "outputId": "4d463da1-12b4-47bc-989b-4868724be507",
    "colab": {
     "base_uri": "https://localhost:8080/"
    }
   },
   "execution_count": 18,
   "outputs": [
    {
     "output_type": "execute_result",
     "data": {
      "text/plain": [
       "['A', 'C', 'B']"
      ]
     },
     "metadata": {},
     "execution_count": 18
    }
   ]
  },
  {
   "cell_type": "markdown",
   "source": [
    "### 6.2 Directed paths\n",
    "\n",
    "We can find all directed paths between two nodes:"
   ],
   "metadata": {
    "id": "1lgGZ6227kiu"
   }
  },
  {
   "cell_type": "code",
   "source": [
    "list(pycid.core.get_paths.find_all_dir_paths(cbn, \"A\", \"C\"))"
   ],
   "metadata": {
    "id": "EJx1001U6ayo",
    "outputId": "f3338bed-9260-437b-b9ee-9d156bddfadf",
    "colab": {
     "base_uri": "https://localhost:8080/"
    }
   },
   "execution_count": 19,
   "outputs": [
    {
     "output_type": "execute_result",
     "data": {
      "text/plain": [
       "[['A', 'C']]"
      ]
     },
     "metadata": {},
     "execution_count": 19
    }
   ]
  },
  {
   "cell_type": "code",
   "source": [
    ""
   ],
   "metadata": {
    "id": "kt42Pq5p7qep"
   },
   "execution_count": 19,
   "outputs": []
  }
 ],
 "metadata": {
  "kernelspec": {
   "display_name": "Python 3",
   "language": "python",
   "name": "python3"
  },
  "language_info": {
   "codemirror_mode": {
    "name": "ipython",
    "version": 3
   },
   "file_extension": ".py",
   "mimetype": "text/x-python",
   "name": "python",
   "nbconvert_exporter": "python",
   "pygments_lexer": "ipython3",
   "version": "3.8.8"
  },
  "colab": {
   "name": "Copy of CBN_Tutorial.ipynb",
   "provenance": [],
   "collapsed_sections": []
  }
 },
 "nbformat": 4,
 "nbformat_minor": 0
}
