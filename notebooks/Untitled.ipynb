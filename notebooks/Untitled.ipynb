{
 "cells": [
  {
   "cell_type": "markdown",
   "metadata": {},
   "source": [
    "Define MAIDs and MAIMs \n",
    "\n",
    "- caveat that our codebase is actually definining a MACID/MACIM (but this doesn't matter for ourpurposes (from the aamas appendix)\n",
    "- define a MAID and a MAIM\n",
    "- instantiate a simple MAID\n",
    "- show basic graphical properties in MAIDs (Strat rel/s-reachability/r-reachability etc subgames - all from the MAID class\n",
    "- parameterise a MAIM\n",
    "- compute SPE with example"
   ]
  }
 ],
 "metadata": {
  "kernelspec": {
   "display_name": "Python 3.7.7 64-bit ('py37': conda)",
   "language": "python",
   "name": "python37764bitpy37conda011ce11f41a743788c3bde8cb1bf13e9"
  },
  "language_info": {
   "codemirror_mode": {
    "name": "ipython",
    "version": 3
   },
   "file_extension": ".py",
   "mimetype": "text/x-python",
   "name": "python",
   "nbconvert_exporter": "python",
   "pygments_lexer": "ipython3",
   "version": "3.7.7"
  }
 },
 "nbformat": 4,
 "nbformat_minor": 4
}
