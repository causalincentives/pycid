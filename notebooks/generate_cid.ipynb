{
 "cells": [
  {
   "cell_type": "code",
   "execution_count": 2,
   "metadata": {},
   "outputs": [
    {
     "name": "stdout",
     "output_type": "stream",
     "text": [
      "The autoreload extension is already loaded. To reload it, use:\n",
      "  %reload_ext autoreload\n"
     ]
    }
   ],
   "source": [
    "%load_ext autoreload\n",
    "%autoreload 2\n",
    "# %pdb  # include for debugging\n",
    "import sys\n",
    "sys.path.append(\"..\") #TODO: make /cid a package, then delete this\n",
    "from examples.generate import random_cids, random_cid\n",
    "import numpy as np\n",
    "import random"
   ]
  },
  {
   "cell_type": "code",
   "execution_count": 3,
   "metadata": {},
   "outputs": [],
   "source": [
    "import networkx as nx\n",
    "import pylab as plt\n",
    "def draw_bn(bn):\n",
    "    nx.draw(cid, with_labels=True)\n",
    "    plt.show()"
   ]
  },
  {
   "cell_type": "code",
   "execution_count": 4,
   "metadata": {},
   "outputs": [
    {
     "name": "stderr",
     "output_type": "stream",
     "text": [
      "WARNING:root:won't initialize S1 at this point\n",
      "WARNING:root:won't initialize S1 at this point\n",
      "WARNING:root:won't initialize U0 at this point\n"
     ]
    }
   ],
   "source": [
    "cid = random_cid(5, 2, 1)"
   ]
  },
  {
   "cell_type": "code",
   "execution_count": 5,
   "metadata": {},
   "outputs": [
    {
     "data": {
      "image/png": "[encoded data removed]",
      "text/plain": [
       "<Figure size 432x288 with 1 Axes>"
      ]
     },
     "metadata": {},
     "output_type": "display_data"
    }
   ],
   "source": [
    "cid.draw()"
   ]
  },
  {
   "cell_type": "code",
   "execution_count": 6,
   "metadata": {},
   "outputs": [
    {
     "data": {
      "text/plain": [
       "['S1', 'U0', 'D0']"
      ]
     },
     "execution_count": 6,
     "metadata": {},
     "output_type": "execute_result"
    }
   ],
   "source": [
    "cid.get_children('D1')"
   ]
  },
  {
   "cell_type": "code",
   "execution_count": 7,
   "metadata": {},
   "outputs": [
    {
     "data": {
      "text/plain": [
       "['D0']"
      ]
     },
     "execution_count": 7,
     "metadata": {},
     "output_type": "execute_result"
    }
   ],
   "source": [
    "cid.get_children('S0')"
   ]
  },
  {
   "cell_type": "code",
   "execution_count": 8,
   "metadata": {},
   "outputs": [],
   "source": [
    "from typing import List\n",
    "\n",
    "def _find_path_recurse(bn, path: List[str], B: str):\n",
    "    if path and path[-1]==B:\n",
    "        return path\n",
    "    else:\n",
    "        children = bn.get_children(path[-1])\n",
    "        for child in children:\n",
    "            ext = _find_path_recurse(bn, path + [child], B)\n",
    "            if ext:\n",
    "                return ext\n",
    "            \n",
    "def find_path_from(bn, A, B):\n",
    "    path = _find_path_recurse(bn, [A], B)\n",
    "    if path:\n",
    "        return path\n",
    "    else:\n",
    "        print(\"No path from {} to {} could be found\".format(A, B))"
   ]
  },
  {
   "cell_type": "code",
   "execution_count": 9,
   "metadata": {},
   "outputs": [
    {
     "name": "stdout",
     "output_type": "stream",
     "text": [
      "No path from S0 to U3 could be found\n"
     ]
    }
   ],
   "source": [
    "find_path_from(cid, 'S0', 'U3')"
   ]
  },
  {
   "cell_type": "code",
   "execution_count": 10,
   "metadata": {
    "scrolled": true
   },
   "outputs": [
    {
     "name": "stdout",
     "output_type": "stream",
     "text": [
      "No path from D0 to U1 could be found\n"
     ]
    }
   ],
   "source": [
    "find_path_from(cid, 'D0', 'U1')"
   ]
  },
  {
   "cell_type": "code",
   "execution_count": 11,
   "metadata": {},
   "outputs": [],
   "source": [
    "def active_neighbours(bn, A: str, E: List[str]):\n",
    "    pass\n",
    "    #find neighbours of A active conditional on E\n",
    "    # active_parents = [i for i in ]\n",
    "    # if A not in E:\n",
    "        # active_children = [i for i in bn.get_children(A)]\n",
    "    \n",
    "def find_active_path(bn, A, B):\n",
    "    pass"
   ]
  },
  {
   "cell_type": "code",
   "execution_count": null,
   "metadata": {},
   "outputs": [],
   "source": []
  }
 ],
 "metadata": {
  "kernelspec": {
   "display_name": "Python 3",
   "language": "python",
   "name": "python3"
  },
  "language_info": {
   "codemirror_mode": {
    "name": "ipython",
    "version": 3
   },
   "file_extension": ".py",
   "mimetype": "text/x-python",
   "name": "python",
   "nbconvert_exporter": "python",
   "pygments_lexer": "ipython3",
   "version": "3.7.7"
  }
 },
 "nbformat": 4,
 "nbformat_minor": 2
}
