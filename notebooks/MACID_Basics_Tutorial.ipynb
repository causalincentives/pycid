{
 "cells": [
  {
   "cell_type": "markdown",
   "metadata": {},
   "source": [
    "# MACID tutorial"
   ]
  },
  {
   "cell_type": "code",
   "execution_count": 1,
   "metadata": {},
   "outputs": [
    {
     "data": {
      "application/javascript": [
       "IPython.notebook.set_autosave_interval(60000)"
      ]
     },
     "metadata": {},
     "output_type": "display_data"
    },
    {
     "name": "stdout",
     "output_type": "stream",
     "text": [
      "Autosaving every 60 seconds\n"
     ]
    }
   ],
   "source": [
    "#importing necessary libraries\n",
    "%load_ext autoreload\n",
    "%autoreload 2\n",
    "%matplotlib inline\n",
    "%autosave 60\n",
    "import sys\n",
    "sys.path.append(\"..\") #TODO: make /cid a package, then delete this\n",
    "import numpy as np\n",
    "from core.cid import CID\n",
    "from core.macid import MACID\n",
    "from core.relevance_graph import RelevanceGraph, CondensedRelevanceGraph\n",
    "from core.get_paths import find_active_path, get_motifs, find_all_dir_paths\n",
    "from core.cpd import FunctionCPD, DecisionDomain, UniformRandomCPD\n",
    "from pgmpy.factors.discrete import TabularCPD"
   ]
  },
  {
   "cell_type": "markdown",
   "metadata": {},
   "source": [
    "## Introduction to MA(C)IDs and MA(C)IMs"
   ]
  },
  {
   "cell_type": "markdown",
   "metadata": {},
   "source": [
    "In the CID tutorial, we showed how to instantiate single-agent causal influence diagrams (CIDs) and models (CIMs). In this section, we demonstrate how to use our codebase for multi-agent causal influence diagrams (MACIDs)"
   ]
  },
  {
   "cell_type": "markdown",
   "metadata": {},
   "source": [
    "<div class=\"alert alert-block alert-info\">\n",
    "<b>Definition:</b> \n",
    "A <b>multi-agent influence diagram (MAID)</b> (Hammond et al, 2021) is a triple $(\\textbf{N}, \\textbf{V}, \\textbf{E})$, where:\n",
    "    \n",
    " - $\\textbf{N} = \\{1,\\dots,n\\}$ is a set of agents.\n",
    " - $(\\textbf{V}, \\textbf{E})$ is a directed acyclic graph (DAG) with a set of vertices $\\textbf{V}$ connected by directed edges $\\textbf{E} \\subseteq \\textbf{V} \\times \\textbf{V}$. These vertices are partitioned into $\\textbf{D}$, $\\textbf{U}$, and $\\textbf{X}$, which correspond to decision, utility, and chance nodes respectively. $\\textbf{D}$ and $\\textbf{U}$ are in turn partitioned into $\\{\\textbf{D}^i\\}_{i\\in \\textbf{N}}$ and $\\{\\textbf{U}^i\\}_{i\\in \\textbf{N}}$ corresponding to their association with a particular agent $i \\in \\textbf{N}$.\n",
    "   \n",
    "</div> \n"
   ]
  },
  {
   "cell_type": "markdown",
   "metadata": {},
   "source": [
    "<div class=\"alert alert-block alert-info\">\n",
    "<b>Definition:</b> A <b>multi-agent influence model (MAIM)</b> (Hammond et al, 2021) is a tuple $(\\textbf{N}, \\textbf{V}, \\textbf{E}, \\theta)$ where $(\\textbf{N}, \\textbf{V}, \\textbf{E})$ is a MAID and:\n",
    "\n",
    "- $\\theta \\in \\Theta$ is a particular parametrisation over the nodes in the graph specifying a finite domain $\\textbf{dom}(V)$ for each node $V \\in \\textbf{V}$, real-valued domains $\\textbf{dom}(U) \\subset \\mathbb{R}$ for each $U \\in \\textbf{U}$, and a set of conditional probability distributions (CPDs) $\\Pr(\\textbf{V} \\mid \\textbf{Pa}_V)$ for every chance and utility node. Taken together, the CPDs form a partial distribution $\\Pr(\\textbf{X},\\textbf{U} : \\textbf{D}) = \\prod_{V \\in \\textbf{V} \\setminus \\textbf{D}} \\Pr(V \\mid \\textbf{Pa}_V)$ over the variables in the MAID.\n",
    " - The value $u \\in \\textbf{dom}(U)$ of a utility node is a deterministic function of the values of its parents $\\textbf{pa}_U \\in \\textbf{dom}(\\textbf{Pa}_U)$.\n",
    "</div> "
   ]
  },
  {
   "cell_type": "markdown",
   "metadata": {},
   "source": [
    "Note: these definitions define MAIDs and MAIMs as opposed to MACIDs and MACIMs. A MACID is a multi-agent causal influence diagram, which differs from a MAID because the edges now represent every causal relationship between the random variables chosen to be endogenous variables in the model. However, because MACIDs subsume MAIDs (in the sense of Pearl's `causal hierarchy` (Pearl, 2009)), meaning that everything we can do in a MAID, we can also do in a MACID, for the purpose of this codebase treat these models the same."
   ]
  },
  {
   "cell_type": "markdown",
   "metadata": {},
   "source": [
    "As we did in the CID basics tutorial, we'll start by showing how to instantiate a MACID showcasing some useful methods. We'll then show how to parameterise them as MACIMs. "
   ]
  },
  {
   "cell_type": "markdown",
   "metadata": {},
   "source": [
    "__Job Hiring Example:__ _A company employs an AI system to automate their hiring process. A naturally hard-working or naturally lazy worker wants a job at this company and believes that a university degree will increase their chance of being hired; however, they also know that they will suffer an opportunity cost from three years of studying. A hard-worker will cope better with a university workload than a lazy worker. The algorithm must decide, on behalf of the company, whether to hire the worker. The company wants to hire someone who is naturally hard-working, but the algorithm can't observe the worker's temperament directly, it can only infer it indirectly through whether or not the worker attended university._\n",
    "\n",
    "We can construct a MACID for this example where:\n",
    "\n",
    "- X = whether the worker is naturally hard working or lazy (chance node)\n",
    "- D1 and U1 correspond to the worker's decision whether or not to go to university (and their utility)\n",
    "- D2 and U2 correspond to the algorithm's decision whether or not to hire the worker (and the company's utility)"
   ]
  },
  {
   "cell_type": "code",
   "execution_count": 2,
   "metadata": {},
   "outputs": [],
   "source": [
    "macid = MACID([\n",
    "        ('X', 'D1'),  #specifies the MAICD's nodes and edges.\n",
    "        ('X', 'U2'),\n",
    "        ('X', 'U1'),\n",
    "        ('D1', 'D2'),\n",
    "        ('D1', 'U1'),\n",
    "        ('D2', 'U1'),\n",
    "        ('D2', 'U2'),\n",
    "        ],\n",
    "        {1: {'D': ['D1'], 'U': ['U1']}, # specifies each agent's decision and utility nodes.\n",
    "         2: {'D': ['D2'], 'U': ['U2']}})"
   ]
  },
  {
   "cell_type": "code",
   "execution_count": 3,
   "metadata": {},
   "outputs": [
    {
     "data": {
      "image/png": "[encoded data removed]",
      "text/plain": [
       "<Figure size 432x288 with 1 Axes>"
      ]
     },
     "metadata": {},
     "output_type": "display_data"
    }
   ],
   "source": [
    "macid.draw()"
   ]
  },
  {
   "cell_type": "markdown",
   "metadata": {},
   "source": [
    "Consistent with CIDs, chance nodes are drawn as circles, decision nodes are drawn as rectangles, and utility nodes are drawn as diamonds. Because we now have more than one player, we reserve colouring to denote agent membership; each agent of the game is assigned a unique colour."
   ]
  },
  {
   "cell_type": "markdown",
   "metadata": {},
   "source": [
    "In Hammond et al (2021), we introduced the graphical criterion _r-reachability_ to determine whether another decision node is strategically relevant or a chance node is probabilistically relevant to a decision node (see paper)."
   ]
  },
  {
   "cell_type": "markdown",
   "metadata": {},
   "source": [
    "<div class=\"alert alert-block alert-info\">\n",
    "<b>Definition:</b> A node $V$ is <b>r-reachable</b> from a decision $D \\in \\textbf{D}^i$ in a MAID, $\\mathcal{M} = (\\textbf{N}, \\textbf{V}, \\textbf{E})$, if a newly added parent $\\hat V$ of $V$ satisfies $\\hat V \\not\\perp \\textbf{U}^i \\cap \\textbf{Desc}_{D} \\mid \\textbf{Fa}_{D}$. \n",
    "</div> "
   ]
  },
  {
   "cell_type": "code",
   "execution_count": 4,
   "metadata": {},
   "outputs": [
    {
     "data": {
      "text/plain": [
       "True"
      ]
     },
     "execution_count": 4,
     "metadata": {},
     "output_type": "execute_result"
    }
   ],
   "source": [
    "macid.is_r_reachable('D1', 'D2')"
   ]
  },
  {
   "cell_type": "code",
   "execution_count": 5,
   "metadata": {},
   "outputs": [
    {
     "data": {
      "text/plain": [
       "True"
      ]
     },
     "execution_count": 5,
     "metadata": {},
     "output_type": "execute_result"
    }
   ],
   "source": [
    "macid.is_r_reachable('D2', 'D1')"
   ]
  },
  {
   "cell_type": "markdown",
   "metadata": {},
   "source": [
    "Each decision strategically relies on the other. The worker would be better off knowing the company’s hiring policy before deciding whether or not to go to university, and the algorithm would also be better off knowing the worker’s policy because it doesn’t know the worker’s temperament (lazyor hard-working). "
   ]
  },
  {
   "cell_type": "markdown",
   "metadata": {},
   "source": [
    "Relevance graphs show this visually: "
   ]
  },
  {
   "cell_type": "markdown",
   "metadata": {},
   "source": [
    "<div class=\"alert alert-block alert-info\">\n",
    "<b>Definition:</b> The directed <b> relevance graph </b> for $\\mathcal{M}$, denoted by $Rel(\\mathcal{M}) = (\\textbf{D}, \\textbf{E}_{Rel})$, is a graph where $\\textbf{D}$ is the set of $\\mathcal{M}$'s decision nodes connected by directed edges $\\textbf{E}_{Rel} \\subseteq \\textbf{D} \\times \\textbf{D}$. There is a directed edge from $D_j \\rightarrow D_k$ if and only if $D_k$ is r-reachable from $D_j$. \n",
    "</div> "
   ]
  },
  {
   "cell_type": "code",
   "execution_count": 6,
   "metadata": {},
   "outputs": [
    {
     "data": {
      "image/png": "[encoded data removed]",
      "text/plain": [
       "<Figure size 432x288 with 1 Axes>"
      ]
     },
     "metadata": {},
     "output_type": "display_data"
    }
   ],
   "source": [
    "RelevanceGraph(macid).draw() # the relevance graph for this example is cyclic."
   ]
  },
  {
   "cell_type": "markdown",
   "metadata": {},
   "source": [
    "## MAID subgames"
   ]
  },
  {
   "cell_type": "markdown",
   "metadata": {},
   "source": [
    "In Hammond et al (2021), we defined MAID subgames which, when parameterised as MAIMs, expose parts of the game that can be solved independently."
   ]
  },
  {
   "cell_type": "markdown",
   "metadata": {},
   "source": [
    "\n",
    "<div class=\"alert alert-block alert-info\">\n",
    "<b>Definition:</b> A <b> subgame base </b> for a MAID $(\\textbf{N}, \\textbf{V}, \\textbf{E})$ is a subset $\\textbf{V'}\\subseteq \\textbf{V}$ such that:\n",
    "\n",
    "- For any $X,Y\\in \\textbf{V}'$ and any directed path $X \\to \\cdots \\to Y$ in $\\mathcal{M}$, all nodes on the path are also in $\\textbf{V'}$.\n",
    "- $\\textbf{V}'$ is closed under r-reachability, i.e.\\ if a node $Z$ is r-reachable from a decision $D\\in \\textbf{V'}$, then $Z$ is also in $\\textbf{V'}$.\n",
    "</div> \n",
    "\n",
    "\n",
    "\n",
    "\n"
   ]
  },
  {
   "cell_type": "markdown",
   "metadata": {},
   "source": [
    "<div class=\"alert alert-block alert-info\">\n",
    "<b>Definition:</b> Let $\\mathcal{M} = (\\textbf{N}, \\textbf{V}, \\textbf{E})$ be a MAID,\n",
    "    and let $\\textbf{V'}\\subseteq \\textbf{V}$ be a subgame base. The <b>MAID subgame</b> corresponding to $\\textbf{V'}$, is a new MAID $\\mathcal{M}'=(\\textbf{N'}, \\textbf{V'}, \\textbf{E}')$  where:\n",
    "\n",
    "- $\\textbf{N'} = \\{i \\in \\textbf{N} \\mid \\textbf{D}^i \\cap \\textbf{V'} \\neq \\varnothing \\}$, the players restricted to $\\textbf{V'}$.\n",
    "- $\\textbf{V'}$ is partitioned into $\\textbf{D'} = \\textbf{D}\\cap \\textbf{V'}$, $\\textbf{U'} = \\textbf{U} \\cap \\textbf{Desc}_{\\textbf{D'}}$, and $\\textbf{X'} = \\textbf{V'} \\setminus (\\textbf{D'} \\cap \\textbf{U'})$.\n",
    "- $\\textbf{E}'$ is the subset of edges in $\\textbf{E}$ that connect two nodes in $\\textbf{V'}$. \n",
    "</div> "
   ]
  },
  {
   "cell_type": "markdown",
   "metadata": {},
   "source": [
    "<div class=\"alert alert-block alert-info\">\n",
    "    <b>Definition:</b> The <b> MAIM subgame </b> of a MAIM $(\\textbf{N}, \\textbf{V}, \\textbf{E}, \\theta)$ corresponding to a subset $\\textbf{V'}\\subseteq \\textbf{V}$ and an instantiation $\\textbf{y}$ of the nodes $\\textbf{Y} = \\textbf{V}\\setminus \\textbf{V'}$, is the modified MAIM $(\\textbf{N'}, \\textbf{V'}, \\textbf{E}', \\theta')$ where:\n",
    " \n",
    "- $(\\textbf{N'}, \\textbf{V'}, \\textbf{E}')$ is the MAID subgame corresponding to $\\textbf{V'}$.\n",
    "- $\\theta'$ is like $\\theta$, restricted to nodes in $\\textbf{V'}$. If a node $X\\in \\textbf{V'}$ has some parents outside of $\\textbf{V'}$ (i.e.\\ in $\\textbf{Y}$) then $\\Pr'(X\\mid \\textbf{pa}'_X) = \\Pr(X\\mid \\textbf{pa}'_X, \\textbf{y}')$, where $\\textbf{Pa}'_X=\\textbf{Pa}_X\\cap \\textbf{V'}$, $\\textbf{Y}' = \\textbf{Pa}_X\\cap \\textbf{Y}$, $\\textbf{Pr}$ is the CPD of $X$ in $\\theta$, and $\\textbf{Pr}'$ becomes the CPD of $X$ in $\\theta'$.\n",
    "</div> "
   ]
  },
  {
   "cell_type": "markdown",
   "metadata": {},
   "source": [
    "MAID subgames can also be defined via the strongly connected components of the the MAID's relevance graph. \n",
    "\n",
    "Recall that an SCC is a subgraph containing a directed path between every pair of nodes. A maximal SCC is an SCC that is not a strict subset of any other SCC:"
   ]
  },
  {
   "cell_type": "markdown",
   "metadata": {},
   "source": [
    "<div class=\"alert alert-block alert-info\">\n",
    "    <b>Definition:</b> For a given MAID $\\mathcal{M} = (\\textbf{N}, \\textbf{V}, \\textbf{E})$, let $\\textbf{C}$ be the set of maximal SCCs of its relevance graph $Rel(\\mathcal{M})$. The <b>condensed relevance graph </b> of $\\mathcal{M}$ is the directed graph $ConRel(\\mathcal{M}) = (\\textbf{C}, \\textbf{E}_{ConRel})$. There is an edge $\\textbf{C}_m \\rightarrow \\textbf{C}_l$ between $\\textbf{C}_m, \\textbf{C}_l\\in\\textbf{C}$ if and only if there exists $C_m\\in \\textbf{C}_m$ and $C_l\\in \\textbf{C}_l$ with and edge $C_m\\to C_l$ in $Rel(\\mathcal{M})$.\n",
    "    \n",
    "    \n",
    "    \n",
    "</div> "
   ]
  },
  {
   "cell_type": "markdown",
   "metadata": {},
   "source": [
    "Subgraphs of $ConRel(\\mathcal{M})$ closed under descendants induce MAID subgames."
   ]
  },
  {
   "cell_type": "markdown",
   "metadata": {},
   "source": [
    "Consider the MACID below:"
   ]
  },
  {
   "cell_type": "code",
   "execution_count": 7,
   "metadata": {},
   "outputs": [],
   "source": [
    "macid = MACID([\n",
    "        ('X2', 'U3'),\n",
    "        ('X2', 'D1'),\n",
    "        ('D3', 'U3'),\n",
    "        ('D3', 'U2'),\n",
    "        ('D1', 'U1'),\n",
    "        ('D1', 'U2'),\n",
    "        ('D2', 'U1'),\n",
    "        ('D2', 'U2'),\n",
    "        ('D4', 'U1'),\n",
    "        ('D4', 'D2'),\n",
    "        ('D4', 'U4'),\n",
    "        ('X1', 'D4'),\n",
    "        ('X1', 'U4'),\n",
    "        ],\n",
    "        {1: {'D': ['D1'], 'U': ['U1']},\n",
    "         2: {'D': ['D2'], 'U': ['U2']},\n",
    "         3: {'D': ['D3'], 'U': ['U3']},\n",
    "         4: {'D': ['D4'], 'U': ['U4']},\n",
    "\n",
    "         })"
   ]
  },
  {
   "cell_type": "code",
   "execution_count": 8,
   "metadata": {},
   "outputs": [
    {
     "data": {
      "image/png": "[encoded data removed]",
      "text/plain": [
       "<Figure size 432x288 with 1 Axes>"
      ]
     },
     "metadata": {},
     "output_type": "display_data"
    }
   ],
   "source": [
    "macid.draw()"
   ]
  },
  {
   "cell_type": "code",
   "execution_count": 9,
   "metadata": {},
   "outputs": [
    {
     "data": {
      "image/png": "[encoded data removed]",
      "text/plain": [
       "<Figure size 432x288 with 1 Axes>"
      ]
     },
     "metadata": {},
     "output_type": "display_data"
    }
   ],
   "source": [
    "RelevanceGraph(macid).draw()"
   ]
  },
  {
   "cell_type": "code",
   "execution_count": 10,
   "metadata": {},
   "outputs": [
    {
     "data": {
      "image/png": "[encoded data removed]",
      "text/plain": [
       "<Figure size 432x288 with 1 Axes>"
      ]
     },
     "metadata": {},
     "output_type": "display_data"
    }
   ],
   "source": [
    "macid.draw_sccs() #each SCC of the MACID's relevance graph is assigned a unique colour"
   ]
  },
  {
   "cell_type": "code",
   "execution_count": 11,
   "metadata": {},
   "outputs": [
    {
     "data": {
      "image/png": "[encoded data removed]",
      "text/plain": [
       "<Figure size 432x288 with 1 Axes>"
      ]
     },
     "metadata": {},
     "output_type": "display_data"
    }
   ],
   "source": [
    "CondensedRelevanceGraph(macid).draw() #the condensed relevance graph is always acyclic."
   ]
  },
  {
   "cell_type": "code",
   "execution_count": 12,
   "metadata": {},
   "outputs": [],
   "source": [
    "con_rel = CondensedRelevanceGraph(macid)"
   ]
  },
  {
   "cell_type": "code",
   "execution_count": 13,
   "metadata": {},
   "outputs": [
    {
     "data": {
      "text/plain": [
       "{'D3': 0, 'D4': 1, 'D1': 2, 'D2': 2}"
      ]
     },
     "execution_count": 13,
     "metadata": {},
     "output_type": "execute_result"
    }
   ],
   "source": [
    "con_rel.graph['mapping']  # this tells you which SCC each decision node is in."
   ]
  },
  {
   "cell_type": "code",
   "execution_count": 14,
   "metadata": {},
   "outputs": [
    {
     "data": {
      "text/plain": [
       "[{'D3'}, {'D4'}, {'D3', 'D4'}, {'D1', 'D2', 'D3', 'D4'}]"
      ]
     },
     "execution_count": 14,
     "metadata": {},
     "output_type": "execute_result"
    }
   ],
   "source": [
    "macid.all_maid_subgames() #this gives the set of decision nodes in each MAID subgame of the original MAID."
   ]
  },
  {
   "cell_type": "markdown",
   "metadata": {},
   "source": [
    "## Finding pure SPEs in MAIDs"
   ]
  },
  {
   "cell_type": "markdown",
   "metadata": {},
   "source": [
    "<div class=\"alert alert-block alert-info\">\n",
    "    <b>Definition:</b> A full policy profile $\\pi$ is a <b>Nash equilibrium (NE)</b> in a MAIM $\\mathcal{M}$ if, for every player $i \\in \\textbf{N}$, $\\mathcal{U}^i_\\mathcal{M}(\\pi^i, \\pi^{-i}) \\geq \\mathcal{U}^i_\\mathcal{M}(\\hat{\\pi}^i, \\pi^{-i})$ for all $\\hat{\\pi}^i \\in \\Pi^i$.\n",
    " </div>"
   ]
  },
  {
   "cell_type": "markdown",
   "metadata": {},
   "source": [
    "<div class=\"alert alert-block alert-info\">\n",
    "    <b>Definition:</b> A full policy profile $\\pi$ is a <b>subgame perfect equilibrium (SPE)</b> in a MAIM $\\mathcal{M}$ if $\\pi$ is an NE in every MAIM subgame of $\\mathcal{M}$.\n",
    " </div>"
   ]
  },
  {
   "cell_type": "markdown",
   "metadata": {},
   "source": [
    "__Taxi Competition Example__ (Hammond et al, 2021) _Two autonomous taxis, operated by different companies, are driving along a road with two hotels located next to one another -- one expensive and one cheap. Each taxi must decide (one first, then the other) which hotel to stop in front of, knowing that it will likely receive a higher tip from guests of the expensive hotel. However, if both taxis choose the same location, this will reduce each taxi's chance of being chosen by that hotel's guests._"
   ]
  },
  {
   "cell_type": "markdown",
   "metadata": {},
   "source": [
    "The MAID for this example is pretty simple:"
   ]
  },
  {
   "cell_type": "code",
   "execution_count": 15,
   "metadata": {},
   "outputs": [],
   "source": [
    "macid = MACID([\n",
    "        ('D1', 'D2'),  #specifying the nodes and edges.\n",
    "        ('D1', 'U1'),\n",
    "        ('D1', 'U2'),\n",
    "        ('D2', 'U1'),\n",
    "        ('D2', 'U2')],\n",
    "        {1: {'D': ['D1'], 'U': ['U1']}, # specifying each agent's decision and utility nodes.\n",
    "         2: {'D': ['D2'], 'U': ['U2']}})\n",
    "\n",
    "cpd_d1 = DecisionDomain('D1', [0, 1])\n",
    "cpd_d2 = DecisionDomain('D2', [0, 1])\n",
    "\n",
    "cpd_u1 = TabularCPD('U1', 6, np.array([[0, 0, 0, 0],\n",
    "                                       [0, 0, 0, 1],\n",
    "                                       [1, 0, 0, 0],\n",
    "                                       [0, 0, 1, 0],\n",
    "                                       [0, 0, 0, 0],\n",
    "                                       [0, 1, 0, 0],\n",
    "                                      ]),\n",
    "                    evidence=['D1', 'D2'], evidence_card=[2, 2])\n",
    "cpd_u2 = TabularCPD('U2', 6, np.array([[0, 0, 0, 0],\n",
    "                                       [0, 0, 0, 1],\n",
    "                                       [1, 0, 0, 0],\n",
    "                                       [0, 1, 0, 0],\n",
    "                                       [0, 0, 0, 0],\n",
    "                                       [0, 0, 1, 0]]),\n",
    "                    evidence=['D1', 'D2'], evidence_card=[2, 2])\n",
    "\n",
    "macid.add_cpds(cpd_d1, cpd_d2, cpd_u1, cpd_u2)\n"
   ]
  },
  {
   "cell_type": "code",
   "execution_count": 16,
   "metadata": {},
   "outputs": [
    {
     "data": {
      "image/png": "[encoded data removed]",
      "text/plain": [
       "<Figure size 432x288 with 1 Axes>"
      ]
     },
     "metadata": {},
     "output_type": "display_data"
    }
   ],
   "source": [
    "macid.draw()"
   ]
  },
  {
   "cell_type": "markdown",
   "metadata": {},
   "source": [
    "The relevance graph for this MAID is acyclic:"
   ]
  },
  {
   "cell_type": "code",
   "execution_count": 17,
   "metadata": {},
   "outputs": [
    {
     "data": {
      "image/png": "[encoded data removed]",
      "text/plain": [
       "<Figure size 432x288 with 1 Axes>"
      ]
     },
     "metadata": {},
     "output_type": "display_data"
    }
   ],
   "source": [
    "RelevanceGraph(macid).draw()"
   ]
  },
  {
   "cell_type": "code",
   "execution_count": 18,
   "metadata": {},
   "outputs": [
    {
     "name": "stderr",
     "output_type": "stream",
     "text": [
      "WARNING:root:Replacing existing CPD for D1\n",
      "WARNING:root:Replacing existing CPD for D2\n",
      "Eliminating: U1: 100%|██████████| 1/1 [00:00<00:00, 380.09it/s]\n",
      "Eliminating: U1: 100%|██████████| 1/1 [00:00<00:00, 550.94it/s]\n",
      "Eliminating: U1: 100%|██████████| 1/1 [00:00<00:00, 521.61it/s]\n",
      "Eliminating: U1: 100%|██████████| 1/1 [00:00<00:00, 793.02it/s]\n",
      "Eliminating: U2: 100%|██████████| 1/1 [00:00<00:00, 679.35it/s]\n",
      "Eliminating: U2: 100%|██████████| 1/1 [00:00<00:00, 369.15it/s]"
     ]
    },
    {
     "name": "stdout",
     "output_type": "stream",
     "text": [
      "<class 'pgmpy.inference.ExactInference.BeliefPropagation'>\n"
     ]
    },
    {
     "name": "stderr",
     "output_type": "stream",
     "text": [
      "\n"
     ]
    },
    {
     "data": {
      "text/plain": [
       "[[('D1', [], 0), ('D2', [('D1', 0)], 1), ('D2', [('D1', 1)], 0)]]"
      ]
     },
     "execution_count": 18,
     "metadata": {},
     "output_type": "execute_result"
    }
   ],
   "source": [
    "macid.get_all_pure_spe()"
   ]
  },
  {
   "cell_type": "markdown",
   "metadata": {},
   "source": [
    "The first argument of each triple gives the decision node, the second argument gives the decision context being conditioned on, and the third gives the decision node's action prescribed by the pure SPE. (Note: action 0/1 = stopping in front of the expensive/cheap hotel)"
   ]
  },
  {
   "cell_type": "markdown",
   "metadata": {},
   "source": [
    "Our implementation handles tie-breaks when the expected utility of two different actions for an agent is the same (in other words, it finds all pure SPE). To show this, we tweak the parameterisation of our example slightly so that now if the first taxi stops in front of the cheap hotel, the second taxi is indifferent between its two action choices. "
   ]
  },
  {
   "cell_type": "code",
   "execution_count": 19,
   "metadata": {},
   "outputs": [],
   "source": [
    "macid = MACID([\n",
    "        ('D1', 'D2'),  #specifying the nodes and edges.\n",
    "        ('D1', 'U1'),\n",
    "        ('D1', 'U2'),\n",
    "        ('D2', 'U1'),\n",
    "        ('D2', 'U2')],\n",
    "        {1: {'D': ['D1'], 'U': ['U1']}, # specifying each agent's decision and utility nodes.\n",
    "         2: {'D': ['D2'], 'U': ['U2']}})\n",
    "\n",
    "cpd_d1 = DecisionDomain('D1', [0, 1])\n",
    "cpd_d2 = DecisionDomain('D2', [0, 1])\n",
    "\n",
    "cpd_u1 = TabularCPD('U1', 6, np.array([[0, 0, 0, 0],\n",
    "                                       [0, 0, 0, 1],\n",
    "                                       [1, 0, 0, 0],\n",
    "                                       [0, 0, 1, 0],\n",
    "                                       [0, 0, 0, 0],\n",
    "                                       [0, 1, 0, 0],\n",
    "                                      ]),\n",
    "                    evidence=['D1', 'D2'], evidence_card=[2, 2])\n",
    "cpd_u2 = TabularCPD('U2', 6, np.array([[0, 0, 0, 0],\n",
    "                                       [0, 0, 0, 0],\n",
    "                                       [1, 0, 0, 0],\n",
    "                                       [0, 1, 0, 0],\n",
    "                                       [0, 0, 0, 0],\n",
    "                                       [0, 0, 1, 1]]),\n",
    "                    evidence=['D1', 'D2'], evidence_card=[2, 2])\n",
    "\n",
    "macid.add_cpds(cpd_d1, cpd_d2, cpd_u1, cpd_u2)"
   ]
  },
  {
   "cell_type": "code",
   "execution_count": 20,
   "metadata": {},
   "outputs": [
    {
     "name": "stderr",
     "output_type": "stream",
     "text": [
      "WARNING:root:Replacing existing CPD for D1\n",
      "WARNING:root:Replacing existing CPD for D2\n",
      "Eliminating: U1: 100%|██████████| 1/1 [00:00<00:00, 1254.28it/s]\n",
      "Eliminating: U1: 100%|██████████| 1/1 [00:00<00:00, 1079.89it/s]\n",
      "Eliminating: U1: 100%|██████████| 1/1 [00:00<00:00, 1080.17it/s]\n",
      "Eliminating: U1: 100%|██████████| 1/1 [00:00<00:00, 899.29it/s]\n",
      "Eliminating: U2: 100%|██████████| 1/1 [00:00<00:00, 910.82it/s]\n",
      "Eliminating: U2: 100%|██████████| 1/1 [00:00<00:00, 1365.78it/s]\n",
      "Eliminating: U2: 100%|██████████| 1/1 [00:00<00:00, 484.05it/s]\n",
      "Eliminating: U2: 100%|██████████| 1/1 [00:00<00:00, 1153.55it/s]"
     ]
    },
    {
     "name": "stdout",
     "output_type": "stream",
     "text": [
      "<class 'pgmpy.inference.ExactInference.BeliefPropagation'>\n"
     ]
    },
    {
     "name": "stderr",
     "output_type": "stream",
     "text": [
      "\n"
     ]
    },
    {
     "data": {
      "text/plain": [
       "[[('D1', [], 0), ('D2', [('D1', 0)], 1), ('D2', [('D1', 1)], 0)],\n",
       " [('D1', [], 0), ('D2', [('D1', 0)], 1), ('D2', [('D1', 1)], 1)]]"
      ]
     },
     "execution_count": 20,
     "metadata": {},
     "output_type": "execute_result"
    }
   ],
   "source": [
    "macid.get_all_pure_spe()"
   ]
  },
  {
   "cell_type": "markdown",
   "metadata": {},
   "source": [
    "The game represented by this MAID now has two SPE."
   ]
  },
  {
   "cell_type": "markdown",
   "metadata": {},
   "source": [
    "## References\n",
    "\n",
    "Hammond, L., Fox, J., Everitt, T., Abate, A., & Wooldridge, M. (2021). Equilibrium Refinements for Multi-Agent Influence Diagrams: Theory and Practice. arXiv preprint arXiv:2102.05008.\n",
    "\n",
    "J., Pearl. (2009) .Causality. Cambridge University Press, Cambridge, UK"
   ]
  }
 ],
 "metadata": {
  "kernelspec": {
   "display_name": "Python 3",
   "language": "python",
   "name": "python3"
  },
  "language_info": {
   "codemirror_mode": {
    "name": "ipython",
    "version": 3
   },
   "file_extension": ".py",
   "mimetype": "text/x-python",
   "name": "python",
   "nbconvert_exporter": "python",
   "pygments_lexer": "ipython3",
   "version": "3.9.1"
  }
 },
 "nbformat": 4,
 "nbformat_minor": 4
}
