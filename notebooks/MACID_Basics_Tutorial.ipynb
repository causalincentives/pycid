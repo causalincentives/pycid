{
 "cells": [
  {
   "cell_type": "markdown",
   "metadata": {},
   "source": [
    "# MACID tutorial"
   ]
  },
  {
   "cell_type": "code",
   "execution_count": 1,
   "metadata": {},
   "outputs": [
    {
     "data": {
      "application/javascript": [
       "IPython.notebook.set_autosave_interval(60000)"
      ]
     },
     "metadata": {},
     "output_type": "display_data"
    },
    {
     "name": "stdout",
     "output_type": "stream",
     "text": [
      "Autosaving every 60 seconds\n"
     ]
    },
    {
     "name": "stderr",
     "output_type": "stream",
     "text": [
      "/home/fox/anaconda3/envs/py39/lib/python3.9/site-packages/torch/cuda/__init__.py:52: UserWarning: CUDA initialization: Found no NVIDIA driver on your system. Please check that you have an NVIDIA GPU and installed a driver from http://www.nvidia.com/Download/index.aspx (Triggered internally at  /pytorch/c10/cuda/CUDAFunctions.cpp:100.)\n",
      "  return torch._C._cuda_getDeviceCount() > 0\n"
     ]
    }
   ],
   "source": [
    "#importing necessary libraries\n",
    "%load_ext autoreload\n",
    "%autoreload 2\n",
    "%matplotlib inline\n",
    "%autosave 60\n",
    "import sys\n",
    "sys.path.append(\"..\") #TODO: make /cid a package, then delete this\n",
    "import numpy as np\n",
    "from core.cid import CID\n",
    "from core.macid import MACID\n",
    "from core.relevance_graph import RelevanceGraph, CondensedRelevanceGraph\n",
    "from core.get_paths import find_active_path, get_motifs, find_all_dir_paths\n",
    "from core.cpd import FunctionCPD, DecisionDomain, UniformRandomCPD\n",
    "from pgmpy.factors.discrete import TabularCPD"
   ]
  },
  {
   "cell_type": "markdown",
   "metadata": {},
   "source": [
    "## Introduction to MA(C)IDs and MA(C)IMs"
   ]
  },
  {
   "cell_type": "markdown",
   "metadata": {},
   "source": [
    "In the CID tutorial, we showed how to instantiate single-agent causal influence diagrams (CIDs) and models (CIMs). In this section, we demonstrate how to use our codebase for multi-agent causal influence diagrams (MACIDs)"
   ]
  },
  {
   "cell_type": "markdown",
   "metadata": {},
   "source": [
    "<div class=\"alert alert-block alert-info\">\n",
    "<b>Definition:</b> \n",
    "A <b>multi-agent influence diagram (MAID)</b> (Hammond et al, 2021) is a triple $(\\textbf{N}, \\textbf{V}, \\textbf{E})$, where:\n",
    "    \n",
    " - $\\textbf{N} = \\{1,\\dots,n\\}$ is a set of agents.\n",
    " - $(\\textbf{V}, \\textbf{E})$ is a directed acyclic graph (DAG) with a set of vertices $\\textbf{V}$ connected by directed edges $\\textbf{E} \\subseteq \\textbf{V} \\times \\textbf{V}$. These vertices are partitioned into $\\textbf{D}$, $\\textbf{U}$, and $\\textbf{X}$, which correspond to decision, utility, and chance nodes respectively. $\\textbf{D}$ and $\\textbf{U}$ are in turn partitioned into $\\{\\textbf{D}^i\\}_{i\\in \\textbf{N}}$ and $\\{\\textbf{U}^i\\}_{i\\in \\textbf{N}}$ corresponding to their association with a particular agent $i \\in \\textbf{N}$.\n",
    "   \n",
    "</div> \n"
   ]
  },
  {
   "cell_type": "markdown",
   "metadata": {},
   "source": [
    "<div class=\"alert alert-block alert-info\">\n",
    "<b>Definition:</b> A <b>multi-agent influence model (MAIM)</b> (Hammond et al, 2021) is a tuple $(\\textbf{N}, \\textbf{V}, \\textbf{E}, \\theta)$ where $(\\textbf{N}, \\textbf{V}, \\textbf{E})$ is a MAID and:\n",
    "\n",
    "- $\\theta \\in \\Theta$ is a particular parametrisation over the nodes in the graph specifying a finite domain $\\textbf{dom}(V)$ for each node $V \\in \\textbf{V}$, real-valued domains $\\textbf{dom}(U) \\subset \\mathbb{R}$ for each $U \\in \\textbf{U}$, and a set of conditional probability distributions (CPDs) $\\Pr(\\textbf{V} \\mid \\textbf{Pa}_V)$ for every chance and utility node. Taken together, the CPDs form a partial distribution $\\Pr(\\textbf{X},\\textbf{U} : \\textbf{D}) = \\prod_{V \\in \\textbf{V} \\setminus \\textbf{D}} \\Pr(V \\mid \\textbf{Pa}_V)$ over the variables in the MAID.\n",
    " - The value $u \\in \\textbf{dom}(U)$ of a utility node is a deterministic function of the values of its parents $\\textbf{pa}_U \\in \\textbf{dom}(\\textbf{Pa}_U)$.\n",
    "</div> "
   ]
  },
  {
   "cell_type": "markdown",
   "metadata": {},
   "source": [
    "Note: these definitions define MAIDs and MAIMs as opposed to MACIDs and MACIMs. A MACID is a multi-agent causal influence diagram, which differs from a MAID because the edges now represent every causal relationship between the random variables chosen to be endogenous variables in the model. However, because MACIDs subsume MAIDs (in the sense of Pearl's `causal hierarchy` (Pearl, 2009)), meaning that everything we can do in a MAID, we can also do in a MACID, for the purpose of this codebase treat these models the same."
   ]
  },
  {
   "cell_type": "markdown",
   "metadata": {},
   "source": [
    "As we did in the CID basics tutorial, we'll start by showing how to instantiate a MACID showcasing some useful methods. We'll then show how to parameterise them as MACIMs. "
   ]
  },
  {
   "cell_type": "markdown",
   "metadata": {},
   "source": [
    "__Job Hiring Example:__ _A company employs an AI system to automate their hiring process. A naturally hard-working or naturally lazy worker wants a job at this company and believes that a university degree will increase their chance of being hired; however, they also know that they will suffer an opportunity cost from three years of studying. A hard-worker will cope better with a university workload than a lazy worker. The algorithm must decide, on behalf of the company, whether to hire the worker. The company wants to hire someone who is naturally hard-working, but the algorithm can't observe the worker's temperament directly, it can only infer it indirectly through whether or not the worker attended university._\n",
    "\n",
    "We can construct a MACID for this example where:\n",
    "\n",
    "- X = whether the worker is naturally hard working or lazy (chance node)\n",
    "- D1 and U1 correspond to the worker's decision whether or not to go to university (and their utility)\n",
    "- D2 and U2 correspond to the algorithm's decision whether or not to hire the worker (and the company's utility)"
   ]
  },
  {
   "cell_type": "code",
   "execution_count": 2,
   "metadata": {},
   "outputs": [],
   "source": [
    "macid = MACID([\n",
    "        ('X', 'D1'),  #specifies the MAICD's nodes and edges.\n",
    "        ('X', 'U2'),\n",
    "        ('X', 'U1'),\n",
    "        ('D1', 'D2'),\n",
    "        ('D1', 'U1'),\n",
    "        ('D2', 'U1'),\n",
    "        ('D2', 'U2'),\n",
    "        ],\n",
    "        {1: {'D': ['D1'], 'U': ['U1']}, # specifies each agent's decision and utility nodes.\n",
    "         2: {'D': ['D2'], 'U': ['U2']}})"
   ]
  },
  {
   "cell_type": "code",
   "execution_count": 3,
   "metadata": {},
   "outputs": [
    {
     "data": {
      "image/png": "[encoded data removed]",
      "text/plain": [
       "<Figure size 432x288 with 1 Axes>"
      ]
     },
     "metadata": {},
     "output_type": "display_data"
    }
   ],
   "source": [
    "macid.draw()"
   ]
  },
  {
   "cell_type": "markdown",
   "metadata": {},
   "source": [
    "Consistent with CIDs, chance nodes are drawn as circles, decision nodes are drawn as rectangles, and utility nodes are drawn as diamonds. Because we now have more than one player, we reserve colouring to denote agent membership; each agent of the game is assigned a unique colour."
   ]
  },
  {
   "cell_type": "markdown",
   "metadata": {},
   "source": [
    "In Hammond et al (2021), we introduced the graphical criterion _r-reachability_ to determine whether another decision node is strategically relevant or a chance node is probabilistically relevant to a decision node (see paper)."
   ]
  },
  {
   "cell_type": "markdown",
   "metadata": {},
   "source": [
    "<div class=\"alert alert-block alert-info\">\n",
    "<b>Definition:</b> A node $V$ is <b>r-reachable</b> from a decision $D \\in \\textbf{D}^i$ in a MAID, $\\mathcal{M} = (\\textbf{N}, \\textbf{V}, \\textbf{E})$, if a newly added parent $\\hat V$ of $V$ satisfies $\\hat V \\not\\perp \\textbf{U}^i \\cap \\textbf{Desc}_{D} \\mid \\textbf{Fa}_{D}$. \n",
    "</div> "
   ]
  },
  {
   "cell_type": "code",
   "execution_count": 4,
   "metadata": {},
   "outputs": [
    {
     "data": {
      "text/plain": [
       "True"
      ]
     },
     "execution_count": 4,
     "metadata": {},
     "output_type": "execute_result"
    }
   ],
   "source": [
    "macid.is_r_reachable('D1', 'D2')"
   ]
  },
  {
   "cell_type": "code",
   "execution_count": 5,
   "metadata": {},
   "outputs": [
    {
     "data": {
      "text/plain": [
       "True"
      ]
     },
     "execution_count": 5,
     "metadata": {},
     "output_type": "execute_result"
    }
   ],
   "source": [
    "macid.is_r_reachable('D2', 'D1')"
   ]
  },
  {
   "cell_type": "markdown",
   "metadata": {},
   "source": [
    "Each decision strategically relies on the other. The worker would be better off knowing the company’s hiring policy before deciding whether or not to go to university, and the algorithm would also be better off knowing the worker’s policy because it doesn’t know the worker’s temperament (lazyor hard-working). "
   ]
  },
  {
   "cell_type": "markdown",
   "metadata": {},
   "source": [
    "Relevance graphs show this visually: "
   ]
  },
  {
   "cell_type": "markdown",
   "metadata": {},
   "source": [
    "<div class=\"alert alert-block alert-info\">\n",
    "<b>Definition:</b> The directed <b> relevance graph </b> for $\\mathcal{M}$, denoted by $Rel(\\mathcal{M}) = (\\textbf{D}, \\textbf{E}_{Rel})$, is a graph where $\\textbf{D}$ is the set of $\\mathcal{M}$'s decision nodes connected by directed edges $\\textbf{E}_{Rel} \\subseteq \\textbf{D} \\times \\textbf{D}$. There is a directed edge from $D_j \\rightarrow D_k$ if and only if $D_k$ is r-reachable from $D_j$. \n",
    "</div> "
   ]
  },
  {
   "cell_type": "code",
   "execution_count": null,
   "metadata": {},
   "outputs": [],
   "source": []
  },
  {
   "cell_type": "code",
   "execution_count": 6,
   "metadata": {},
   "outputs": [
    {
     "data": {
      "image/png": "[encoded data removed]",
      "text/plain": [
       "<Figure size 432x288 with 1 Axes>"
      ]
     },
     "metadata": {},
     "output_type": "display_data"
    }
   ],
   "source": [
    "RelevanceGraph(macid).draw() # the relevance graph for this example is cyclic."
   ]
  },
  {
   "cell_type": "markdown",
   "metadata": {},
   "source": [
    "## MAID subgames"
   ]
  },
  {
   "cell_type": "markdown",
   "metadata": {},
   "source": [
    "In Hammond et al (2021), we defined MAID subgames which, when parameterised as MAIMs, expose parts of the game that can be solved independently."
   ]
  },
  {
   "cell_type": "markdown",
   "metadata": {},
   "source": [
    "\n",
    "<div class=\"alert alert-block alert-info\">\n",
    "<b>Definition:</b> A <b> subgame base </b> for a MAID $(\\textbf{N}, \\textbf{V}, \\textbf{E})$ is a subset $\\textbf{V'}\\subseteq \\textbf{V}$ such that:\n",
    "\n",
    "- For any $X,Y\\in \\textbf{V}'$ and any directed path $X \\to \\cdots \\to Y$ in $\\mathcal{M}$, all nodes on the path are also in $\\textbf{V'}$.\n",
    "- $\\textbf{V}'$ is closed under r-reachability, i.e.\\ if a node $Z$ is r-reachable from a decision $D\\in \\textbf{V'}$, then $Z$ is also in $\\textbf{V'}$.\n",
    "</div> \n",
    "\n",
    "\n",
    "\n",
    "\n"
   ]
  },
  {
   "cell_type": "markdown",
   "metadata": {},
   "source": [
    "<div class=\"alert alert-block alert-info\">\n",
    "<b>Definition:</b> Let $\\mathcal{M} = (\\textbf{N}, \\textbf{V}, \\textbf{E})$ be a MAID,\n",
    "    and let $\\textbf{V'}\\subseteq \\textbf{V}$ be a subgame base. The <b>MAID subgame</b> corresponding to $\\textbf{V'}$, is a new MAID $\\mathcal{M}'=(\\textbf{N'}, \\textbf{V'}, \\textbf{E}')$  where:\n",
    "\n",
    "- $\\textbf{N'} = \\{i \\in \\textbf{N} \\mid \\textbf{D}^i \\cap \\textbf{V'} \\neq \\varnothing \\}$, the players restricted to $\\textbf{V'}$.\n",
    "- $\\textbf{V'}$ is partitioned into $\\textbf{D'} = \\textbf{D}\\cap \\textbf{V'}$, $\\textbf{U'} = \\textbf{U} \\cap \\textbf{Desc}_{\\textbf{D'}}$, and $\\textbf{X'} = \\textbf{V'} \\setminus (\\textbf{D'} \\cap \\textbf{U'})$.\n",
    "- $\\textbf{E}'$ is the subset of edges in $\\textbf{E}$ that connect two nodes in $\\textbf{V'}$. \n",
    "</div> "
   ]
  },
  {
   "cell_type": "markdown",
   "metadata": {},
   "source": [
    "<div class=\"alert alert-block alert-info\">\n",
    "    <b>Definition:</b> The <b> MAIM subgame </b> of a MAIM $(\\textbf{N}, \\textbf{V}, \\textbf{E}, \\theta)$ corresponding to a subset $\\textbf{V'}\\subseteq \\textbf{V}$ and an instantiation $\\textbf{y}$ of the nodes $\\textbf{Y} = \\textbf{V}\\setminus \\textbf{V'}$, is the modified MAIM $(\\textbf{N'}, \\textbf{V'}, \\textbf{E}', \\theta')$ where:\n",
    " \n",
    "- $(\\textbf{N'}, \\textbf{V'}, \\textbf{E}')$ is the MAID subgame corresponding to $\\textbf{V'}$.\n",
    "- $\\theta'$ is like $\\theta$, restricted to nodes in $\\textbf{V'}$. If a node $X\\in \\textbf{V'}$ has some parents outside of $\\textbf{V'}$ (i.e.\\ in $\\textbf{Y}$) then $\\Pr'(X\\mid \\textbf{pa}'_X) = \\Pr(X\\mid \\textbf{pa}'_X, \\textbf{y}')$, where $\\textbf{Pa}'_X=\\textbf{Pa}_X\\cap \\textbf{V'}$, $\\textbf{Y}' = \\textbf{Pa}_X\\cap \\textbf{Y}$, $\\textbf{Pr}$ is the CPD of $X$ in $\\theta$, and $\\textbf{Pr}'$ becomes the CPD of $X$ in $\\theta'$.\n",
    "</div> "
   ]
  },
  {
   "cell_type": "markdown",
   "metadata": {},
   "source": [
    "MAID subgames can also be defined via the strongly connected components of the the MAID's relevance graph. \n",
    "\n",
    "Recall that an SCC is a subgraph containing a directed path between every pair of nodes. A maximal SCC is an SCC that is not a strict subset of any other SCC:"
   ]
  },
  {
   "cell_type": "markdown",
   "metadata": {},
   "source": [
    "<div class=\"alert alert-block alert-info\">\n",
    "    <b>Definition:</b> For a given MAID $\\mathcal{M} = (\\textbf{N}, \\textbf{V}, \\textbf{E})$, let $\\textbf{C}$ be the set of maximal SCCs of its relevance graph $Rel(\\mathcal{M})$. The <b>condensed relevance graph </b> of $\\mathcal{M}$ is the directed graph $ConRel(\\mathcal{M}) = (\\textbf{C}, \\textbf{E}_{ConRel})$. There is an edge $\\textbf{C}_m \\rightarrow \\textbf{C}_l$ between $\\textbf{C}_m, \\textbf{C}_l\\in\\textbf{C}$ if and only if there exists $C_m\\in \\textbf{C}_m$ and $C_l\\in \\textbf{C}_l$ with and edge $C_m\\to C_l$ in $Rel(\\mathcal{M})$.\n",
    "    \n",
    "    \n",
    "    \n",
    "</div> "
   ]
  },
  {
   "cell_type": "markdown",
   "metadata": {},
   "source": [
    "Subgraphs of $ConRel(\\mathcal{M})$ closed under descendants induce MAID subgames."
   ]
  },
  {
   "cell_type": "markdown",
   "metadata": {},
   "source": [
    "Consider the MACID below:"
   ]
  },
  {
   "cell_type": "code",
   "execution_count": 7,
   "metadata": {},
   "outputs": [],
   "source": [
    "macid = MACID([\n",
    "        ('X2', 'U3'),\n",
    "        ('X2', 'D1'),\n",
    "        ('D3', 'U3'),\n",
    "        ('D3', 'U2'),\n",
    "        ('D1', 'U1'),\n",
    "        ('D1', 'U2'),\n",
    "        ('D2', 'U1'),\n",
    "        ('D2', 'U2'),\n",
    "        ('D4', 'U1'),\n",
    "        ('D4', 'D2'),\n",
    "        ('D4', 'U4'),\n",
    "        ('X1', 'D4'),\n",
    "        ('X1', 'U4'),\n",
    "        ],\n",
    "        {1: {'D': ['D1'], 'U': ['U1']},\n",
    "         2: {'D': ['D2'], 'U': ['U2']},\n",
    "         3: {'D': ['D3'], 'U': ['U3']},\n",
    "         4: {'D': ['D4'], 'U': ['U4']},\n",
    "\n",
    "         })"
   ]
  },
  {
   "cell_type": "code",
   "execution_count": 8,
   "metadata": {},
   "outputs": [
    {
     "data": {
      "image/png": "[encoded data removed]",
      "text/plain": [
       "<Figure size 432x288 with 1 Axes>"
      ]
     },
     "metadata": {},
     "output_type": "display_data"
    }
   ],
   "source": [
    "macid.draw()"
   ]
  },
  {
   "cell_type": "code",
   "execution_count": 9,
   "metadata": {},
   "outputs": [
    {
     "data": {
      "image/png": "[encoded data removed]",
      "text/plain": [
       "<Figure size 432x288 with 1 Axes>"
      ]
     },
     "metadata": {},
     "output_type": "display_data"
    }
   ],
   "source": [
    "RelevanceGraph(macid).draw()"
   ]
  },
  {
   "cell_type": "code",
   "execution_count": 10,
   "metadata": {},
   "outputs": [
    {
     "data": {
      "image/png": "[encoded data removed]",
      "text/plain": [
       "<Figure size 432x288 with 1 Axes>"
      ]
     },
     "metadata": {},
     "output_type": "display_data"
    }
   ],
   "source": [
    "macid.draw_sccs() #each SCC of the MACID's relevance graph is assigned a unique colour"
   ]
  },
  {
   "cell_type": "code",
   "execution_count": 11,
   "metadata": {},
   "outputs": [
    {
     "data": {
      "image/png": "[encoded data removed]",
      "text/plain": [
       "<Figure size 432x288 with 1 Axes>"
      ]
     },
     "metadata": {},
     "output_type": "display_data"
    }
   ],
   "source": [
    "CondensedRelevanceGraph(macid).draw() #the condensed relevance graph is always acyclic."
   ]
  },
  {
   "cell_type": "code",
   "execution_count": 12,
   "metadata": {},
   "outputs": [],
   "source": [
    "con_rel = CondensedRelevanceGraph(macid)"
   ]
  },
  {
   "cell_type": "code",
   "execution_count": 13,
   "metadata": {},
   "outputs": [
    {
     "data": {
      "text/plain": [
       "{'D3': 0, 'D4': 1, 'D1': 2, 'D2': 2}"
      ]
     },
     "execution_count": 13,
     "metadata": {},
     "output_type": "execute_result"
    }
   ],
   "source": [
    "con_rel.graph['mapping']  # this tells you which SCC each decision node is in."
   ]
  },
  {
   "cell_type": "code",
   "execution_count": 14,
   "metadata": {},
   "outputs": [
    {
     "data": {
      "text/plain": [
       "[{'D3'}, {'D4'}, {'D3', 'D4'}, {'D1', 'D2', 'D3', 'D4'}]"
      ]
     },
     "execution_count": 14,
     "metadata": {},
     "output_type": "execute_result"
    }
   ],
   "source": [
    "macid.all_maid_subgames() #this gives the set of decision nodes in each MAID subgame of the original MAID."
   ]
  },
  {
   "cell_type": "markdown",
   "metadata": {},
   "source": [
    "## MAIMs"
   ]
  },
  {
   "cell_type": "markdown",
   "metadata": {},
   "source": [
    "Earlier, we explained that a MACIM is a parameterised MACID. To demonstrate this, we'll create a MAIM for the Prisoner's Dilemma"
   ]
  },
  {
   "cell_type": "markdown",
   "metadata": {},
   "source": [
    "This is a simultaneous symmetric two-player game with payoffs corresponding to the following normal\n",
    "form game - the row player is agent 1 and the column player is agent 2:  \n",
    "  "
   ]
  },
  {
   "attachments": {
    "image.png": {
     "image/png": "[encoded data removed]"
    }
   },
   "cell_type": "markdown",
   "metadata": {},
   "source": [
    "![image.png](attachment:image.png)"
   ]
  },
  {
   "cell_type": "code",
   "execution_count": 47,
   "metadata": {},
   "outputs": [],
   "source": [
    "\n",
    "    \n",
    "macid = MACID([     # Specifiying the MACID for this example as before\n",
    "    ('D1', 'U1'),\n",
    "    ('D1', 'U2'),\n",
    "    ('D2', 'U2'),\n",
    "    ('D2', 'U1')],\n",
    "    {1: {'D': ['D1'], 'U': ['U1']},\n",
    "     2: {'D': ['D2'], 'U': ['U2']}})\n",
    "\n",
    "d1_domain = ['c', 'd']   #specifying the domain of each decision variable\n",
    "d2_domain = ['c', 'd']\n",
    "cpd_d1 = DecisionDomain('D1', d1_domain)    \n",
    "cpd_d2 = DecisionDomain('D2', d2_domain)\n",
    "\n",
    "agent1_payoff = np.array([[-1, -3],   #specifying the payoff matrices corresponding to the normal form representation \n",
    "                         [0, -2]])    # of the game shown in the doc string.\n",
    "agent2_payoff = np.transpose(agent1_payoff)\n",
    "\n",
    "cpd_u1 = FunctionCPD('U1', lambda d1, d2: agent1_payoff[d1_domain.index(d1), d2_domain.index(d2)], evidence=['D1', 'D2'], label = 'Agent 1 payoff')\n",
    "cpd_u2 = FunctionCPD('U2', lambda d1, d2: agent2_payoff[d1_domain.index(d1), d2_domain.index(d2)], evidence=['D1', 'D2'], label = 'Agent 2 payoff')\n",
    "\n",
    "macid.add_cpds(cpd_d1, cpd_d2, cpd_u1, cpd_u2)\n"
   ]
  },
  {
   "cell_type": "markdown",
   "metadata": {},
   "source": [
    "This is the same as how we parameterised CIDs as CIMs in the CID Basics Tutorial"
   ]
  },
  {
   "cell_type": "code",
   "execution_count": 48,
   "metadata": {},
   "outputs": [
    {
     "data": {
      "image/png": "[encoded data removed]",
      "text/plain": [
       "<Figure size 432x288 with 1 Axes>"
      ]
     },
     "metadata": {},
     "output_type": "display_data"
    }
   ],
   "source": [
    "macid.draw()"
   ]
  },
  {
   "cell_type": "markdown",
   "metadata": {},
   "source": [
    "To find the expected utility that each player receives given a certain pure policy profile, we can perform a (hard) intervention on each of the decision nodes (setting them to certain values):"
   ]
  },
  {
   "cell_type": "code",
   "execution_count": 52,
   "metadata": {},
   "outputs": [
    {
     "name": "stderr",
     "output_type": "stream",
     "text": [
      "WARNING:root:Replacing existing CPD for D1\n",
      "WARNING:root:Replacing existing CPD for D2\n",
      "WARNING:root:Replacing existing CPD for D1\n",
      "WARNING:root:Replacing existing CPD for U2\n",
      "WARNING:root:Replacing existing CPD for U1\n",
      "WARNING:root:Replacing existing CPD for D2\n",
      "WARNING:root:Replacing existing CPD for U2\n",
      "WARNING:root:Replacing existing CPD for U1\n",
      "Eliminating: D2: 100%|██████████| 2/2 [00:00<00:00, 393.50it/s]\n"
     ]
    },
    {
     "data": {
      "text/plain": [
       "-1.0"
      ]
     },
     "execution_count": 52,
     "metadata": {},
     "output_type": "execute_result"
    }
   ],
   "source": [
    "\n",
    "macid.impute_fully_mixed_policy_profile() # we first must assign arbirtrary (but fully mixed) decision rules to all decision nodes\n",
    "macid.expected_utility({}, intervene={'D1':'c', 'D2': 'c'}, agent=1)\n",
    "        \n"
   ]
  },
  {
   "cell_type": "code",
   "execution_count": 51,
   "metadata": {},
   "outputs": [
    {
     "name": "stderr",
     "output_type": "stream",
     "text": [
      "WARNING:root:Replacing existing CPD for D1\n",
      "WARNING:root:Replacing existing CPD for U2\n",
      "WARNING:root:Replacing existing CPD for U1\n",
      "WARNING:root:Replacing existing CPD for D2\n",
      "WARNING:root:Replacing existing CPD for U2\n",
      "WARNING:root:Replacing existing CPD for U1\n",
      "Eliminating: D2: 100%|██████████| 2/2 [00:00<00:00, 171.94it/s]\n"
     ]
    },
    {
     "data": {
      "text/plain": [
       "[0.0]"
      ]
     },
     "execution_count": 51,
     "metadata": {},
     "output_type": "execute_result"
    }
   ],
   "source": [
    "macid.expected_utility({}, intervene={'D1':'c', 'D2': 'c'}, agent=1)\n"
   ]
  },
  {
   "cell_type": "markdown",
   "metadata": {},
   "source": [
    "<div class=\"alert alert-block alert-info\">\n",
    "    <b>Definition:</b> A full policy profile $\\pi$ is a <b>Nash equilibrium (NE)</b> in a MAIM $\\mathcal{M}$ if, for every player $i \\in \\textbf{N}$, $\\mathcal{U}^i_\\mathcal{M}(\\pi^i, \\pi^{-i}) \\geq \\mathcal{U}^i_\\mathcal{M}(\\hat{\\pi}^i, \\pi^{-i})$ for all $\\hat{\\pi}^i \\in \\Pi^i$.\n",
    " </div>"
   ]
  },
  {
   "cell_type": "markdown",
   "metadata": {},
   "source": [
    "To find all pure NE in this MACID:"
   ]
  },
  {
   "cell_type": "code",
   "execution_count": 17,
   "metadata": {},
   "outputs": [
    {
     "name": "stderr",
     "output_type": "stream",
     "text": [
      "WARNING:root:Replacing existing CPD for D2\n",
      "WARNING:root:Replacing existing CPD for D1\n",
      "Eliminating: D2: 100%|██████████| 2/2 [00:00<00:00, 570.73it/s]\n",
      "WARNING:root:Replacing existing CPD for D1\n",
      "Eliminating: D2: 100%|██████████| 2/2 [00:00<00:00, 64.61it/s]\n",
      "WARNING:root:Replacing existing CPD for D1\n",
      "Eliminating: D2: 100%|██████████| 2/2 [00:00<00:00, 361.08it/s]\n",
      "WARNING:root:Replacing existing CPD for D2\n",
      "WARNING:root:Replacing existing CPD for D1\n",
      "Eliminating: D2: 100%|██████████| 2/2 [00:00<00:00, 412.40it/s]\n",
      "WARNING:root:Replacing existing CPD for D2\n",
      "Eliminating: D2: 100%|██████████| 2/2 [00:00<00:00, 190.37it/s]\n",
      "WARNING:root:Replacing existing CPD for D2\n",
      "Eliminating: D2: 100%|██████████| 2/2 [00:00<00:00, 378.62it/s]\n",
      "WARNING:root:Replacing existing CPD for D2\n",
      "WARNING:root:Replacing existing CPD for D1\n",
      "Eliminating: D2: 100%|██████████| 2/2 [00:00<00:00, 441.71it/s]\n",
      "WARNING:root:Replacing existing CPD for D1\n",
      "Eliminating: D2: 100%|██████████| 2/2 [00:00<00:00, 114.11it/s]\n",
      "WARNING:root:Replacing existing CPD for D1\n",
      "Eliminating: D2: 100%|██████████| 2/2 [00:00<00:00, 138.19it/s]\n",
      "WARNING:root:Replacing existing CPD for D2\n",
      "WARNING:root:Replacing existing CPD for D1\n",
      "Eliminating: D2: 100%|██████████| 2/2 [00:00<00:00, 128.61it/s]\n",
      "WARNING:root:Replacing existing CPD for D2\n",
      "Eliminating: D2: 100%|██████████| 2/2 [00:00<00:00, 128.57it/s]\n",
      "WARNING:root:Replacing existing CPD for D2\n",
      "Eliminating: D2: 100%|██████████| 2/2 [00:00<00:00, 217.68it/s]\n",
      "WARNING:root:Replacing existing CPD for D2\n",
      "WARNING:root:Replacing existing CPD for D1\n",
      "Eliminating: D2: 100%|██████████| 2/2 [00:00<00:00, 120.12it/s]\n",
      "WARNING:root:Replacing existing CPD for D1\n",
      "Eliminating: D2: 100%|██████████| 2/2 [00:00<00:00, 82.85it/s]\n",
      "WARNING:root:Replacing existing CPD for D1\n",
      "Eliminating: D2: 100%|██████████| 2/2 [00:00<00:00, 127.79it/s]\n",
      "WARNING:root:Replacing existing CPD for D2\n",
      "WARNING:root:Replacing existing CPD for D1\n",
      "Eliminating: D2: 100%|██████████| 2/2 [00:00<00:00, 80.62it/s]\n",
      "WARNING:root:Replacing existing CPD for D2\n",
      "Eliminating: D2: 100%|██████████| 2/2 [00:00<00:00, 72.99it/s]\n",
      "WARNING:root:Replacing existing CPD for D2\n",
      "Eliminating: D2: 100%|██████████| 2/2 [00:00<00:00, 85.54it/s]\n",
      "WARNING:root:Replacing existing CPD for D2\n",
      "WARNING:root:Replacing existing CPD for D1\n",
      "Eliminating: D2: 100%|██████████| 2/2 [00:00<00:00, 82.01it/s]\n",
      "WARNING:root:Replacing existing CPD for D1\n",
      "Eliminating: D2: 100%|██████████| 2/2 [00:00<00:00, 66.89it/s]\n",
      "WARNING:root:Replacing existing CPD for D1\n",
      "Eliminating: D2: 100%|██████████| 2/2 [00:00<00:00, 115.05it/s]\n",
      "WARNING:root:Replacing existing CPD for D2\n",
      "WARNING:root:Replacing existing CPD for D1\n",
      "Eliminating: D2: 100%|██████████| 2/2 [00:00<00:00, 112.44it/s]\n",
      "WARNING:root:Replacing existing CPD for D2\n",
      "Eliminating: D2: 100%|██████████| 2/2 [00:00<00:00, 235.02it/s]\n",
      "WARNING:root:Replacing existing CPD for D2\n",
      "Eliminating: D2: 100%|██████████| 2/2 [00:00<00:00, 337.43it/s]\n"
     ]
    }
   ],
   "source": [
    "all_pure_ne = macid.get_all_pure_ne()"
   ]
  },
  {
   "cell_type": "markdown",
   "metadata": {},
   "source": [
    "This method return a list of all pure Nash equilbiria in the MACID. Each NE comes as a list of FunctionCPDs, one for each decision node in the MACID."
   ]
  },
  {
   "cell_type": "markdown",
   "metadata": {},
   "source": [
    "The following method matches each functionCPD in a list of CPDs with its corresponding decision node in the MACID (in other words, it \"assigns\" a partial or joint policy profile:"
   ]
  },
  {
   "cell_type": "code",
   "execution_count": 18,
   "metadata": {},
   "outputs": [],
   "source": [
    "jp = macid.policy_profile_assignment(all_pure_ne[0])"
   ]
  },
  {
   "cell_type": "code",
   "execution_count": 19,
   "metadata": {},
   "outputs": [
    {
     "data": {
      "text/plain": [
       "{'D1': ['c', 'd']}"
      ]
     },
     "execution_count": 19,
     "metadata": {},
     "output_type": "execute_result"
    }
   ],
   "source": [
    "jp['D1'].state_names\n"
   ]
  },
  {
   "cell_type": "code",
   "execution_count": 20,
   "metadata": {},
   "outputs": [
    {
     "data": {
      "text/plain": [
       "array([0., 1.])"
      ]
     },
     "execution_count": 20,
     "metadata": {},
     "output_type": "execute_result"
    }
   ],
   "source": [
    "jp['D1'].values  # The CPD (or decision rule) for 'D1' under this NE joint policy profile"
   ]
  },
  {
   "cell_type": "code",
   "execution_count": 21,
   "metadata": {},
   "outputs": [
    {
     "data": {
      "text/plain": [
       "{'D2': ['c', 'd']}"
      ]
     },
     "execution_count": 21,
     "metadata": {},
     "output_type": "execute_result"
    }
   ],
   "source": [
    "jp['D2'].state_names"
   ]
  },
  {
   "cell_type": "code",
   "execution_count": 22,
   "metadata": {},
   "outputs": [
    {
     "data": {
      "text/plain": [
       "array([0., 1.])"
      ]
     },
     "execution_count": 22,
     "metadata": {},
     "output_type": "execute_result"
    }
   ],
   "source": [
    "jp['D2'].values # The CPD (or decision rule) for 'D2' under this NE joint policy profile"
   ]
  },
  {
   "cell_type": "markdown",
   "metadata": {},
   "source": [
    "We can find the expected utility for each agent under this NE joint policy profile:"
   ]
  },
  {
   "cell_type": "code",
   "execution_count": 23,
   "metadata": {},
   "outputs": [
    {
     "name": "stderr",
     "output_type": "stream",
     "text": [
      "WARNING:root:Replacing existing CPD for D2\n",
      "WARNING:root:Replacing existing CPD for D1\n"
     ]
    }
   ],
   "source": [
    "macid.add_cpds(*all_pure_ne[0])"
   ]
  },
  {
   "cell_type": "code",
   "execution_count": 24,
   "metadata": {},
   "outputs": [
    {
     "name": "stderr",
     "output_type": "stream",
     "text": [
      "Eliminating: D2: 100%|██████████| 2/2 [00:00<00:00, 280.82it/s]\n"
     ]
    },
    {
     "data": {
      "text/plain": [
       "-2.0"
      ]
     },
     "execution_count": 24,
     "metadata": {},
     "output_type": "execute_result"
    }
   ],
   "source": [
    "macid.expected_utility({}, agent=1)"
   ]
  },
  {
   "cell_type": "code",
   "execution_count": 25,
   "metadata": {},
   "outputs": [
    {
     "name": "stderr",
     "output_type": "stream",
     "text": [
      "Eliminating: D2: 100%|██████████| 2/2 [00:00<00:00, 209.39it/s]\n"
     ]
    },
    {
     "data": {
      "text/plain": [
       "-2.0"
      ]
     },
     "execution_count": 25,
     "metadata": {},
     "output_type": "execute_result"
    }
   ],
   "source": [
    "macid.expected_utility({}, agent=1)"
   ]
  },
  {
   "cell_type": "markdown",
   "metadata": {},
   "source": [
    "## Finding all pure SPEs in MAIDs"
   ]
  },
  {
   "cell_type": "markdown",
   "metadata": {},
   "source": [
    "<div class=\"alert alert-block alert-info\">\n",
    "    <b>Definition:</b> A full policy profile $\\pi$ is a <b>subgame perfect equilibrium (SPE)</b> in a MAIM $\\mathcal{M}$ if $\\pi$ is an NE in every MAIM subgame of $\\mathcal{M}$.\n",
    " </div>"
   ]
  },
  {
   "cell_type": "markdown",
   "metadata": {},
   "source": [
    "__Taxi Competition Example__ (Hammond et al, 2021) _Two autonomous taxis, operated by different companies, are driving along a road with two hotels located next to one another -- one expensive and one cheap. Each taxi must decide (one first, then the other) which hotel to stop in front of, knowing that it will likely receive a higher tip from guests of the expensive hotel. However, if both taxis choose the same location, this will reduce each taxi's chance of being chosen by that hotel's guests._"
   ]
  },
  {
   "cell_type": "markdown",
   "metadata": {},
   "source": [
    "The payoffs are as folllows:"
   ]
  },
  {
   "attachments": {
    "image.png": {
     "image/png": "[encoded data removed]"
    }
   },
   "cell_type": "markdown",
   "metadata": {},
   "source": [
    "![image.png](attachment:image.png)"
   ]
  },
  {
   "cell_type": "markdown",
   "metadata": {},
   "source": [
    "The MAID for this example is pretty simple:"
   ]
  },
  {
   "cell_type": "code",
   "execution_count": 26,
   "metadata": {},
   "outputs": [],
   "source": [
    "macid = MACID([\n",
    "        ('D1', 'D2'),\n",
    "        ('D1', 'U1'),\n",
    "        ('D1', 'U2'),\n",
    "        ('D2', 'U2'),\n",
    "        ('D2', 'U1')],\n",
    "        {1: {'D': ['D1'], 'U': ['U1']},\n",
    "         2: {'D': ['D2'], 'U': ['U2']}})\n",
    "\n",
    "d1_domain = ['e', 'c']\n",
    "d2_domain = ['e', 'c']\n",
    "cpd_d1 = DecisionDomain('D1', d1_domain)\n",
    "cpd_d2 = DecisionDomain('D2', d2_domain)\n",
    "\n",
    "agent1_payoff = np.array([[2, 3],\n",
    "                         [5, 1]])\n",
    "agent2_payoff = np.array([[2, 5],\n",
    "                         [3, 1]])\n",
    "\n",
    "cpd_u1 = FunctionCPD('U1', lambda d1, d2: agent1_payoff[d2_domain.index(d2), d1_domain.index(d1)], evidence=['D1', 'D2'], label = \"Agent 1 payoff\")\n",
    "cpd_u2 = FunctionCPD('U2', lambda d1, d2: agent2_payoff[d2_domain.index(d2), d1_domain.index(d1)], evidence=['D1', 'D2'], label = \"Agent 2 payoff\")\n",
    "\n",
    "macid.add_cpds(cpd_d1, cpd_d2, cpd_u1, cpd_u2)\n"
   ]
  },
  {
   "cell_type": "code",
   "execution_count": 27,
   "metadata": {},
   "outputs": [
    {
     "data": {
      "image/png": "[encoded data removed]",
      "text/plain": [
       "<Figure size 432x288 with 1 Axes>"
      ]
     },
     "metadata": {},
     "output_type": "display_data"
    }
   ],
   "source": [
    "macid.draw()"
   ]
  },
  {
   "cell_type": "markdown",
   "metadata": {},
   "source": [
    "This MACIM has three pure NE"
   ]
  },
  {
   "cell_type": "code",
   "execution_count": 28,
   "metadata": {},
   "outputs": [
    {
     "name": "stderr",
     "output_type": "stream",
     "text": [
      "WARNING:root:Replacing existing CPD for D1\n",
      "WARNING:root:Replacing existing CPD for D2\n",
      "Eliminating: D2: 100%|██████████| 2/2 [00:00<00:00, 129.95it/s]\n",
      "WARNING:root:Replacing existing CPD for D1\n",
      "Eliminating: D2: 100%|██████████| 2/2 [00:00<00:00,  8.09it/s]\n",
      "WARNING:root:Replacing existing CPD for D1\n",
      "Eliminating: D2: 100%|██████████| 2/2 [00:00<00:00, 55.51it/s]\n",
      "WARNING:root:Replacing existing CPD for D1\n",
      "WARNING:root:Replacing existing CPD for D2\n",
      "Eliminating: D2: 100%|██████████| 2/2 [00:00<00:00, 159.98it/s]\n",
      "WARNING:root:Replacing existing CPD for D2\n",
      "Eliminating: D2: 100%|██████████| 2/2 [00:00<00:00, 116.07it/s]\n",
      "WARNING:root:Replacing existing CPD for D2\n",
      "Eliminating: D2: 100%|██████████| 2/2 [00:00<00:00, 69.71it/s]\n",
      "WARNING:root:Replacing existing CPD for D2\n",
      "Eliminating: D2: 100%|██████████| 2/2 [00:00<00:00, 86.77it/s]\n",
      "WARNING:root:Replacing existing CPD for D2\n",
      "Eliminating: D2: 100%|██████████| 2/2 [00:00<00:00, 88.02it/s]\n",
      "WARNING:root:Replacing existing CPD for D1\n",
      "WARNING:root:Replacing existing CPD for D2\n",
      "Eliminating: D2: 100%|██████████| 2/2 [00:00<00:00, 108.49it/s]\n",
      "WARNING:root:Replacing existing CPD for D1\n",
      "Eliminating: D2: 100%|██████████| 2/2 [00:00<00:00, 116.93it/s]\n",
      "WARNING:root:Replacing existing CPD for D1\n",
      "Eliminating: D2: 100%|██████████| 2/2 [00:00<00:00, 271.92it/s]\n",
      "WARNING:root:Replacing existing CPD for D1\n",
      "WARNING:root:Replacing existing CPD for D2\n",
      "Eliminating: D2: 100%|██████████| 2/2 [00:00<00:00, 119.46it/s]\n",
      "WARNING:root:Replacing existing CPD for D2\n",
      "Eliminating: D2: 100%|██████████| 2/2 [00:00<00:00, 96.02it/s]\n",
      "WARNING:root:Replacing existing CPD for D2\n",
      "Eliminating: D2: 100%|██████████| 2/2 [00:00<00:00, 170.22it/s]\n",
      "WARNING:root:Replacing existing CPD for D2\n",
      "Eliminating: D2: 100%|██████████| 2/2 [00:00<00:00, 76.06it/s]\n",
      "WARNING:root:Replacing existing CPD for D2\n",
      "Eliminating: D2: 100%|██████████| 2/2 [00:00<00:00, 91.12it/s]\n",
      "WARNING:root:Replacing existing CPD for D1\n",
      "WARNING:root:Replacing existing CPD for D2\n",
      "Eliminating: D2: 100%|██████████| 2/2 [00:00<00:00, 134.88it/s]\n",
      "WARNING:root:Replacing existing CPD for D1\n",
      "Eliminating: D2: 100%|██████████| 2/2 [00:00<00:00, 90.55it/s]\n",
      "WARNING:root:Replacing existing CPD for D1\n",
      "Eliminating: D2: 100%|██████████| 2/2 [00:00<00:00, 138.70it/s]\n",
      "WARNING:root:Replacing existing CPD for D1\n",
      "WARNING:root:Replacing existing CPD for D2\n",
      "Eliminating: D2: 100%|██████████| 2/2 [00:00<00:00, 126.28it/s]\n",
      "WARNING:root:Replacing existing CPD for D2\n",
      "Eliminating: D2: 100%|██████████| 2/2 [00:00<00:00, 70.14it/s]\n",
      "WARNING:root:Replacing existing CPD for D2\n",
      "Eliminating: D2: 100%|██████████| 2/2 [00:00<00:00, 94.76it/s]\n",
      "WARNING:root:Replacing existing CPD for D2\n",
      "Eliminating: D2: 100%|██████████| 2/2 [00:00<00:00, 118.46it/s]\n",
      "WARNING:root:Replacing existing CPD for D2\n",
      "Eliminating: D2: 100%|██████████| 2/2 [00:00<00:00, 82.74it/s]\n",
      "WARNING:root:Replacing existing CPD for D1\n",
      "WARNING:root:Replacing existing CPD for D2\n",
      "Eliminating: D2: 100%|██████████| 2/2 [00:00<00:00, 75.87it/s]\n",
      "WARNING:root:Replacing existing CPD for D1\n",
      "Eliminating: D2: 100%|██████████| 2/2 [00:00<00:00, 115.43it/s]\n",
      "WARNING:root:Replacing existing CPD for D1\n",
      "Eliminating: D2: 100%|██████████| 2/2 [00:00<00:00, 129.60it/s]\n",
      "WARNING:root:Replacing existing CPD for D1\n",
      "WARNING:root:Replacing existing CPD for D2\n",
      "Eliminating: D2: 100%|██████████| 2/2 [00:00<00:00, 336.20it/s]\n",
      "WARNING:root:Replacing existing CPD for D2\n",
      "Eliminating: D2: 100%|██████████| 2/2 [00:00<00:00, 124.63it/s]\n",
      "WARNING:root:Replacing existing CPD for D2\n",
      "Eliminating: D2: 100%|██████████| 2/2 [00:00<00:00, 335.26it/s]\n",
      "WARNING:root:Replacing existing CPD for D2\n",
      "Eliminating: D2: 100%|██████████| 2/2 [00:00<00:00, 48.68it/s]\n",
      "WARNING:root:Replacing existing CPD for D2\n",
      "Eliminating: D2: 100%|██████████| 2/2 [00:00<00:00, 123.05it/s]\n",
      "WARNING:root:Replacing existing CPD for D1\n",
      "WARNING:root:Replacing existing CPD for D2\n",
      "Eliminating: D2: 100%|██████████| 2/2 [00:00<00:00, 124.29it/s]\n",
      "WARNING:root:Replacing existing CPD for D1\n",
      "Eliminating: D2: 100%|██████████| 2/2 [00:00<00:00, 264.99it/s]\n",
      "WARNING:root:Replacing existing CPD for D1\n",
      "Eliminating: D2: 100%|██████████| 2/2 [00:00<00:00, 30.48it/s]\n",
      "WARNING:root:Replacing existing CPD for D1\n",
      "WARNING:root:Replacing existing CPD for D2\n",
      "Eliminating: D2: 100%|██████████| 2/2 [00:00<00:00, 116.88it/s]\n",
      "WARNING:root:Replacing existing CPD for D2\n",
      "Eliminating: D2: 100%|██████████| 2/2 [00:00<00:00, 14.87it/s]\n",
      "WARNING:root:Replacing existing CPD for D2\n",
      "Eliminating: D2: 100%|██████████| 2/2 [00:00<00:00, 124.91it/s]\n",
      "WARNING:root:Replacing existing CPD for D2\n",
      "Eliminating: D2: 100%|██████████| 2/2 [00:00<00:00, 17.62it/s]\n",
      "WARNING:root:Replacing existing CPD for D2\n",
      "Eliminating: D2: 100%|██████████| 2/2 [00:00<00:00, 207.91it/s]\n",
      "WARNING:root:Replacing existing CPD for D1\n",
      "WARNING:root:Replacing existing CPD for D2\n",
      "Eliminating: D2: 100%|██████████| 2/2 [00:00<00:00, 128.65it/s]\n",
      "WARNING:root:Replacing existing CPD for D1\n",
      "Eliminating: D2: 100%|██████████| 2/2 [00:00<00:00, 70.90it/s]\n",
      "WARNING:root:Replacing existing CPD for D1\n",
      "Eliminating: D2: 100%|██████████| 2/2 [00:00<00:00, 252.36it/s]\n",
      "WARNING:root:Replacing existing CPD for D1\n",
      "WARNING:root:Replacing existing CPD for D2\n",
      "Eliminating: D2: 100%|██████████| 2/2 [00:00<00:00, 276.69it/s]\n",
      "WARNING:root:Replacing existing CPD for D2\n",
      "Eliminating: D2: 100%|██████████| 2/2 [00:00<00:00, 84.36it/s]\n",
      "WARNING:root:Replacing existing CPD for D2\n",
      "Eliminating: D2: 100%|██████████| 2/2 [00:00<00:00, 94.83it/s]\n",
      "WARNING:root:Replacing existing CPD for D2\n",
      "Eliminating: D2: 100%|██████████| 2/2 [00:00<00:00, 125.46it/s]\n",
      "WARNING:root:Replacing existing CPD for D2\n",
      "Eliminating: D2: 100%|██████████| 2/2 [00:00<00:00, 290.95it/s]\n",
      "WARNING:root:Replacing existing CPD for D1\n",
      "WARNING:root:Replacing existing CPD for D2\n",
      "Eliminating: D2: 100%|██████████| 2/2 [00:00<00:00, 207.81it/s]\n",
      "WARNING:root:Replacing existing CPD for D1\n",
      "Eliminating: D2: 100%|██████████| 2/2 [00:00<00:00, 205.05it/s]\n",
      "WARNING:root:Replacing existing CPD for D1\n",
      "Eliminating: D2: 100%|██████████| 2/2 [00:00<00:00, 146.96it/s]\n",
      "WARNING:root:Replacing existing CPD for D1\n",
      "WARNING:root:Replacing existing CPD for D2\n",
      "Eliminating: D2: 100%|██████████| 2/2 [00:00<00:00, 243.71it/s]\n",
      "WARNING:root:Replacing existing CPD for D2\n",
      "Eliminating: D2: 100%|██████████| 2/2 [00:00<00:00, 243.50it/s]\n",
      "WARNING:root:Replacing existing CPD for D2\n",
      "Eliminating: D2: 100%|██████████| 2/2 [00:00<00:00, 189.43it/s]\n",
      "WARNING:root:Replacing existing CPD for D2\n",
      "Eliminating: D2: 100%|██████████| 2/2 [00:00<00:00, 50.50it/s]\n",
      "WARNING:root:Replacing existing CPD for D2\n",
      "Eliminating: D2: 100%|██████████| 2/2 [00:00<00:00, 77.88it/s]\n",
      "WARNING:root:Replacing existing CPD for D1\n",
      "WARNING:root:Replacing existing CPD for D2\n",
      "Eliminating: D2: 100%|██████████| 2/2 [00:00<00:00, 127.07it/s]\n",
      "WARNING:root:Replacing existing CPD for D1\n",
      "Eliminating: D2: 100%|██████████| 2/2 [00:00<00:00, 104.42it/s]\n",
      "WARNING:root:Replacing existing CPD for D1\n",
      "Eliminating: D2: 100%|██████████| 2/2 [00:00<00:00, 129.95it/s]\n",
      "WARNING:root:Replacing existing CPD for D1\n",
      "WARNING:root:Replacing existing CPD for D2\n",
      "Eliminating: D2: 100%|██████████| 2/2 [00:00<00:00, 271.90it/s]\n",
      "WARNING:root:Replacing existing CPD for D2\n",
      "Eliminating: D2: 100%|██████████| 2/2 [00:00<00:00, 117.37it/s]\n",
      "WARNING:root:Replacing existing CPD for D2\n",
      "Eliminating: D2: 100%|██████████| 2/2 [00:00<00:00, 74.00it/s]\n",
      "WARNING:root:Replacing existing CPD for D2\n",
      "Eliminating: D2: 100%|██████████| 2/2 [00:00<00:00, 217.59it/s]\n",
      "WARNING:root:Replacing existing CPD for D2\n",
      "Eliminating: D2: 100%|██████████| 2/2 [00:00<00:00, 92.80it/s]\n"
     ]
    },
    {
     "data": {
      "text/plain": [
       "[(<FunctionCPD D1:<function MACIDBase.possible_pure_decision_rules.<locals>.function at 0x7f0e40a26a60>>,\n",
       "  <FunctionCPD D2:<function MACIDBase.possible_pure_decision_rules.<locals>.function at 0x7f0e40199dc0>>),\n",
       " (<FunctionCPD D1:<function MACIDBase.possible_pure_decision_rules.<locals>.function at 0x7f0e40a26a60>>,\n",
       "  <FunctionCPD D2:<function MACIDBase.possible_pure_decision_rules.<locals>.function at 0x7f0e40199b80>>),\n",
       " (<FunctionCPD D1:<function MACIDBase.possible_pure_decision_rules.<locals>.function at 0x7f0e40b1f1f0>>,\n",
       "  <FunctionCPD D2:<function MACIDBase.possible_pure_decision_rules.<locals>.function at 0x7f0e40199820>>)]"
      ]
     },
     "execution_count": 28,
     "metadata": {},
     "output_type": "execute_result"
    }
   ],
   "source": [
    "macid.get_all_pure_ne()"
   ]
  },
  {
   "cell_type": "markdown",
   "metadata": {},
   "source": [
    "It has one proper MAID subgame:"
   ]
  },
  {
   "cell_type": "code",
   "execution_count": 29,
   "metadata": {},
   "outputs": [
    {
     "data": {
      "text/plain": [
       "[{'D2'}, {'D1', 'D2'}]"
      ]
     },
     "execution_count": 29,
     "metadata": {},
     "output_type": "execute_result"
    }
   ],
   "source": [
    "macid.all_maid_subgames()"
   ]
  },
  {
   "cell_type": "markdown",
   "metadata": {},
   "source": [
    "We can find the NE in the proper MAID subgame:"
   ]
  },
  {
   "cell_type": "code",
   "execution_count": 30,
   "metadata": {},
   "outputs": [
    {
     "name": "stderr",
     "output_type": "stream",
     "text": [
      "WARNING:root:Replacing existing CPD for D2\n",
      "WARNING:root:Replacing existing CPD for D1\n",
      "Eliminating: D2: 100%|██████████| 2/2 [00:00<00:00, 60.72it/s]\n",
      "WARNING:root:Replacing existing CPD for D2\n",
      "Eliminating: D2: 100%|██████████| 2/2 [00:00<00:00, 130.94it/s]\n",
      "WARNING:root:Replacing existing CPD for D2\n",
      "Eliminating: D2: 100%|██████████| 2/2 [00:00<00:00, 136.72it/s]\n",
      "WARNING:root:Replacing existing CPD for D2\n",
      "Eliminating: D2: 100%|██████████| 2/2 [00:00<00:00, 153.72it/s]\n",
      "WARNING:root:Replacing existing CPD for D2\n",
      "Eliminating: D2: 100%|██████████| 2/2 [00:00<00:00, 128.57it/s]\n",
      "WARNING:root:Replacing existing CPD for D2\n",
      "WARNING:root:Replacing existing CPD for D1\n",
      "Eliminating: D2: 100%|██████████| 2/2 [00:00<00:00, 71.17it/s]\n",
      "WARNING:root:Replacing existing CPD for D2\n",
      "Eliminating: D2: 100%|██████████| 2/2 [00:00<00:00, 264.28it/s]\n",
      "WARNING:root:Replacing existing CPD for D2\n",
      "Eliminating: D2: 100%|██████████| 2/2 [00:00<00:00, 123.26it/s]\n",
      "WARNING:root:Replacing existing CPD for D2\n",
      "Eliminating: D2: 100%|██████████| 2/2 [00:00<00:00, 99.14it/s]\n",
      "WARNING:root:Replacing existing CPD for D2\n",
      "Eliminating: D2: 100%|██████████| 2/2 [00:00<00:00, 46.22it/s]\n",
      "WARNING:root:Replacing existing CPD for D2\n",
      "WARNING:root:Replacing existing CPD for D1\n",
      "Eliminating: D2: 100%|██████████| 2/2 [00:00<00:00, 70.22it/s]\n",
      "WARNING:root:Replacing existing CPD for D2\n",
      "Eliminating: D2: 100%|██████████| 2/2 [00:00<00:00, 108.32it/s]\n",
      "WARNING:root:Replacing existing CPD for D2\n",
      "Eliminating: D2: 100%|██████████| 2/2 [00:00<00:00, 174.83it/s]\n",
      "WARNING:root:Replacing existing CPD for D2\n",
      "Eliminating: D2: 100%|██████████| 2/2 [00:00<00:00, 245.07it/s]\n",
      "WARNING:root:Replacing existing CPD for D2\n",
      "Eliminating: D2: 100%|██████████| 2/2 [00:00<00:00, 219.10it/s]\n",
      "WARNING:root:Replacing existing CPD for D2\n",
      "WARNING:root:Replacing existing CPD for D1\n",
      "Eliminating: D2: 100%|██████████| 2/2 [00:00<00:00, 109.32it/s]\n",
      "WARNING:root:Replacing existing CPD for D2\n",
      "Eliminating: D2: 100%|██████████| 2/2 [00:00<00:00, 96.10it/s]\n",
      "WARNING:root:Replacing existing CPD for D2\n",
      "Eliminating: D2: 100%|██████████| 2/2 [00:00<00:00, 145.18it/s]\n",
      "WARNING:root:Replacing existing CPD for D2\n",
      "Eliminating: D2: 100%|██████████| 2/2 [00:00<00:00, 109.42it/s]\n",
      "WARNING:root:Replacing existing CPD for D2\n",
      "Eliminating: D2: 100%|██████████| 2/2 [00:00<00:00, 123.07it/s]\n"
     ]
    }
   ],
   "source": [
    "ne_in_subgame = macid.get_all_pure_ne_in_sg(decisions_in_sg=['D2'])\n",
    "policy_assignment = macid.policy_profile_assignment(ne_in_subgame[0])\n",
    "cpd_D2 = policy_assignment['D2']"
   ]
  },
  {
   "cell_type": "code",
   "execution_count": 31,
   "metadata": {},
   "outputs": [
    {
     "data": {
      "text/plain": [
       "{'D2': ['e', 'c']}"
      ]
     },
     "execution_count": 31,
     "metadata": {},
     "output_type": "execute_result"
    }
   ],
   "source": [
    "cpd_D2.state_names"
   ]
  },
  {
   "cell_type": "code",
   "execution_count": 32,
   "metadata": {},
   "outputs": [
    {
     "data": {
      "text/plain": [
       "[['e', 'c']]"
      ]
     },
     "execution_count": 32,
     "metadata": {},
     "output_type": "execute_result"
    }
   ],
   "source": [
    "cpd_D2.parent_values(macid)  # The values which D2's parent (D1) can take\n"
   ]
  },
  {
   "cell_type": "code",
   "execution_count": 33,
   "metadata": {},
   "outputs": [
    {
     "data": {
      "text/plain": [
       "array([[0., 1.],\n",
       "       [1., 0.]])"
      ]
     },
     "execution_count": 33,
     "metadata": {},
     "output_type": "execute_result"
    }
   ],
   "source": [
    "cpd_D2.values  #The NE in the subgame - a CPD based on the possible values of D1"
   ]
  },
  {
   "cell_type": "markdown",
   "metadata": {},
   "source": [
    "To find all SPE in this MACIM:"
   ]
  },
  {
   "cell_type": "code",
   "execution_count": 34,
   "metadata": {},
   "outputs": [
    {
     "name": "stderr",
     "output_type": "stream",
     "text": [
      "WARNING:root:Replacing existing CPD for D2\n",
      "WARNING:root:Replacing existing CPD for D1\n",
      "Eliminating: D2: 100%|██████████| 2/2 [00:00<00:00, 70.89it/s]\n",
      "WARNING:root:Replacing existing CPD for D2\n",
      "Eliminating: D2: 100%|██████████| 2/2 [00:00<00:00, 111.64it/s]\n",
      "WARNING:root:Replacing existing CPD for D2\n",
      "Eliminating: D2: 100%|██████████| 2/2 [00:00<00:00, 270.09it/s]\n",
      "WARNING:root:Replacing existing CPD for D2\n",
      "Eliminating: D2: 100%|██████████| 2/2 [00:00<00:00, 116.83it/s]\n",
      "WARNING:root:Replacing existing CPD for D2\n",
      "Eliminating: D2: 100%|██████████| 2/2 [00:00<00:00, 129.46it/s]\n",
      "WARNING:root:Replacing existing CPD for D2\n",
      "WARNING:root:Replacing existing CPD for D1\n",
      "Eliminating: D2: 100%|██████████| 2/2 [00:00<00:00, 122.49it/s]\n",
      "WARNING:root:Replacing existing CPD for D2\n",
      "Eliminating: D2: 100%|██████████| 2/2 [00:00<00:00, 300.46it/s]\n",
      "WARNING:root:Replacing existing CPD for D2\n",
      "Eliminating: D2: 100%|██████████| 2/2 [00:00<00:00, 55.84it/s]\n",
      "WARNING:root:Replacing existing CPD for D2\n",
      "Eliminating: D2: 100%|██████████| 2/2 [00:00<00:00, 360.57it/s]\n",
      "WARNING:root:Replacing existing CPD for D2\n",
      "Eliminating: D2: 100%|██████████| 2/2 [00:00<00:00, 192.32it/s]\n",
      "WARNING:root:Replacing existing CPD for D2\n",
      "WARNING:root:Replacing existing CPD for D1\n",
      "Eliminating: D2: 100%|██████████| 2/2 [00:00<00:00, 232.64it/s]\n",
      "WARNING:root:Replacing existing CPD for D2\n",
      "Eliminating: D2: 100%|██████████| 2/2 [00:00<00:00, 167.78it/s]\n",
      "WARNING:root:Replacing existing CPD for D2\n",
      "Eliminating: D2: 100%|██████████| 2/2 [00:00<00:00, 158.91it/s]\n",
      "WARNING:root:Replacing existing CPD for D2\n",
      "Eliminating: D2: 100%|██████████| 2/2 [00:00<00:00, 325.32it/s]\n",
      "WARNING:root:Replacing existing CPD for D2\n",
      "Eliminating: D2: 100%|██████████| 2/2 [00:00<00:00, 295.56it/s]\n",
      "WARNING:root:Replacing existing CPD for D2\n",
      "WARNING:root:Replacing existing CPD for D1\n",
      "Eliminating: D2: 100%|██████████| 2/2 [00:00<00:00, 33.03it/s]\n",
      "WARNING:root:Replacing existing CPD for D2\n",
      "Eliminating: D2: 100%|██████████| 2/2 [00:00<00:00, 295.32it/s]\n",
      "WARNING:root:Replacing existing CPD for D2\n",
      "Eliminating: D2: 100%|██████████| 2/2 [00:00<00:00, 174.11it/s]\n",
      "WARNING:root:Replacing existing CPD for D2\n",
      "Eliminating: D2: 100%|██████████| 2/2 [00:00<00:00, 301.49it/s]\n",
      "WARNING:root:Replacing existing CPD for D2\n",
      "Eliminating: D2: 100%|██████████| 2/2 [00:00<00:00, 97.96it/s]\n",
      "WARNING:root:Replacing existing CPD for D1\n",
      "WARNING:root:Replacing existing CPD for D2\n",
      "Eliminating: D2: 100%|██████████| 2/2 [00:00<00:00, 208.03it/s]\n",
      "WARNING:root:Replacing existing CPD for D1\n",
      "Eliminating: D2: 100%|██████████| 2/2 [00:00<00:00, 246.09it/s]\n",
      "WARNING:root:Replacing existing CPD for D1\n",
      "Eliminating: D2: 100%|██████████| 2/2 [00:00<00:00, 394.72it/s]\n",
      "WARNING:root:Replacing existing CPD for D1\n",
      "WARNING:root:Replacing existing CPD for D2\n",
      "Eliminating: D2: 100%|██████████| 2/2 [00:00<00:00, 386.57it/s]\n",
      "WARNING:root:Replacing existing CPD for D1\n",
      "Eliminating: D2: 100%|██████████| 2/2 [00:00<00:00, 371.13it/s]\n",
      "WARNING:root:Replacing existing CPD for D1\n",
      "Eliminating: D2: 100%|██████████| 2/2 [00:00<00:00, 69.10it/s]\n"
     ]
    }
   ],
   "source": [
    "all_spe = macid.get_all_pure_spe()"
   ]
  },
  {
   "cell_type": "code",
   "execution_count": 35,
   "metadata": {},
   "outputs": [],
   "source": [
    "spe = all_spe[0]\n",
    "joint_policy = macid.policy_profile_assignment(spe)\n",
    "cpd_D1 = joint_policy['D1']\n",
    "cpd_D2 = joint_policy['D2']"
   ]
  },
  {
   "cell_type": "code",
   "execution_count": 36,
   "metadata": {},
   "outputs": [
    {
     "data": {
      "text/plain": [
       "{'D1': ['e', 'c']}"
      ]
     },
     "execution_count": 36,
     "metadata": {},
     "output_type": "execute_result"
    }
   ],
   "source": [
    "cpd_D1.state_names"
   ]
  },
  {
   "cell_type": "code",
   "execution_count": 37,
   "metadata": {},
   "outputs": [
    {
     "data": {
      "text/plain": [
       "array([1., 0.])"
      ]
     },
     "execution_count": 37,
     "metadata": {},
     "output_type": "execute_result"
    }
   ],
   "source": [
    "cpd_D1.values"
   ]
  },
  {
   "cell_type": "code",
   "execution_count": 38,
   "metadata": {},
   "outputs": [
    {
     "data": {
      "text/plain": [
       "[['e', 'c']]"
      ]
     },
     "execution_count": 38,
     "metadata": {},
     "output_type": "execute_result"
    }
   ],
   "source": [
    "cpd_D2.parent_values(macid)"
   ]
  },
  {
   "cell_type": "code",
   "execution_count": 39,
   "metadata": {},
   "outputs": [
    {
     "data": {
      "text/plain": [
       "array([[0., 1.],\n",
       "       [1., 0.]])"
      ]
     },
     "execution_count": 39,
     "metadata": {},
     "output_type": "execute_result"
    }
   ],
   "source": [
    "cpd_D2.values"
   ]
  },
  {
   "cell_type": "code",
   "execution_count": 40,
   "metadata": {},
   "outputs": [
    {
     "name": "stderr",
     "output_type": "stream",
     "text": [
      "WARNING:root:Replacing existing CPD for D1\n",
      "WARNING:root:Replacing existing CPD for D2\n"
     ]
    }
   ],
   "source": [
    "macid.add_cpds(*spe)"
   ]
  },
  {
   "cell_type": "markdown",
   "metadata": {},
   "source": [
    "Each player's expected utility under this SPE joint policy profile:"
   ]
  },
  {
   "cell_type": "code",
   "execution_count": 41,
   "metadata": {},
   "outputs": [
    {
     "name": "stderr",
     "output_type": "stream",
     "text": [
      "Eliminating: D2: 100%|██████████| 2/2 [00:00<00:00, 16.69it/s]\n"
     ]
    },
    {
     "data": {
      "text/plain": [
       "5.0"
      ]
     },
     "execution_count": 41,
     "metadata": {},
     "output_type": "execute_result"
    }
   ],
   "source": [
    "macid.expected_utility({}, agent=1)"
   ]
  },
  {
   "cell_type": "code",
   "execution_count": 42,
   "metadata": {},
   "outputs": [
    {
     "name": "stderr",
     "output_type": "stream",
     "text": [
      "Eliminating: D2: 100%|██████████| 2/2 [00:00<00:00, 105.27it/s]\n"
     ]
    },
    {
     "data": {
      "text/plain": [
       "3.0"
      ]
     },
     "execution_count": 42,
     "metadata": {},
     "output_type": "execute_result"
    }
   ],
   "source": [
    "macid.expected_utility({}, agent=2)"
   ]
  },
  {
   "cell_type": "markdown",
   "metadata": {},
   "source": [
    "If we change the player 2's payoff matrix to:"
   ]
  },
  {
   "cell_type": "code",
   "execution_count": 43,
   "metadata": {},
   "outputs": [],
   "source": [
    "agent2_payoff = np.array([[2, 5],\n",
    "                         [3, 5]])\n",
    "cpd_u2 = FunctionCPD('U2', lambda d1, d2: agent2_payoff[d2_domain.index(d2), d1_domain.index(d1)], evidence=['D1', 'D2'], label = \"Agent 2 payoff\")"
   ]
  },
  {
   "cell_type": "markdown",
   "metadata": {},
   "source": [
    "There is now a tie-break where if the value of D1 is 'c', agent 2 is indifferent between each of their actions. This means that there is more than one SPE:"
   ]
  },
  {
   "cell_type": "code",
   "execution_count": 44,
   "metadata": {},
   "outputs": [
    {
     "name": "stderr",
     "output_type": "stream",
     "text": [
      "WARNING:root:Replacing existing CPD for U2\n"
     ]
    }
   ],
   "source": [
    "macid.add_cpds(cpd_u2)"
   ]
  },
  {
   "cell_type": "code",
   "execution_count": 45,
   "metadata": {},
   "outputs": [
    {
     "name": "stderr",
     "output_type": "stream",
     "text": [
      "WARNING:root:Replacing existing CPD for D2\n",
      "WARNING:root:Replacing existing CPD for D1\n",
      "Eliminating: D2: 100%|██████████| 2/2 [00:00<00:00, 129.94it/s]\n",
      "WARNING:root:Replacing existing CPD for D2\n",
      "Eliminating: D2: 100%|██████████| 2/2 [00:00<00:00, 243.01it/s]\n",
      "WARNING:root:Replacing existing CPD for D2\n",
      "Eliminating: D2: 100%|██████████| 2/2 [00:00<00:00, 270.53it/s]\n",
      "WARNING:root:Replacing existing CPD for D2\n",
      "Eliminating: D2: 100%|██████████| 2/2 [00:00<00:00, 115.97it/s]\n",
      "WARNING:root:Replacing existing CPD for D2\n",
      "Eliminating: D2: 100%|██████████| 2/2 [00:00<00:00, 59.86it/s]\n",
      "WARNING:root:Replacing existing CPD for D2\n",
      "WARNING:root:Replacing existing CPD for D1\n",
      "Eliminating: D2: 100%|██████████| 2/2 [00:00<00:00, 319.41it/s]\n",
      "WARNING:root:Replacing existing CPD for D2\n",
      "Eliminating: D2: 100%|██████████| 2/2 [00:00<00:00, 277.74it/s]\n",
      "WARNING:root:Replacing existing CPD for D2\n",
      "Eliminating: D2: 100%|██████████| 2/2 [00:00<00:00, 102.01it/s]\n",
      "WARNING:root:Replacing existing CPD for D2\n",
      "Eliminating: D2: 100%|██████████| 2/2 [00:00<00:00, 11.36it/s]\n",
      "WARNING:root:Replacing existing CPD for D2\n",
      "Eliminating: D2: 100%|██████████| 2/2 [00:00<00:00, 95.32it/s]\n",
      "WARNING:root:Replacing existing CPD for D2\n",
      "WARNING:root:Replacing existing CPD for D1\n",
      "Eliminating: D2: 100%|██████████| 2/2 [00:00<00:00, 68.41it/s]\n",
      "WARNING:root:Replacing existing CPD for D2\n",
      "Eliminating: D2: 100%|██████████| 2/2 [00:00<00:00, 61.54it/s]\n",
      "WARNING:root:Replacing existing CPD for D2\n",
      "Eliminating: D2: 100%|██████████| 2/2 [00:00<00:00, 248.74it/s]\n",
      "WARNING:root:Replacing existing CPD for D2\n",
      "Eliminating: D2: 100%|██████████| 2/2 [00:00<00:00, 106.93it/s]\n",
      "WARNING:root:Replacing existing CPD for D2\n",
      "Eliminating: D2: 100%|██████████| 2/2 [00:00<00:00, 197.38it/s]\n",
      "WARNING:root:Replacing existing CPD for D2\n",
      "WARNING:root:Replacing existing CPD for D1\n",
      "Eliminating: D2: 100%|██████████| 2/2 [00:00<00:00, 124.84it/s]\n",
      "WARNING:root:Replacing existing CPD for D2\n",
      "Eliminating: D2: 100%|██████████| 2/2 [00:00<00:00, 226.67it/s]\n",
      "WARNING:root:Replacing existing CPD for D2\n",
      "Eliminating: D2: 100%|██████████| 2/2 [00:00<00:00, 101.57it/s]\n",
      "WARNING:root:Replacing existing CPD for D2\n",
      "Eliminating: D2: 100%|██████████| 2/2 [00:00<00:00, 120.75it/s]\n",
      "WARNING:root:Replacing existing CPD for D2\n",
      "Eliminating: D2: 100%|██████████| 2/2 [00:00<00:00, 310.95it/s]\n",
      "WARNING:root:Replacing existing CPD for D1\n",
      "WARNING:root:Replacing existing CPD for D2\n",
      "Eliminating: D2: 100%|██████████| 2/2 [00:00<00:00, 91.21it/s]\n",
      "WARNING:root:Replacing existing CPD for D1\n",
      "Eliminating: D2: 100%|██████████| 2/2 [00:00<00:00, 144.00it/s]\n",
      "WARNING:root:Replacing existing CPD for D1\n",
      "Eliminating: D2: 100%|██████████| 2/2 [00:00<00:00, 260.64it/s]\n",
      "WARNING:root:Replacing existing CPD for D1\n",
      "WARNING:root:Replacing existing CPD for D2\n",
      "Eliminating: D2: 100%|██████████| 2/2 [00:00<00:00, 179.32it/s]\n",
      "WARNING:root:Replacing existing CPD for D1\n",
      "Eliminating: D2: 100%|██████████| 2/2 [00:00<00:00, 148.74it/s]\n",
      "WARNING:root:Replacing existing CPD for D1\n",
      "Eliminating: D2: 100%|██████████| 2/2 [00:00<00:00, 215.12it/s]\n",
      "WARNING:root:Replacing existing CPD for D1\n",
      "WARNING:root:Replacing existing CPD for D2\n",
      "Eliminating: D2: 100%|██████████| 2/2 [00:00<00:00, 119.90it/s]\n",
      "WARNING:root:Replacing existing CPD for D1\n",
      "Eliminating: D2: 100%|██████████| 2/2 [00:00<00:00, 492.98it/s]\n",
      "WARNING:root:Replacing existing CPD for D1\n",
      "Eliminating: D2: 100%|██████████| 2/2 [00:00<00:00, 24.11it/s]\n",
      "WARNING:root:Replacing existing CPD for D1\n",
      "WARNING:root:Replacing existing CPD for D2\n",
      "Eliminating: D2: 100%|██████████| 2/2 [00:00<00:00, 225.08it/s]\n",
      "WARNING:root:Replacing existing CPD for D1\n",
      "Eliminating: D2: 100%|██████████| 2/2 [00:00<00:00, 284.73it/s]\n",
      "WARNING:root:Replacing existing CPD for D1\n",
      "Eliminating: D2: 100%|██████████| 2/2 [00:00<00:00, 213.36it/s]\n"
     ]
    }
   ],
   "source": [
    "all_spe = macid.get_all_pure_spe()"
   ]
  },
  {
   "cell_type": "code",
   "execution_count": 46,
   "metadata": {},
   "outputs": [
    {
     "name": "stdout",
     "output_type": "stream",
     "text": [
      "2\n"
     ]
    }
   ],
   "source": [
    "print(len(all_spe))"
   ]
  },
  {
   "cell_type": "markdown",
   "metadata": {},
   "source": [
    "## References\n",
    "\n",
    "Hammond, L., Fox, J., Everitt, T., Abate, A., & Wooldridge, M. (2021). Equilibrium Refinements for Multi-Agent Influence Diagrams: Theory and Practice. arXiv preprint arXiv:2102.05008.\n",
    "\n",
    "J., Pearl. (2009) .Causality. Cambridge University Press, Cambridge, UK"
   ]
  }
 ],
 "metadata": {
  "kernelspec": {
   "display_name": "Python 3",
   "language": "python",
   "name": "python3"
  },
  "language_info": {
   "codemirror_mode": {
    "name": "ipython",
    "version": 3
   },
   "file_extension": ".py",
   "mimetype": "text/x-python",
   "name": "python",
   "nbconvert_exporter": "python",
   "pygments_lexer": "ipython3",
   "version": "3.9.1"
  }
 },
 "nbformat": 4,
 "nbformat_minor": 4
}
