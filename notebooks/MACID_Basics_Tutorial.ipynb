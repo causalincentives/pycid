{
 "cells": [
  {
   "cell_type": "markdown",
   "metadata": {
    "id": "Gm73UUpuWnve"
   },
   "source": [
    "# MACID tutorial"
   ]
  },
  {
   "cell_type": "code",
   "execution_count": 1,
   "metadata": {
    "id": "faONGHjeWnvi",
    "outputId": "61580d03-93d7-4ec3-8762-b8d6b3d54876"
   },
   "outputs": [
    {
     "data": {
      "application/javascript": "IPython.notebook.set_autosave_interval(60000)"
     },
     "metadata": {},
     "output_type": "display_data"
    },
    {
     "name": "stdout",
     "output_type": "stream",
     "text": [
      "Autosaving every 60 seconds\n"
     ]
    }
   ],
   "source": [
    "# helpful extensions\n",
    "%load_ext autoreload\n",
    "%autoreload 2\n",
    "%matplotlib inline\n",
    "%autosave 60\n",
    "# importing necessary libraries\n",
    "try:\n",
    "    import pycid\n",
    "except ModuleNotFoundError:\n",
    "    import sys\n",
    "\n",
    "    !{sys.executable} -m pip install pycid  # or  !{sys.executable} -m pip install git+https://github.com/causalincentives/pycid for the latest development version\n",
    "    import pycid\n",
    "\n",
    "import numpy as np"
   ]
  },
  {
   "cell_type": "markdown",
   "metadata": {
    "id": "XEvzfffJWnvl"
   },
   "source": [
    "# Table of contents\n",
    "1. [Introduction to MA(C)IDs and MA(C)IMs](#intro)\n",
    "2. [MA(C)ID subgames](#subgame)\n",
    "3. [Multi-agent Influence Models (MAIMs)](#maim)\n",
    "4. [Nash Equilibria in MAIMs](#ne)\n",
    "5. [Subgame Perfect Equilbria in MAIMs](#spe)"
   ]
  },
  {
   "cell_type": "markdown",
   "metadata": {
    "id": "ep2HJeSsWnvm"
   },
   "source": [
    "If you'd prefer to open this notebook in Google Colab, cling the following link:\n",
    "[![Open In Colab](https://colab.research.google.com/assets/colab-badge.svg)](https://colab.sandbox.google.com/github/causalincentives/pycid/blob/master/notebooks/MACID_Basics_Tutorial.ipynb)\n"
   ]
  },
  {
   "cell_type": "markdown",
   "metadata": {
    "id": "UF7Gw718Wnvm"
   },
   "source": [
    "# 1) Introduction to MA(C)IDs and MA(C)IMs <a name=\"intro\"></a>"
   ]
  },
  {
   "cell_type": "markdown",
   "metadata": {
    "id": "TlUVzdiKWnvn"
   },
   "source": [
    "In the CID tutorial, we showed how to instantiate single-agent causal influence diagrams (CIDs) and models (CIMs). In this section, we demonstrate how to use our codebase for multi-agent causal influence diagrams (MACIDs)"
   ]
  },
  {
   "cell_type": "markdown",
   "metadata": {
    "id": "Y0dIXMJDWnvn"
   },
   "source": [
    "<div class=\"alert alert-block alert-info\">\n",
    "<b>Definition:</b> \n",
    "A <b>multi-agent influence diagram (MAID)</b> (Hammond et al, 2021) is a triple $(\\textbf{N}, \\textbf{V}, \\textbf{E})$, where:\n",
    "    \n",
    " - $\\textbf{N} = \\{1,\\dots,n\\}$ is a set of agents.\n",
    " - $(\\textbf{V}, \\textbf{E})$ is a directed acyclic graph (DAG) with a set of vertices $\\textbf{V}$ connected by directed edges $\\textbf{E} \\subseteq \\textbf{V} \\times \\textbf{V}$. These vertices are partitioned into $\\textbf{D}$, $\\textbf{U}$, and $\\textbf{X}$, which correspond to decision, utility, and chance nodes respectively. $\\textbf{D}$ and $\\textbf{U}$ are in turn partitioned into $\\{\\textbf{D}^i\\}_{i\\in \\textbf{N}}$ and $\\{\\textbf{U}^i\\}_{i\\in \\textbf{N}}$ corresponding to their association with a particular agent $i \\in \\textbf{N}$.\n",
    "   \n",
    "</div> \n"
   ]
  },
  {
   "cell_type": "markdown",
   "metadata": {
    "id": "bOr4hnVgWnvo"
   },
   "source": [
    "<div class=\"alert alert-block alert-info\">\n",
    "<b>Definition:</b> A <b>multi-agent influence model (MAIM)</b> (Hammond et al, 2021) is a tuple $(\\textbf{N}, \\textbf{V}, \\textbf{E}, \\theta)$ where $(\\textbf{N}, \\textbf{V}, \\textbf{E})$ is a MAID and:\n",
    "\n",
    "- $\\theta \\in \\Theta$ is a particular parametrisation over the nodes in the graph specifying a finite domain $\\textbf{dom}(V)$ for each node $V \\in \\textbf{V}$, real-valued domains $\\textbf{dom}(U) \\subset \\mathbb{R}$ for each $U \\in \\textbf{U}$, and a set of conditional probability distributions (CPDs) $\\Pr(\\textbf{V} \\mid \\textbf{Pa}_V)$ for every chance and utility node. Taken together, the CPDs form a partial distribution $\\Pr(\\textbf{X},\\textbf{U} : \\textbf{D}) = \\prod_{V \\in \\textbf{V} \\setminus \\textbf{D}} \\Pr(V \\mid \\textbf{Pa}_V)$ over the variables in the MAID.\n",
    " - The value $u \\in \\textbf{dom}(U)$ of a utility node is a deterministic function of the values of its parents $\\textbf{pa}_U \\in \\textbf{dom}(\\textbf{Pa}_U)$.\n",
    "</div> "
   ]
  },
  {
   "cell_type": "markdown",
   "metadata": {
    "id": "tEG6g4DkWnvp"
   },
   "source": [
    "Note: these definitions define MAIDs and MAIMs as opposed to MACIDs and MACIMs. A MACID is a multi-agent causal influence diagram, which differs from a MAID because the edges now represent every causal relationship between the random variables chosen to be endogenous variables in the model. However, because MACIDs subsume MAIDs (in the sense of Pearl's `causal hierarchy` (Pearl, 2009)), meaning that everything we can do in a MAID, we can also do in a MACID, for the purpose of this codebase treat these models the same."
   ]
  },
  {
   "cell_type": "markdown",
   "metadata": {
    "id": "ZE_ia3BmWnvq"
   },
   "source": [
    "As we did in the CID basics tutorial, we'll start by showing how to instantiate a MACID showcasing some useful methods. We'll then show how to parameterise them as MACIMs. "
   ]
  },
  {
   "cell_type": "markdown",
   "metadata": {
    "id": "jq9HL1GeWnvq"
   },
   "source": [
    "__Job Hiring Example:__ _A company employs an AI system to automate their hiring process. A naturally hard-working or naturally lazy worker wants a job at this company and believes that a university degree will increase their chance of being hired; however, they also know that they will suffer an opportunity cost from three years of studying. A hard-worker will cope better with a university workload than a lazy worker. The algorithm must decide, on behalf of the company, whether to hire the worker. The company wants to hire someone who is naturally hard-working, but the algorithm can't observe the worker's temperament directly, it can only infer it indirectly through whether or not the worker attended university._\n",
    "\n",
    "A hospital employs an AI system to automate a procurement process. A company wants to tender a contract to the hospital for the supply of some medical equipment. Beforehand, they can choose whether or not to get independent accreditation to signal that their equipment is of high not poor quality, but doing so requires a cost (that is greater if the product is indeed poor). The AI system must decide, on behalf of the hospital, whether to accept the company's offer. The hospital only wants to sign a contract with a company that will supply high quality equipment, but the AI system can't observe the quality of the equipment directly, it can only infer it indirectly through whether or not the company has independent accreditation. \n",
    "\n",
    "\n",
    "does not know the quality of the company's goods, it can only observe whether the company has been accredited or not, but it must decide \n",
    "\n",
    "\n",
    "\n",
    "\n",
    "\n",
    "\n",
    "\n",
    "We can construct a MACID for this example where:\n",
    "\n",
    "- X = whether the worker is naturally hard working or lazy (chance node)\n",
    "- D1 and U1 correspond to the worker's decision whether or not to go to university (and their utility)\n",
    "- D2 and U2 correspond to the algorithm's decision whether or not to hire the worker (and the company's utility)"
   ]
  },
  {
   "cell_type": "code",
   "execution_count": 2,
   "metadata": {
    "id": "M-zWvYVFWnvr"
   },
   "outputs": [],
   "source": [
    "macid = pycid.MACID(\n",
    "    [\n",
    "        (\"X\", \"D1\"),  # specifies the MAICD's nodes and edges.\n",
    "        (\"X\", \"U2\"),\n",
    "        (\"X\", \"U1\"),\n",
    "        (\"D1\", \"D2\"),\n",
    "        (\"D1\", \"U1\"),\n",
    "        (\"D2\", \"U1\"),\n",
    "        (\"D2\", \"U2\"),\n",
    "    ],\n",
    "    # specifies each agent's decision and utility nodes.\n",
    "    agent_decisions={1: [\"D1\"], 2: [\"D2\"]},\n",
    "    agent_utilities={1: [\"U1\"], 2: [\"U2\"]},\n",
    ")"
   ]
  },
  {
   "cell_type": "code",
   "execution_count": 3,
   "metadata": {
    "id": "UdRIEFVgWnvr",
    "outputId": "6adafc68-e270-406e-bbfc-10d02ff1c550"
   },
   "outputs": [
    {
     "data": {
      "image/png": "[encoded data removed]",
      "text/plain": [
       "<Figure size 432x288 with 1 Axes>"
      ]
     },
     "metadata": {},
     "output_type": "display_data"
    }
   ],
   "source": [
    "macid.draw()"
   ]
  },
  {
   "cell_type": "markdown",
   "metadata": {
    "id": "bFm4tf8fWnvs"
   },
   "source": [
    "Consistent with CIDs, chance nodes are drawn as circles, decision nodes are drawn as rectangles, and utility nodes are drawn as diamonds. Because we now have more than one player, we reserve colouring to denote agent membership; each agent of the game is assigned a unique colour."
   ]
  },
  {
   "cell_type": "markdown",
   "metadata": {
    "id": "2P6J76njWnvs"
   },
   "source": [
    "In Hammond et al (2021), we introduced the graphical criterion _r-reachability_ to determine whether another decision node is strategically relevant or a chance node is probabilistically relevant to a decision node (see paper)."
   ]
  },
  {
   "cell_type": "markdown",
   "metadata": {
    "id": "KFHPSdlgWnvt"
   },
   "source": [
    "<div class=\"alert alert-block alert-info\">\n",
    "<b>Definition:</b> A node $V$ is <b>r-reachable</b> from a decision $D \\in \\textbf{D}^i$ in a MAID, $\\mathcal{M} = (\\textbf{N}, \\textbf{V}, \\textbf{E})$, if a newly added parent $\\hat V$ of $V$ satisfies $\\hat V \\not\\perp \\textbf{U}^i \\cap \\textbf{Desc}_{D} \\mid \\textbf{Fa}_{D}$. \n",
    "</div> "
   ]
  },
  {
   "cell_type": "code",
   "execution_count": 4,
   "metadata": {
    "id": "kTNZPVb7Wnvt",
    "outputId": "8c6cd07c-54aa-44ae-beff-b0821fb8290d"
   },
   "outputs": [
    {
     "data": {
      "text/plain": [
       "True"
      ]
     },
     "execution_count": 4,
     "metadata": {},
     "output_type": "execute_result"
    }
   ],
   "source": [
    "macid.is_r_reachable(\"D1\", \"D2\")"
   ]
  },
  {
   "cell_type": "code",
   "execution_count": 5,
   "metadata": {
    "id": "ghuZhfTDWnvt",
    "outputId": "f2c6607f-bade-4558-ba16-b1728f5255cc"
   },
   "outputs": [
    {
     "data": {
      "text/plain": [
       "True"
      ]
     },
     "execution_count": 5,
     "metadata": {},
     "output_type": "execute_result"
    }
   ],
   "source": [
    "macid.is_r_reachable(\"D2\", \"D1\")"
   ]
  },
  {
   "cell_type": "code",
   "execution_count": 6,
   "metadata": {
    "id": "sGw4nhZAWnvt",
    "outputId": "8f42c5f1-7876-4dcf-f188-fe5aa4e9fbb3"
   },
   "outputs": [
    {
     "data": {
      "text/plain": [
       "['U1', 'D2']"
      ]
     },
     "execution_count": 6,
     "metadata": {},
     "output_type": "execute_result"
    }
   ],
   "source": [
    "nodes = macid.nodes()\n",
    "\n",
    "[x for x in nodes if macid.is_r_reachable(\"D1\", x)]"
   ]
  },
  {
   "cell_type": "markdown",
   "metadata": {
    "id": "aoLy4kIvWnvu"
   },
   "source": [
    "Each decision strategically relies on the other. The worker would be better off knowing the company’s hiring policy before deciding whether or not to go to university, and the algorithm would also be better off knowing the worker’s policy because it doesn’t know the worker’s temperament (lazyor hard-working). "
   ]
  },
  {
   "cell_type": "markdown",
   "metadata": {
    "id": "eJf3nS2XWnvu"
   },
   "source": [
    "Relevance graphs show this visually: "
   ]
  },
  {
   "cell_type": "markdown",
   "metadata": {
    "id": "wVOsJDn3Wnvu"
   },
   "source": [
    "<div class=\"alert alert-block alert-info\">\n",
    "<b>Definition:</b> The directed <b> relevance graph </b> for $\\mathcal{M}$, denoted by $Rel(\\mathcal{M}) = (\\textbf{D}, \\textbf{E}_{Rel})$, is a graph where $\\textbf{D}$ is the set of $\\mathcal{M}$'s decision nodes connected by directed edges $\\textbf{E}_{Rel} \\subseteq \\textbf{D} \\times \\textbf{D}$. There is a directed edge from $D_j \\rightarrow D_k$ if and only if $D_k$ is r-reachable from $D_j$. \n",
    "</div> "
   ]
  },
  {
   "cell_type": "code",
   "execution_count": 7,
   "metadata": {
    "id": "pbrkHz2LWnvv",
    "outputId": "97c39f80-3ae8-4be1-fe50-4f975cd60053"
   },
   "outputs": [
    {
     "data": {
      "image/png": "[encoded data removed]",
      "text/plain": [
       "<Figure size 432x288 with 1 Axes>"
      ]
     },
     "metadata": {},
     "output_type": "display_data"
    }
   ],
   "source": [
    "pycid.RelevanceGraph(macid).draw()  # the relevance graph for this example is cyclic."
   ]
  },
  {
   "cell_type": "markdown",
   "metadata": {
    "id": "MYYzwKE0Wnvw"
   },
   "source": [
    "# 2) MA(C)ID subgames <a name=\"subgame\"></a>"
   ]
  },
  {
   "cell_type": "markdown",
   "metadata": {
    "id": "jN4KcSYVWnvx"
   },
   "source": [
    "In Hammond et al (2021), we defined MAID subgames which, when parameterised as MAIMs, expose parts of the game that can be solved independently."
   ]
  },
  {
   "cell_type": "markdown",
   "metadata": {
    "id": "64MGyILXWnvx"
   },
   "source": [
    "\n",
    "<div class=\"alert alert-block alert-info\">\n",
    "<b>Definition:</b> A <b> subgame base </b> for a MAID $(\\textbf{N}, \\textbf{V}, \\textbf{E})$ is a subset $\\textbf{V'}\\subseteq \\textbf{V}$ such that:\n",
    "\n",
    "- For any $X,Y\\in \\textbf{V}'$ and any directed path $X \\to \\cdots \\to Y$ in $\\mathcal{M}$, all nodes on the path are also in $\\textbf{V'}$.\n",
    "- $\\textbf{V}'$ is closed under r-reachability, i.e.\\ if a node $Z$ is r-reachable from a decision $D\\in \\textbf{V'}$, then $Z$ is also in $\\textbf{V'}$.\n",
    "</div> \n",
    "\n",
    "\n",
    "\n",
    "\n"
   ]
  },
  {
   "cell_type": "markdown",
   "metadata": {
    "id": "BALQvBQuWnvx"
   },
   "source": [
    "<div class=\"alert alert-block alert-info\">\n",
    "<b>Definition:</b> Let $\\mathcal{M} = (\\textbf{N}, \\textbf{V}, \\textbf{E})$ be a MAID,\n",
    "    and let $\\textbf{V'}\\subseteq \\textbf{V}$ be a subgame base. The <b>MAID subgame</b> corresponding to $\\textbf{V'}$, is a new MAID $\\mathcal{M}'=(\\textbf{N'}, \\textbf{V'}, \\textbf{E}')$  where:\n",
    "\n",
    "- $\\textbf{N'} = \\{i \\in \\textbf{N} \\mid \\textbf{D}^i \\cap \\textbf{V'} \\neq \\varnothing \\}$, the players restricted to $\\textbf{V'}$.\n",
    "- $\\textbf{V'}$ is partitioned into $\\textbf{D'} = \\textbf{D}\\cap \\textbf{V'}$, $\\textbf{U'} = \\textbf{U} \\cap \\textbf{Desc}_{\\textbf{D'}}$, and $\\textbf{X'} = \\textbf{V'} \\setminus (\\textbf{D'} \\cap \\textbf{U'})$.\n",
    "- $\\textbf{E}'$ is the subset of edges in $\\textbf{E}$ that connect two nodes in $\\textbf{V'}$. \n",
    "</div> "
   ]
  },
  {
   "cell_type": "markdown",
   "metadata": {
    "id": "_P7pWg_JWnvx"
   },
   "source": [
    "<div class=\"alert alert-block alert-info\">\n",
    "    <b>Definition:</b> The <b> MAIM subgame </b> of a MAIM $(\\textbf{N}, \\textbf{V}, \\textbf{E}, \\theta)$ corresponding to a subset $\\textbf{V'}\\subseteq \\textbf{V}$ and an instantiation $\\textbf{y}$ of the nodes $\\textbf{Y} = \\textbf{V}\\setminus \\textbf{V'}$, is the modified MAIM $(\\textbf{N'}, \\textbf{V'}, \\textbf{E}', \\theta')$ where:\n",
    " \n",
    "- $(\\textbf{N'}, \\textbf{V'}, \\textbf{E}')$ is the MAID subgame corresponding to $\\textbf{V'}$.\n",
    "- $\\theta'$ is like $\\theta$, restricted to nodes in $\\textbf{V'}$. If a node $X\\in \\textbf{V'}$ has some parents outside of $\\textbf{V'}$ (i.e.\\ in $\\textbf{Y}$) then $\\Pr'(X\\mid \\textbf{pa}'_X) = \\Pr(X\\mid \\textbf{pa}'_X, \\textbf{y}')$, where $\\textbf{Pa}'_X=\\textbf{Pa}_X\\cap \\textbf{V'}$, $\\textbf{Y}' = \\textbf{Pa}_X\\cap \\textbf{Y}$, $\\textbf{Pr}$ is the CPD of $X$ in $\\theta$, and $\\textbf{Pr}'$ becomes the CPD of $X$ in $\\theta'$.\n",
    "</div> "
   ]
  },
  {
   "cell_type": "markdown",
   "metadata": {
    "id": "L_shMAwBWnvx"
   },
   "source": [
    "MAID subgames can also be defined via the strongly connected components of the the MAID's relevance graph. \n",
    "\n",
    "Recall that an SCC is a subgraph containing a directed path between every pair of nodes. A maximal SCC is an SCC that is not a strict subset of any other SCC:"
   ]
  },
  {
   "cell_type": "markdown",
   "metadata": {
    "id": "F_i2s9WgWnvy"
   },
   "source": [
    "<div class=\"alert alert-block alert-info\">\n",
    "    <b>Definition:</b> For a given MAID $\\mathcal{M} = (\\textbf{N}, \\textbf{V}, \\textbf{E})$, let $\\textbf{C}$ be the set of maximal SCCs of its relevance graph $Rel(\\mathcal{M})$. The <b>condensed relevance graph </b> of $\\mathcal{M}$ is the directed graph $ConRel(\\mathcal{M}) = (\\textbf{C}, \\textbf{E}_{ConRel})$. There is an edge $\\textbf{C}_m \\rightarrow \\textbf{C}_l$ between $\\textbf{C}_m, \\textbf{C}_l\\in\\textbf{C}$ if and only if there exists $C_m\\in \\textbf{C}_m$ and $C_l\\in \\textbf{C}_l$ with and edge $C_m\\to C_l$ in $Rel(\\mathcal{M})$.\n",
    "    \n",
    "    \n",
    "    \n",
    "</div> "
   ]
  },
  {
   "cell_type": "markdown",
   "metadata": {
    "id": "nb40suITWnvy"
   },
   "source": [
    "Subgraphs of $ConRel(\\mathcal{M})$ closed under descendants induce MAID subgames."
   ]
  },
  {
   "cell_type": "markdown",
   "metadata": {
    "id": "1WwKmg0CWnvy"
   },
   "source": [
    "Consider the MACID below:"
   ]
  },
  {
   "cell_type": "code",
   "execution_count": 8,
   "metadata": {
    "id": "b7HBK54yWnvy"
   },
   "outputs": [],
   "source": [
    "macid = pycid.MACID(\n",
    "    [\n",
    "        (\"X2\", \"U3\"),\n",
    "        (\"X2\", \"D1\"),\n",
    "        (\"D3\", \"U3\"),\n",
    "        (\"D3\", \"U2\"),\n",
    "        (\"D1\", \"U1\"),\n",
    "        (\"D1\", \"U2\"),\n",
    "        (\"D2\", \"U1\"),\n",
    "        (\"D2\", \"U2\"),\n",
    "        (\"D4\", \"U1\"),\n",
    "        (\"D4\", \"D2\"),\n",
    "        (\"D4\", \"U4\"),\n",
    "        (\"X1\", \"D4\"),\n",
    "        (\"X1\", \"U4\"),\n",
    "    ],\n",
    "    agent_decisions={1: [\"D1\"], 2: [\"D2\"], 3: [\"D3\"], 4: [\"D4\"]},\n",
    "    agent_utilities={1: [\"U1\"], 2: [\"U2\"], 3: [\"U3\"], 4: [\"U4\"]},\n",
    ")"
   ]
  },
  {
   "cell_type": "code",
   "execution_count": 9,
   "metadata": {
    "id": "rzxDCWl8Wnvy",
    "outputId": "ec4ea226-2123-475a-d953-3e6021e36c10"
   },
   "outputs": [
    {
     "data": {
      "image/png": "[encoded data removed]",
      "text/plain": [
       "<Figure size 432x288 with 1 Axes>"
      ]
     },
     "metadata": {},
     "output_type": "display_data"
    }
   ],
   "source": [
    "macid.draw()"
   ]
  },
  {
   "cell_type": "code",
   "execution_count": 10,
   "metadata": {
    "id": "FCtfZjfGWnvy",
    "outputId": "714a791e-2abb-40c7-889a-f59fa134f116"
   },
   "outputs": [
    {
     "data": {
      "image/png": "[encoded data removed]",
      "text/plain": [
       "<Figure size 432x288 with 1 Axes>"
      ]
     },
     "metadata": {},
     "output_type": "display_data"
    }
   ],
   "source": [
    "pycid.RelevanceGraph(macid).draw()"
   ]
  },
  {
   "cell_type": "code",
   "execution_count": 11,
   "metadata": {
    "id": "9_wZ3n7iWnvz",
    "outputId": "ae96fac4-14fa-4fa0-f5ad-5cad4c18f926"
   },
   "outputs": [
    {
     "data": {
      "image/png": "[encoded data removed]",
      "text/plain": [
       "<Figure size 432x288 with 1 Axes>"
      ]
     },
     "metadata": {},
     "output_type": "display_data"
    }
   ],
   "source": [
    "pycid.RelevanceGraph(macid).draw_sccs()  # each SCC of the MACID's relevance graph is assigned a unique colour"
   ]
  },
  {
   "cell_type": "code",
   "execution_count": 12,
   "metadata": {
    "id": "Juawz3HnWnvz",
    "outputId": "19033062-7d73-4265-b1a0-f63ede1f48a4"
   },
   "outputs": [
    {
     "data": {
      "image/png": "[encoded data removed]",
      "text/plain": [
       "<Figure size 432x288 with 1 Axes>"
      ]
     },
     "metadata": {},
     "output_type": "display_data"
    }
   ],
   "source": [
    "pycid.CondensedRelevanceGraph(macid).draw()  # the condensed relevance graph is always acyclic."
   ]
  },
  {
   "cell_type": "code",
   "execution_count": 13,
   "metadata": {
    "id": "REKpqJDmWnvz"
   },
   "outputs": [],
   "source": [
    "con_rel = pycid.CondensedRelevanceGraph(macid)"
   ]
  },
  {
   "cell_type": "code",
   "execution_count": 14,
   "metadata": {
    "id": "K7jqvPk6Wnv0",
    "outputId": "fcc3331d-5e66-45c8-ef05-7d107b846fea"
   },
   "outputs": [
    {
     "data": {
      "text/plain": [
       "{'D3': 0, 'D4': 1, 'D2': 2, 'D1': 2}"
      ]
     },
     "execution_count": 14,
     "metadata": {},
     "output_type": "execute_result"
    }
   ],
   "source": [
    "con_rel.graph[\"mapping\"]  # this tells you which SCC each decision node is in."
   ]
  },
  {
   "cell_type": "code",
   "execution_count": 15,
   "metadata": {
    "id": "H82gq-hXWnv0",
    "outputId": "5797a1d3-5194-410b-ef65-801c85c04b58"
   },
   "outputs": [
    {
     "data": {
      "text/plain": [
       "[{'D3'}, {'D4'}, {'D3', 'D4'}, {'D1', 'D2', 'D3', 'D4'}]"
      ]
     },
     "execution_count": 15,
     "metadata": {},
     "output_type": "execute_result"
    }
   ],
   "source": [
    "macid.decs_in_each_maid_subgame()  # this gives the set of decision nodes in each MAID subgame of the original MAID."
   ]
  },
  {
   "cell_type": "markdown",
   "metadata": {
    "id": "jHW1Yf0wWnv0"
   },
   "source": [
    "# 3) Multi-agent Influence Models (MAIMs) <a name=\"maim\"></a>"
   ]
  },
  {
   "cell_type": "markdown",
   "metadata": {
    "id": "_OtTPgxoWnv0"
   },
   "source": [
    "Earlier, we explained that a MACIM is a parameterised MACID. To demonstrate this, we'll create a MAIM for The Prisoner's Dilemma."
   ]
  },
  {
   "cell_type": "markdown",
   "metadata": {
    "id": "xpbtHlDQWnv0"
   },
   "source": [
    "This is a simultaneous symmetric two-player game with payoffs corresponding to the following normal\n",
    "form game - the row player is agent 1 and the column player is agent 2:  \n",
    "  "
   ]
  },
  {
   "cell_type": "markdown",
   "metadata": {},
   "source": [
    "|    |Cooperate|Defect|\n",
    "|-----|-----|-----| \n",
    "|Cooperate|-1,-1|-3,0|\n",
    "|Defect|0,-3|-2,-2|\n"
   ]
  },
  {
   "cell_type": "code",
   "execution_count": 16,
   "metadata": {
    "id": "esVoOOj6Wnv0"
   },
   "outputs": [],
   "source": [
    "macid = pycid.MACID(\n",
    "    [(\"D1\", \"U1\"), (\"D1\", \"U2\"), (\"D2\", \"U2\"), (\"D2\", \"U1\")],  # Specifiying the MACID for this example as before\n",
    "    agent_decisions={1: [\"D1\"], 2: [\"D2\"]},\n",
    "    agent_utilities={1: [\"U1\"], 2: [\"U2\"]},\n",
    ")\n",
    "\n",
    "d1_domain = [\"c\", \"d\"]  # specifying the domain of each decision variable\n",
    "d2_domain = [\"c\", \"d\"]\n",
    "\n",
    "agent1_payoff = np.array(\n",
    "    [[-1, -3], [0, -2]]  # specifying the payoff matrices corresponding to the normal form representation\n",
    ")  # of the game shown in the doc string.\n",
    "agent2_payoff = np.transpose(agent1_payoff)\n",
    "\n",
    "\n",
    "macid.add_cpds(\n",
    "    D1=d1_domain,\n",
    "    D2=d1_domain,\n",
    "    U1=lambda D1, D2: agent1_payoff[d1_domain.index(D1), d2_domain.index(D2)],\n",
    "    U2=lambda D1, D2: agent2_payoff[d1_domain.index(D1), d2_domain.index(D2)],\n",
    ")"
   ]
  },
  {
   "cell_type": "markdown",
   "metadata": {
    "id": "keECJ7Y8Wnv1"
   },
   "source": [
    "This is the same as how we parameterised CIDs as CIMs in the CID Basics Tutorial"
   ]
  },
  {
   "cell_type": "code",
   "execution_count": 17,
   "metadata": {
    "id": "BiuG6D9GWnv1",
    "outputId": "e1bf6806-83f0-4e5c-8de6-16ed4df86fa5"
   },
   "outputs": [
    {
     "data": {
      "image/png": "[encoded data removed]",
      "text/plain": [
       "<Figure size 432x288 with 1 Axes>"
      ]
     },
     "metadata": {},
     "output_type": "display_data"
    }
   ],
   "source": [
    "macid.draw()"
   ]
  },
  {
   "cell_type": "markdown",
   "metadata": {
    "id": "M3JwaUf7Wnv1"
   },
   "source": [
    "To find the expected utility that each player receives given a certain context):"
   ]
  },
  {
   "cell_type": "code",
   "execution_count": 18,
   "metadata": {
    "id": "3m4Qss8gWnv1",
    "outputId": "39ddb73f-e882-410e-e666-b07daa07707f"
   },
   "outputs": [
    {
     "data": {
      "text/plain": [
       "0.0"
      ]
     },
     "execution_count": 18,
     "metadata": {},
     "output_type": "execute_result"
    }
   ],
   "source": [
    "macid.impute_fully_mixed_policy_profile() # we first must assign arbirtrary (but fully mixed) decision rules to all decision nodes\n",
    "macid.expected_utility(context={\"D1\": \"d\", \"D2\": \"c\"}, agent=1)"
   ]
  },
  {
   "cell_type": "code",
   "execution_count": 19,
   "metadata": {
    "id": "lzzwaBOtWnv1",
    "outputId": "d3eee8eb-dd31-45ca-b0da-caa9f63cacbc"
   },
   "outputs": [
    {
     "data": {
      "text/plain": [
       "-3.0"
      ]
     },
     "execution_count": 19,
     "metadata": {},
     "output_type": "execute_result"
    }
   ],
   "source": [
    "macid.expected_utility({\"D1\": \"d\", \"D2\": \"c\"}, agent=2)"
   ]
  },
  {
   "cell_type": "markdown",
   "metadata": {
    "id": "su2oxGnOWnv2"
   },
   "source": [
    "# 4) Nash Equilibria in MAIMs <a name=\"ne\"></a>"
   ]
  },
  {
   "cell_type": "markdown",
   "metadata": {
    "id": "aYnHOlAUWnv2"
   },
   "source": [
    "<div class=\"alert alert-block alert-info\">\n",
    "    <b>Definition:</b> A full policy profile $\\pi$ is a <b>Nash equilibrium (NE)</b> in a MAIM $\\mathcal{M}$ if, for every player $i \\in \\textbf{N}$, $\\mathcal{U}^i_\\mathcal{M}(\\pi^i, \\pi^{-i}) \\geq \\mathcal{U}^i_\\mathcal{M}(\\hat{\\pi}^i, \\pi^{-i})$ for all $\\hat{\\pi}^i \\in \\Pi^i$.\n",
    " </div>"
   ]
  },
  {
   "cell_type": "markdown",
   "metadata": {
    "id": "BtWRaCdKWnv2"
   },
   "source": [
    "To find all pure NE in this MACID:"
   ]
  },
  {
   "cell_type": "code",
   "execution_count": 20,
   "metadata": {
    "id": "-QBTe6p-Wnv2",
    "outputId": "74810ba3-1ce0-47db-ff67-4a14ab80e51e"
   },
   "outputs": [
    {
     "data": {
      "text/plain": [
       "[[StochasticFunctionCPD<D1> \n",
       "  {}  ->  d,\n",
       "  StochasticFunctionCPD<D2> \n",
       "  {}  ->  d]]"
      ]
     },
     "execution_count": 20,
     "metadata": {},
     "output_type": "execute_result"
    }
   ],
   "source": [
    "macid.get_all_pure_ne()"
   ]
  },
  {
   "cell_type": "markdown",
   "metadata": {
    "id": "KllKEmFgWnv2"
   },
   "source": [
    "This method return a list of all pure Nash equilbiria in the MACID. Each NE comes as a list of FunctionCPDs, one for each decision node in the MACID."
   ]
  },
  {
   "cell_type": "markdown",
   "metadata": {
    "id": "GysUOK2GWnv2"
   },
   "source": [
    "The following method matches each functionCPD in a list of CPDs with its corresponding decision node in the MACID (in other words, it \"assigns\" a partial or joint policy profile:"
   ]
  },
  {
   "cell_type": "code",
   "execution_count": 21,
   "metadata": {
    "id": "MqBqi4BkWnv2",
    "outputId": "3068351c-3e5b-42e7-e815-f161aba105f1",
    "scrolled": true
   },
   "outputs": [
    {
     "data": {
      "text/plain": [
       "{'D1': StochasticFunctionCPD<D1> \n",
       " {}  ->  d,\n",
       " 'D2': StochasticFunctionCPD<D2> \n",
       " {}  ->  d}"
      ]
     },
     "execution_count": 21,
     "metadata": {},
     "output_type": "execute_result"
    }
   ],
   "source": [
    "all_pure_ne = macid.get_all_pure_ne()\n",
    "macid.policy_profile_assignment(all_pure_ne[0])"
   ]
  },
  {
   "cell_type": "markdown",
   "metadata": {
    "id": "4rV9M0SCWnv3"
   },
   "source": [
    "We can find the expected utility for each agent under this NE joint policy profile:"
   ]
  },
  {
   "cell_type": "code",
   "execution_count": 22,
   "metadata": {
    "id": "tOw93APKWnv3"
   },
   "outputs": [],
   "source": [
    "macid.add_cpds(*all_pure_ne[0])"
   ]
  },
  {
   "cell_type": "code",
   "execution_count": 23,
   "metadata": {
    "id": "9yOyFAVvWnv3",
    "outputId": "5cf1e5d0-4ea8-499f-fc73-94c154fcd11a"
   },
   "outputs": [
    {
     "data": {
      "text/plain": [
       "-2.0"
      ]
     },
     "execution_count": 23,
     "metadata": {},
     "output_type": "execute_result"
    }
   ],
   "source": [
    "macid.expected_utility({}, agent=1)"
   ]
  },
  {
   "cell_type": "code",
   "execution_count": 24,
   "metadata": {
    "id": "zqkghF9RWnv3",
    "outputId": "cef192dd-0031-49ab-e833-d92f51d129ca"
   },
   "outputs": [
    {
     "data": {
      "text/plain": [
       "-2.0"
      ]
     },
     "execution_count": 24,
     "metadata": {},
     "output_type": "execute_result"
    }
   ],
   "source": [
    "macid.expected_utility({}, agent=2)"
   ]
  },
  {
   "cell_type": "markdown",
   "metadata": {
    "id": "DB4yJdELWnv3"
   },
   "source": [
    "# 5) Subgame Perfect Equilbria in MAIMs <a name=\"spe\"></a>"
   ]
  },
  {
   "cell_type": "markdown",
   "metadata": {
    "id": "cYgk0nPfWnv3"
   },
   "source": [
    "<div class=\"alert alert-block alert-info\">\n",
    "    <b>Definition:</b> A full policy profile $\\pi$ is a <b>subgame perfect equilibrium (SPE)</b> in a MAIM $\\mathcal{M}$ if $\\pi$ is an NE in every MAIM subgame of $\\mathcal{M}$.\n",
    " </div>"
   ]
  },
  {
   "cell_type": "markdown",
   "metadata": {
    "id": "qUBn0JPXWnv3"
   },
   "source": [
    "__Taxi Competition Example__ (Hammond et al, 2021) _Two autonomous taxis, operated by different companies, are driving along a road with two hotels located next to one another -- one expensive and one cheap. Each taxi must decide (one first, then the other) which hotel to stop in front of, knowing that it will likely receive a higher tip from guests of the expensive hotel. However, if both taxis choose the same location, this will reduce each taxi's chance of being chosen by that hotel's guests._"
   ]
  },
  {
   "cell_type": "markdown",
   "metadata": {
    "id": "yHpN6oghWnv3"
   },
   "source": [
    "The payoffs are as folllows:"
   ]
  },
  {
   "cell_type": "markdown",
   "metadata": {
    "id": "i4g-RxncWnv4"
   },
   "source": [
    "|    |Expensive|Cheap|\n",
    "|-----|-----|-----| \n",
    "|Expensive|2,2|5,3|\n",
    "|Cheap|3,5|1,1|"
   ]
  },
  {
   "cell_type": "markdown",
   "metadata": {
    "id": "_kk3wLllWnv4"
   },
   "source": [
    "The MAID for this example is pretty simple:"
   ]
  },
  {
   "cell_type": "code",
   "execution_count": 25,
   "metadata": {
    "id": "gTDUyQPqWnv4"
   },
   "outputs": [],
   "source": [
    "macid = pycid.MACID(\n",
    "    [(\"D1\", \"D2\"), (\"D1\", \"U1\"), (\"D1\", \"U2\"), (\"D2\", \"U2\"), (\"D2\", \"U1\")],\n",
    "    agent_decisions={1: [\"D1\"], 2: [\"D2\"]},\n",
    "    agent_utilities={1: [\"U1\"], 2: [\"U2\"]},\n",
    ")\n",
    "\n",
    "d1_domain = [\"e\", \"c\"]\n",
    "d2_domain = [\"e\", \"c\"]\n",
    "agent1_payoff = np.array([[2, 5], [3, 1]])\n",
    "agent2_payoff = agent1_payoff.T\n",
    "\n",
    "macid.add_cpds(\n",
    "    D1=d1_domain,\n",
    "    D2=d2_domain,\n",
    "    U1=lambda D1, D2: agent1_payoff[d1_domain.index(D1), d2_domain.index(D2)],\n",
    "    U2=lambda D1, D2: agent2_payoff[d1_domain.index(D1), d2_domain.index(D2)],\n",
    ")"
   ]
  },
  {
   "cell_type": "code",
   "execution_count": 26,
   "metadata": {
    "id": "oIHv5cv-Wnv4",
    "outputId": "5733fa1c-a0b8-4405-8894-cb3c076a820d"
   },
   "outputs": [
    {
     "data": {
      "image/png": "[encoded data removed]",
      "text/plain": [
       "<Figure size 432x288 with 1 Axes>"
      ]
     },
     "metadata": {},
     "output_type": "display_data"
    }
   ],
   "source": [
    "macid.draw(node_label=None)"
   ]
  },
  {
   "cell_type": "code",
   "execution_count": 27,
   "metadata": {
    "id": "1LKsspHeWnv5",
    "outputId": "676d09fc-7bff-402c-acbc-aba6e3aca12c"
   },
   "outputs": [
    {
     "data": {
      "image/png": "[encoded data removed]",
      "text/plain": [
       "<Figure size 432x288 with 1 Axes>"
      ]
     },
     "metadata": {},
     "output_type": "display_data"
    }
   ],
   "source": [
    "pycid.RelevanceGraph(macid).draw()"
   ]
  },
  {
   "cell_type": "markdown",
   "metadata": {
    "id": "2zdxCY8_Wnv5"
   },
   "source": [
    "This MACIM has three pure NE"
   ]
  },
  {
   "cell_type": "code",
   "execution_count": 28,
   "metadata": {
    "id": "YWBPQV0NWnv5",
    "outputId": "0997a455-8381-4a28-a4c4-19039060c381"
   },
   "outputs": [
    {
     "data": {
      "text/plain": [
       "[[StochasticFunctionCPD<D1> \n",
       "  {}  ->  e,\n",
       "  StochasticFunctionCPD<D2> \n",
       "  {'D1': 'c'}  ->  e\n",
       "  {'D1': 'e'}  ->  c],\n",
       " [StochasticFunctionCPD<D1> \n",
       "  {}  ->  e,\n",
       "  StochasticFunctionCPD<D2> \n",
       "  {'D1': 'c'}  ->  c\n",
       "  {'D1': 'e'}  ->  c],\n",
       " [StochasticFunctionCPD<D1> \n",
       "  {}  ->  c,\n",
       "  StochasticFunctionCPD<D2> \n",
       "  {'D1': 'c'}  ->  e\n",
       "  {'D1': 'e'}  ->  e]]"
      ]
     },
     "execution_count": 28,
     "metadata": {},
     "output_type": "execute_result"
    }
   ],
   "source": [
    "macid.get_all_pure_ne()"
   ]
  },
  {
   "cell_type": "markdown",
   "metadata": {
    "id": "mcQ_zC2HWnv5"
   },
   "source": [
    "It has one proper MAID subgame:"
   ]
  },
  {
   "cell_type": "code",
   "execution_count": 29,
   "metadata": {
    "id": "c2WCPGtPWnv5",
    "outputId": "09a34764-bce5-44e7-ae46-d5115bcc88d8"
   },
   "outputs": [
    {
     "data": {
      "text/plain": [
       "[{'D2'}, {'D1', 'D2'}]"
      ]
     },
     "execution_count": 29,
     "metadata": {},
     "output_type": "execute_result"
    }
   ],
   "source": [
    "macid.decs_in_each_maid_subgame()"
   ]
  },
  {
   "cell_type": "markdown",
   "metadata": {
    "id": "4gJDQ_7SWnv5"
   },
   "source": [
    "We can find the NE in the proper MAID subgame:"
   ]
  },
  {
   "cell_type": "code",
   "execution_count": 30,
   "metadata": {
    "id": "dkV7P22TWnv5",
    "outputId": "644bcd46-dee5-4fd0-f8ba-e89a39e3c8c9"
   },
   "outputs": [
    {
     "data": {
      "text/plain": [
       "[[StochasticFunctionCPD<D2> \n",
       "  {'D1': 'c'}  ->  e\n",
       "  {'D1': 'e'}  ->  c]]"
      ]
     },
     "execution_count": 30,
     "metadata": {},
     "output_type": "execute_result"
    }
   ],
   "source": [
    "macid.get_all_pure_ne_in_sg(decisions_in_sg=[\"D2\"])"
   ]
  },
  {
   "cell_type": "markdown",
   "metadata": {
    "id": "2a-B-FPaWnv5"
   },
   "source": [
    "To find all SPE in this MACIM:"
   ]
  },
  {
   "cell_type": "code",
   "execution_count": 31,
   "metadata": {
    "id": "EbrsFjx7Wnv6",
    "outputId": "9c967ca5-35db-421c-d740-cec84c5111ec"
   },
   "outputs": [
    {
     "data": {
      "text/plain": [
       "[[StochasticFunctionCPD<D2> \n",
       "  {'D1': 'c'}  ->  e\n",
       "  {'D1': 'e'}  ->  c,\n",
       "  StochasticFunctionCPD<D1> \n",
       "  {}  ->  e]]"
      ]
     },
     "execution_count": 31,
     "metadata": {},
     "output_type": "execute_result"
    }
   ],
   "source": [
    "macid.get_all_pure_spe()"
   ]
  },
  {
   "cell_type": "markdown",
   "metadata": {
    "id": "748iL-JkWnv6"
   },
   "source": [
    "Each player's expected utility under this SPE joint policy profile:"
   ]
  },
  {
   "cell_type": "code",
   "execution_count": 32,
   "metadata": {
    "id": "pPLs_qyoWnv6"
   },
   "outputs": [],
   "source": [
    "macid.add_cpds(*macid.get_all_pure_spe()[0])"
   ]
  },
  {
   "cell_type": "code",
   "execution_count": 33,
   "metadata": {
    "id": "2ia4UC3-Wnv6",
    "outputId": "b4184490-b2a5-4a0e-f2bb-982fdfe1bb7c"
   },
   "outputs": [
    {
     "data": {
      "text/plain": [
       "5.0"
      ]
     },
     "execution_count": 33,
     "metadata": {},
     "output_type": "execute_result"
    }
   ],
   "source": [
    "macid.expected_utility({}, agent=1)"
   ]
  },
  {
   "cell_type": "code",
   "execution_count": 34,
   "metadata": {
    "id": "hvAqjSiHWnv6",
    "outputId": "b878758d-51df-4596-b8ff-fe1ae548ff4f"
   },
   "outputs": [
    {
     "data": {
      "text/plain": [
       "3.0"
      ]
     },
     "execution_count": 34,
     "metadata": {},
     "output_type": "execute_result"
    }
   ],
   "source": [
    "macid.expected_utility({}, agent=2)"
   ]
  },
  {
   "cell_type": "markdown",
   "metadata": {
    "id": "ksiKaWdGWnv6"
   },
   "source": [
    "If we change the player 2's payoff matrix to:"
   ]
  },
  {
   "cell_type": "code",
   "execution_count": 35,
   "metadata": {
    "id": "KpEyN-SFWnv6"
   },
   "outputs": [],
   "source": [
    "agent2_payoff = np.array([[2, 5], [3, 5]])\n",
    "cpd_u2 = pycid.StochasticFunctionCPD(\n",
    "    \"U2\", lambda D1, D2: agent2_payoff[d2_domain.index(D2), d1_domain.index(D1)], macid\n",
    ")"
   ]
  },
  {
   "cell_type": "markdown",
   "metadata": {
    "id": "S5EiOq3KWnv7"
   },
   "source": [
    "There is now a tie-break where if the value of D1 is 'c', agent 2 is indifferent between each of their actions. This means that there is more than one SPE:"
   ]
  },
  {
   "cell_type": "code",
   "execution_count": 36,
   "metadata": {
    "id": "gjCm2FeoWnv7"
   },
   "outputs": [],
   "source": [
    "macid.add_cpds(cpd_u2)"
   ]
  },
  {
   "cell_type": "code",
   "execution_count": 37,
   "metadata": {
    "id": "_SLFOHGKWnv7",
    "outputId": "d7877b7b-e006-47d0-a654-00d6dcad5a26"
   },
   "outputs": [
    {
     "data": {
      "text/plain": [
       "[[StochasticFunctionCPD<D2> \n",
       "  {'D1': 'c'}  ->  e\n",
       "  {'D1': 'e'}  ->  c,\n",
       "  StochasticFunctionCPD<D1> \n",
       "  {}  ->  e],\n",
       " [StochasticFunctionCPD<D2> \n",
       "  {'D1': 'c'}  ->  c\n",
       "  {'D1': 'e'}  ->  c,\n",
       "  StochasticFunctionCPD<D1> \n",
       "  {}  ->  e]]"
      ]
     },
     "execution_count": 37,
     "metadata": {},
     "output_type": "execute_result"
    }
   ],
   "source": [
    "macid.get_all_pure_spe()"
   ]
  },
  {
   "cell_type": "code",
   "execution_count": 38,
   "metadata": {
    "id": "h62A9xmWWnv7",
    "outputId": "51fcb2cf-f833-4111-f06e-b8ceb96afb52"
   },
   "outputs": [
    {
     "name": "stdout",
     "output_type": "stream",
     "text": [
      "2\n"
     ]
    }
   ],
   "source": [
    "print(len(macid.get_all_pure_spe()))"
   ]
  },
  {
   "cell_type": "code",
   "execution_count": 39,
   "metadata": {
    "id": "Hv7kmNjoWnv7"
   },
   "outputs": [],
   "source": [
    "cid = pycid.random_cid(\n",
    "    number_of_nodes=10,\n",
    "    number_of_decisions=2,\n",
    "    number_of_utilities=3,\n",
    "    add_cpds=False,\n",
    "    sufficient_recall=False,\n",
    "    edge_density=0.4,\n",
    "    max_in_degree=5,\n",
    "    max_resampling_attempts=100,\n",
    ")"
   ]
  },
  {
   "cell_type": "code",
   "execution_count": 40,
   "metadata": {
    "id": "xgC1vRquWnv7",
    "outputId": "8a997585-ebb9-4462-fd0d-e615078a3260"
   },
   "outputs": [
    {
     "data": {
      "image/png": "[encoded data removed]",
      "text/plain": [
       "<Figure size 432x288 with 1 Axes>"
      ]
     },
     "metadata": {},
     "output_type": "display_data"
    }
   ],
   "source": [
    "cid.draw()"
   ]
  },
  {
   "cell_type": "code",
   "execution_count": 41,
   "metadata": {
    "id": "hYMc3tUtWnv7"
   },
   "outputs": [],
   "source": [
    "macid = pycid.random_macid(\n",
    "    number_of_nodes=12,\n",
    "    agent_decisions_num=(1, 3),\n",
    "    agent_utilities_num=(2, 2),\n",
    "    add_cpds=False,\n",
    "    sufficient_recall=False,\n",
    "    edge_density=0.4,\n",
    "    max_in_degree=5,\n",
    "    max_resampling_attempts=1000,\n",
    ")"
   ]
  },
  {
   "cell_type": "code",
   "execution_count": 42,
   "metadata": {
    "id": "vrJ_mvjYWnv7",
    "outputId": "81510e02-88f1-4a46-dc57-9ab9891faa22"
   },
   "outputs": [
    {
     "data": {
      "image/png": "[encoded data removed]",
      "text/plain": [
       "<Figure size 432x288 with 1 Axes>"
      ]
     },
     "metadata": {},
     "output_type": "display_data"
    }
   ],
   "source": [
    "macid.draw()"
   ]
  },
  {
   "cell_type": "markdown",
   "metadata": {
    "id": "LXBpmljpWnv8"
   },
   "source": [
    "## References\n",
    "\n",
    "Hammond, L., Fox, J., Everitt, T., Abate, A., & Wooldridge, M. (2021). Equilibrium Refinements for Multi-Agent Influence Diagrams: Theory and Practice. arXiv preprint arXiv:2102.05008.\n",
    "\n",
    "J., Pearl. (2009) .Causality. Cambridge University Press, Cambridge, UK"
   ]
  }
 ],
 "metadata": {
  "colab": {
   "name": "MACID_Basics_Tutorial.ipynb",
   "provenance": []
  },
  "kernelspec": {
   "display_name": "Python 3.9.12 ('pycid_39')",
   "language": "python",
   "name": "python3"
  },
  "language_info": {
   "codemirror_mode": {
    "name": "ipython",
    "version": 3
   },
   "file_extension": ".py",
   "mimetype": "text/x-python",
   "name": "python",
   "nbconvert_exporter": "python",
   "pygments_lexer": "ipython3",
   "version": "3.9.12"
  },
  "vscode": {
   "interpreter": {
    "hash": "02e297aae6fb6af14e7076c6e8d23bd54d4d73aa8cf4583f48de89a83ecfbbac"
   }
  }
 },
 "nbformat": 4,
 "nbformat_minor": 0
}
